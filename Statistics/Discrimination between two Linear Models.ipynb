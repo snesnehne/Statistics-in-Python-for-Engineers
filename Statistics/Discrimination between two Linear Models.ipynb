{
 "cells": [
  {
   "cell_type": "code",
   "execution_count": 1,
   "id": "6f8af873-0aa2-444c-a08d-0c27a93d294a",
   "metadata": {},
   "outputs": [],
   "source": [
    "import statsmodels.api as sm\n",
    "import statsmodels.formula.api as smf\n",
    "from sklearn import linear_model, preprocessing\n",
    "from scipy import stats\n",
    "\n",
    "import numpy as np\n",
    "import matplotlib.pyplot as plt\n",
    "import pandas as pd"
   ]
  },
  {
   "cell_type": "markdown",
   "id": "46c89f5d-41ee-4bea-bfaf-5478940cf7a6",
   "metadata": {},
   "source": [
    "## Methods\n"
   ]
  },
  {
   "cell_type": "markdown",
   "id": "7bbb79d8-5462-4eb2-aeac-cb02ec98a51d",
   "metadata": {},
   "source": [
    "https://stats.oarc.ucla.edu/other/mult-pkg/faq/general/faqhow-are-the-likelihood-ratio-wald-and-lagrange-multiplier-score-tests-different-andor-similar/#:~:text=The%20Wald%20test%20works%20by,are%20simultaneously%20equal%20to%20zero\n",
    "\n",
    "\n"
   ]
  },
  {
   "cell_type": "markdown",
   "id": "ef39c317-8d0b-418d-8625-a02fc0f0b37d",
   "metadata": {},
   "source": [
    "## Data"
   ]
  },
  {
   "cell_type": "code",
   "execution_count": 2,
   "id": "a577d9da-ed15-4aab-a2a5-a8f1a303ec52",
   "metadata": {},
   "outputs": [],
   "source": [
    "## Generate two groups of example data with some normally distributed noise\n",
    "g1_count = 100  # group 1 number of datapoints\n",
    "g2_count = 100  # group 2 number of datapoints\n",
    "\n",
    "x1 = np.arange(15, 25, 10/g1_count)  # array of x values for group 1\n",
    "y1 = 1000*x1 + 3000 + 1000*np.random.normal(loc=0, scale=3, size=g1_count)  # array of x values for group 2\n",
    "\n",
    "x2 = np.arange(0, 10, 10/g2_count)  # array of y values for group 1\n",
    "y2 = 1400*x2 + 3000 + 1000*np.random.normal(loc=0, scale=3, size=g2_count)  # array of y values for group 2\n",
    "\n",
    "df = pd.DataFrame({\"x1\": x1, \"x2\": x2, \"y1\": y1, \"y2\": y2})  # create dataframe"
   ]
  },
  {
   "cell_type": "code",
   "execution_count": 3,
   "id": "3e1f6a20-6a47-40b9-994b-bcb07c1ea221",
   "metadata": {},
   "outputs": [
    {
     "data": {
      "text/plain": [
       "(array([ 4.,  6., 14.,  9., 17., 13., 20.,  9.,  5.,  3.]),\n",
       " array([18895.31807737, 20795.52447146, 22695.73086555, 24595.93725964,\n",
       "        26496.14365372, 28396.35004781, 30296.5564419 , 32196.76283599,\n",
       "        34096.96923008, 35997.17562417, 37897.38201826]),\n",
       " <BarContainer object of 10 artists>)"
      ]
     },
     "execution_count": 3,
     "metadata": {},
     "output_type": "execute_result"
    },
    {
     "data": {
      "image/png": "[encoded data removed]",
      "text/plain": [
       "<Figure size 432x288 with 1 Axes>"
      ]
     },
     "metadata": {
      "needs_background": "light"
     },
     "output_type": "display_data"
    }
   ],
   "source": [
    "plt.hist(df[\"y1\"])"
   ]
  },
  {
   "cell_type": "code",
   "execution_count": 4,
   "id": "2a605d30-de9c-4345-9248-9fd109ff8d43",
   "metadata": {},
   "outputs": [
    {
     "data": {
      "text/html": [
       "<div>\n",
       "<style scoped>\n",
       "    .dataframe tbody tr th:only-of-type {\n",
       "        vertical-align: middle;\n",
       "    }\n",
       "\n",
       "    .dataframe tbody tr th {\n",
       "        vertical-align: top;\n",
       "    }\n",
       "\n",
       "    .dataframe thead th {\n",
       "        text-align: right;\n",
       "    }\n",
       "</style>\n",
       "<table border=\"1\" class=\"dataframe\">\n",
       "  <thead>\n",
       "    <tr style=\"text-align: right;\">\n",
       "      <th></th>\n",
       "      <th>x1</th>\n",
       "      <th>x2</th>\n",
       "      <th>y1</th>\n",
       "      <th>y2</th>\n",
       "    </tr>\n",
       "  </thead>\n",
       "  <tbody>\n",
       "    <tr>\n",
       "      <th>0</th>\n",
       "      <td>20.0</td>\n",
       "      <td>0.0</td>\n",
       "      <td>22792.822005</td>\n",
       "      <td>5313.098288</td>\n",
       "    </tr>\n",
       "    <tr>\n",
       "      <th>1</th>\n",
       "      <td>20.1</td>\n",
       "      <td>0.1</td>\n",
       "      <td>26459.124338</td>\n",
       "      <td>5625.180386</td>\n",
       "    </tr>\n",
       "    <tr>\n",
       "      <th>2</th>\n",
       "      <td>20.2</td>\n",
       "      <td>0.2</td>\n",
       "      <td>19802.638625</td>\n",
       "      <td>5508.647415</td>\n",
       "    </tr>\n",
       "    <tr>\n",
       "      <th>3</th>\n",
       "      <td>20.3</td>\n",
       "      <td>0.3</td>\n",
       "      <td>21090.705280</td>\n",
       "      <td>3460.176732</td>\n",
       "    </tr>\n",
       "    <tr>\n",
       "      <th>4</th>\n",
       "      <td>20.4</td>\n",
       "      <td>0.4</td>\n",
       "      <td>18895.318077</td>\n",
       "      <td>6258.957742</td>\n",
       "    </tr>\n",
       "    <tr>\n",
       "      <th>...</th>\n",
       "      <td>...</td>\n",
       "      <td>...</td>\n",
       "      <td>...</td>\n",
       "      <td>...</td>\n",
       "    </tr>\n",
       "    <tr>\n",
       "      <th>95</th>\n",
       "      <td>29.5</td>\n",
       "      <td>9.5</td>\n",
       "      <td>31965.628634</td>\n",
       "      <td>18241.950982</td>\n",
       "    </tr>\n",
       "    <tr>\n",
       "      <th>96</th>\n",
       "      <td>29.6</td>\n",
       "      <td>9.6</td>\n",
       "      <td>31399.471283</td>\n",
       "      <td>10228.811280</td>\n",
       "    </tr>\n",
       "    <tr>\n",
       "      <th>97</th>\n",
       "      <td>29.7</td>\n",
       "      <td>9.7</td>\n",
       "      <td>36577.126214</td>\n",
       "      <td>16367.372895</td>\n",
       "    </tr>\n",
       "    <tr>\n",
       "      <th>98</th>\n",
       "      <td>29.8</td>\n",
       "      <td>9.8</td>\n",
       "      <td>27306.618185</td>\n",
       "      <td>14314.752284</td>\n",
       "    </tr>\n",
       "    <tr>\n",
       "      <th>99</th>\n",
       "      <td>29.9</td>\n",
       "      <td>9.9</td>\n",
       "      <td>34657.730992</td>\n",
       "      <td>16973.264428</td>\n",
       "    </tr>\n",
       "  </tbody>\n",
       "</table>\n",
       "<p>100 rows × 4 columns</p>\n",
       "</div>"
      ],
      "text/plain": [
       "      x1   x2            y1            y2\n",
       "0   20.0  0.0  22792.822005   5313.098288\n",
       "1   20.1  0.1  26459.124338   5625.180386\n",
       "2   20.2  0.2  19802.638625   5508.647415\n",
       "3   20.3  0.3  21090.705280   3460.176732\n",
       "4   20.4  0.4  18895.318077   6258.957742\n",
       "..   ...  ...           ...           ...\n",
       "95  29.5  9.5  31965.628634  18241.950982\n",
       "96  29.6  9.6  31399.471283  10228.811280\n",
       "97  29.7  9.7  36577.126214  16367.372895\n",
       "98  29.8  9.8  27306.618185  14314.752284\n",
       "99  29.9  9.9  34657.730992  16973.264428\n",
       "\n",
       "[100 rows x 4 columns]"
      ]
     },
     "execution_count": 4,
     "metadata": {},
     "output_type": "execute_result"
    }
   ],
   "source": [
    "df"
   ]
  },
  {
   "cell_type": "code",
   "execution_count": 5,
   "id": "0301154d-8be3-45aa-a637-17dd620b7aa0",
   "metadata": {},
   "outputs": [
    {
     "data": {
      "text/plain": [
       "<matplotlib.collections.PathCollection at 0x249449444f0>"
      ]
     },
     "execution_count": 5,
     "metadata": {},
     "output_type": "execute_result"
    },
    {
     "data": {
      "image/png": "[encoded data removed]",
      "text/plain": [
       "<Figure size 432x288 with 1 Axes>"
      ]
     },
     "metadata": {
      "needs_background": "light"
     },
     "output_type": "display_data"
    }
   ],
   "source": [
    "## Scatterplot of data\n",
    "fig, ax = plt.subplots()\n",
    "\n",
    "ax.scatter(x1,y1)\n",
    "ax.scatter(x2,y2)"
   ]
  },
  {
   "cell_type": "markdown",
   "id": "e4ee6a2d-d505-47b9-8f67-f67c1e11c78c",
   "metadata": {
    "tags": []
   },
   "source": [
    "## Linear models validation"
   ]
  },
  {
   "cell_type": "markdown",
   "id": "00f7b82f-5c6b-406b-a07b-56d2f67cb7d8",
   "metadata": {},
   "source": [
    "Notation used for linear regression\n",
    "$$\\hat{y} (w, x) = \\beta_0 + \\beta_1x_1 + ... + \\beta_px_p$$\n",
    "\n",
    "Where:\n",
    "* $\\hat{y}$ = predicted value\n",
    "* $\\beta_0$ = intercept\n",
    "* $(\\beta_1...\\beta_p)$ = coefficients\n",
    "* $(x_1...x_p)$ = dimensions\n",
    "\n",
    "James, G., Witten, D., Hastie, T., & Tibshirani, R. (2013). An Introduction to Statistical Learning (Vol. 103). Springer New York. https://doi.org/10.1007/978-1-4614-7138-7"
   ]
  },
  {
   "cell_type": "markdown",
   "id": "495b9920-d1ba-49d5-bbb0-baeeaad1300f",
   "metadata": {
    "tags": []
   },
   "source": [
    "### Seperate Models"
   ]
  },
  {
   "cell_type": "markdown",
   "id": "00cab8a3-efed-4828-87da-b97d8b01e097",
   "metadata": {},
   "source": [
    "#### Scikit-learn model"
   ]
  },
  {
   "cell_type": "code",
   "execution_count": 6,
   "id": "293629c3-0c32-4c02-901c-2bb60363b35f",
   "metadata": {},
   "outputs": [
    {
     "name": "stdout",
     "output_type": "stream",
     "text": [
      " y = 1113.8482281427628x + 487.13648637395454\n",
      " y = 1204.2230866238174x + 4021.490250035041\n"
     ]
    }
   ],
   "source": [
    "lm1_sk = linear_model.LinearRegression().fit(x1.reshape(-1,1), y1.reshape(-1,1))\n",
    "lm2_sk = linear_model.LinearRegression().fit(x2.reshape(-1,1), y2.reshape(-1,1))\n",
    "print(f\" y = {lm1_sk.coef_[0][0]}x + {lm1_sk.intercept_[0]}\")\n",
    "print(f\" y = {lm2_sk.coef_[0][0]}x + {lm2_sk.intercept_[0]}\")"
   ]
  },
  {
   "cell_type": "markdown",
   "id": "2fc40a7e-05e2-4b63-97ce-dbbf71f90349",
   "metadata": {},
   "source": [
    "#### Statsmodels model"
   ]
  },
  {
   "cell_type": "markdown",
   "id": "be10bcf2-1052-4df4-be3a-1c3fe462bcfb",
   "metadata": {},
   "source": [
    "Endog is the dependent variable while exog is the independent variable"
   ]
  },
  {
   "cell_type": "code",
   "execution_count": 7,
   "id": "c8ae7b5e-6f30-49fe-aae5-240f180555d4",
   "metadata": {},
   "outputs": [
    {
     "name": "stderr",
     "output_type": "stream",
     "text": [
      "C:\\Users\\Trevor\\anaconda3\\lib\\site-packages\\statsmodels\\tsa\\tsatools.py:142: FutureWarning: In a future version of pandas all arguments of concat except for the argument 'objs' will be keyword-only\n",
      "  x = pd.concat(x[::order], 1)\n"
     ]
    }
   ],
   "source": [
    "x1s = df[\"x1\"]\n",
    "x2s = df[\"x2\"]\n",
    "\n",
    "x1s = sm.add_constant(x1s) # add column of ones to include intercept term in model\n",
    "x2s = sm.add_constant(x2s) # add column of ones to include intercept term in model\n",
    "\n",
    "lm1_sm = sm.OLS(endog=df[\"y1\"], exog=x1s).fit()\n",
    "lm2_sm = sm.OLS(endog=df[\"y2\"], exog=x2s).fit()"
   ]
  },
  {
   "cell_type": "code",
   "execution_count": 8,
   "id": "ee16c553-7c71-4905-a4ca-0ec5bd277827",
   "metadata": {},
   "outputs": [
    {
     "data": {
      "text/plain": [
       "const     487.136486\n",
       "x1       1113.848228\n",
       "dtype: float64"
      ]
     },
     "execution_count": 8,
     "metadata": {},
     "output_type": "execute_result"
    }
   ],
   "source": [
    "lm1_sm.params"
   ]
  },
  {
   "cell_type": "code",
   "execution_count": 9,
   "id": "c7504948-5b99-49ca-853c-797e06bbccf9",
   "metadata": {},
   "outputs": [
    {
     "data": {
      "text/html": [
       "<table class=\"simpletable\">\n",
       "<caption>OLS Regression Results</caption>\n",
       "<tr>\n",
       "  <th>Dep. Variable:</th>           <td>y1</td>        <th>  R-squared:         </th> <td>   0.576</td>\n",
       "</tr>\n",
       "<tr>\n",
       "  <th>Model:</th>                   <td>OLS</td>       <th>  Adj. R-squared:    </th> <td>   0.572</td>\n",
       "</tr>\n",
       "<tr>\n",
       "  <th>Method:</th>             <td>Least Squares</td>  <th>  F-statistic:       </th> <td>   133.4</td>\n",
       "</tr>\n",
       "<tr>\n",
       "  <th>Date:</th>             <td>Sat, 29 Jul 2023</td> <th>  Prob (F-statistic):</th> <td>5.46e-20</td>\n",
       "</tr>\n",
       "<tr>\n",
       "  <th>Time:</th>                 <td>13:34:09</td>     <th>  Log-Likelihood:    </th> <td> -934.04</td>\n",
       "</tr>\n",
       "<tr>\n",
       "  <th>No. Observations:</th>      <td>   100</td>      <th>  AIC:               </th> <td>   1872.</td>\n",
       "</tr>\n",
       "<tr>\n",
       "  <th>Df Residuals:</th>          <td>    98</td>      <th>  BIC:               </th> <td>   1877.</td>\n",
       "</tr>\n",
       "<tr>\n",
       "  <th>Df Model:</th>              <td>     1</td>      <th>                     </th>     <td> </td>   \n",
       "</tr>\n",
       "<tr>\n",
       "  <th>Covariance Type:</th>      <td>nonrobust</td>    <th>                     </th>     <td> </td>   \n",
       "</tr>\n",
       "</table>\n",
       "<table class=\"simpletable\">\n",
       "<tr>\n",
       "    <td></td>       <th>coef</th>     <th>std err</th>      <th>t</th>      <th>P>|t|</th>  <th>[0.025</th>    <th>0.975]</th>  \n",
       "</tr>\n",
       "<tr>\n",
       "  <th>const</th> <td>  487.1365</td> <td> 2422.134</td> <td>    0.201</td> <td> 0.841</td> <td>-4319.510</td> <td> 5293.783</td>\n",
       "</tr>\n",
       "<tr>\n",
       "  <th>x1</th>    <td> 1113.8482</td> <td>   96.436</td> <td>   11.550</td> <td> 0.000</td> <td>  922.474</td> <td> 1305.223</td>\n",
       "</tr>\n",
       "</table>\n",
       "<table class=\"simpletable\">\n",
       "<tr>\n",
       "  <th>Omnibus:</th>       <td> 1.073</td> <th>  Durbin-Watson:     </th> <td>   2.240</td>\n",
       "</tr>\n",
       "<tr>\n",
       "  <th>Prob(Omnibus):</th> <td> 0.585</td> <th>  Jarque-Bera (JB):  </th> <td>   0.871</td>\n",
       "</tr>\n",
       "<tr>\n",
       "  <th>Skew:</th>          <td> 0.229</td> <th>  Prob(JB):          </th> <td>   0.647</td>\n",
       "</tr>\n",
       "<tr>\n",
       "  <th>Kurtosis:</th>      <td> 3.002</td> <th>  Cond. No.          </th> <td>    219.</td>\n",
       "</tr>\n",
       "</table><br/><br/>Notes:<br/>[1] Standard Errors assume that the covariance matrix of the errors is correctly specified."
      ],
      "text/plain": [
       "<class 'statsmodels.iolib.summary.Summary'>\n",
       "\"\"\"\n",
       "                            OLS Regression Results                            \n",
       "==============================================================================\n",
       "Dep. Variable:                     y1   R-squared:                       0.576\n",
       "Model:                            OLS   Adj. R-squared:                  0.572\n",
       "Method:                 Least Squares   F-statistic:                     133.4\n",
       "Date:                Sat, 29 Jul 2023   Prob (F-statistic):           5.46e-20\n",
       "Time:                        13:34:09   Log-Likelihood:                -934.04\n",
       "No. Observations:                 100   AIC:                             1872.\n",
       "Df Residuals:                      98   BIC:                             1877.\n",
       "Df Model:                           1                                         \n",
       "Covariance Type:            nonrobust                                         \n",
       "==============================================================================\n",
       "                 coef    std err          t      P>|t|      [0.025      0.975]\n",
       "------------------------------------------------------------------------------\n",
       "const        487.1365   2422.134      0.201      0.841   -4319.510    5293.783\n",
       "x1          1113.8482     96.436     11.550      0.000     922.474    1305.223\n",
       "==============================================================================\n",
       "Omnibus:                        1.073   Durbin-Watson:                   2.240\n",
       "Prob(Omnibus):                  0.585   Jarque-Bera (JB):                0.871\n",
       "Skew:                           0.229   Prob(JB):                        0.647\n",
       "Kurtosis:                       3.002   Cond. No.                         219.\n",
       "==============================================================================\n",
       "\n",
       "Notes:\n",
       "[1] Standard Errors assume that the covariance matrix of the errors is correctly specified.\n",
       "\"\"\""
      ]
     },
     "execution_count": 9,
     "metadata": {},
     "output_type": "execute_result"
    }
   ],
   "source": [
    "lm1_sm.summary()"
   ]
  },
  {
   "cell_type": "code",
   "execution_count": 10,
   "id": "8bbd15cd-da2e-4176-bf6e-f94ca7b62d0a",
   "metadata": {},
   "outputs": [
    {
     "data": {
      "text/html": [
       "<table class=\"simpletable\">\n",
       "<caption>OLS Regression Results</caption>\n",
       "<tr>\n",
       "  <th>Dep. Variable:</th>           <td>y2</td>        <th>  R-squared:         </th> <td>   0.530</td>\n",
       "</tr>\n",
       "<tr>\n",
       "  <th>Model:</th>                   <td>OLS</td>       <th>  Adj. R-squared:    </th> <td>   0.525</td>\n",
       "</tr>\n",
       "<tr>\n",
       "  <th>Method:</th>             <td>Least Squares</td>  <th>  F-statistic:       </th> <td>   110.5</td>\n",
       "</tr>\n",
       "<tr>\n",
       "  <th>Date:</th>             <td>Sat, 29 Jul 2023</td> <th>  Prob (F-statistic):</th> <td>9.35e-18</td>\n",
       "</tr>\n",
       "<tr>\n",
       "  <th>Time:</th>                 <td>13:34:09</td>     <th>  Log-Likelihood:    </th> <td> -951.25</td>\n",
       "</tr>\n",
       "<tr>\n",
       "  <th>No. Observations:</th>      <td>   100</td>      <th>  AIC:               </th> <td>   1906.</td>\n",
       "</tr>\n",
       "<tr>\n",
       "  <th>Df Residuals:</th>          <td>    98</td>      <th>  BIC:               </th> <td>   1912.</td>\n",
       "</tr>\n",
       "<tr>\n",
       "  <th>Df Model:</th>              <td>     1</td>      <th>                     </th>     <td> </td>   \n",
       "</tr>\n",
       "<tr>\n",
       "  <th>Covariance Type:</th>      <td>nonrobust</td>    <th>                     </th>     <td> </td>   \n",
       "</tr>\n",
       "</table>\n",
       "<table class=\"simpletable\">\n",
       "<tr>\n",
       "    <td></td>       <th>coef</th>     <th>std err</th>      <th>t</th>      <th>P>|t|</th>  <th>[0.025</th>    <th>0.975]</th>  \n",
       "</tr>\n",
       "<tr>\n",
       "  <th>const</th> <td> 4021.4903</td> <td>  656.376</td> <td>    6.127</td> <td> 0.000</td> <td> 2718.934</td> <td> 5324.047</td>\n",
       "</tr>\n",
       "<tr>\n",
       "  <th>x2</th>    <td> 1204.2231</td> <td>  114.547</td> <td>   10.513</td> <td> 0.000</td> <td>  976.908</td> <td> 1431.538</td>\n",
       "</tr>\n",
       "</table>\n",
       "<table class=\"simpletable\">\n",
       "<tr>\n",
       "  <th>Omnibus:</th>       <td> 3.342</td> <th>  Durbin-Watson:     </th> <td>   1.830</td>\n",
       "</tr>\n",
       "<tr>\n",
       "  <th>Prob(Omnibus):</th> <td> 0.188</td> <th>  Jarque-Bera (JB):  </th> <td>   2.755</td>\n",
       "</tr>\n",
       "<tr>\n",
       "  <th>Skew:</th>          <td> 0.287</td> <th>  Prob(JB):          </th> <td>   0.252</td>\n",
       "</tr>\n",
       "<tr>\n",
       "  <th>Kurtosis:</th>      <td> 3.576</td> <th>  Cond. No.          </th> <td>    11.6</td>\n",
       "</tr>\n",
       "</table><br/><br/>Notes:<br/>[1] Standard Errors assume that the covariance matrix of the errors is correctly specified."
      ],
      "text/plain": [
       "<class 'statsmodels.iolib.summary.Summary'>\n",
       "\"\"\"\n",
       "                            OLS Regression Results                            \n",
       "==============================================================================\n",
       "Dep. Variable:                     y2   R-squared:                       0.530\n",
       "Model:                            OLS   Adj. R-squared:                  0.525\n",
       "Method:                 Least Squares   F-statistic:                     110.5\n",
       "Date:                Sat, 29 Jul 2023   Prob (F-statistic):           9.35e-18\n",
       "Time:                        13:34:09   Log-Likelihood:                -951.25\n",
       "No. Observations:                 100   AIC:                             1906.\n",
       "Df Residuals:                      98   BIC:                             1912.\n",
       "Df Model:                           1                                         \n",
       "Covariance Type:            nonrobust                                         \n",
       "==============================================================================\n",
       "                 coef    std err          t      P>|t|      [0.025      0.975]\n",
       "------------------------------------------------------------------------------\n",
       "const       4021.4903    656.376      6.127      0.000    2718.934    5324.047\n",
       "x2          1204.2231    114.547     10.513      0.000     976.908    1431.538\n",
       "==============================================================================\n",
       "Omnibus:                        3.342   Durbin-Watson:                   1.830\n",
       "Prob(Omnibus):                  0.188   Jarque-Bera (JB):                2.755\n",
       "Skew:                           0.287   Prob(JB):                        0.252\n",
       "Kurtosis:                       3.576   Cond. No.                         11.6\n",
       "==============================================================================\n",
       "\n",
       "Notes:\n",
       "[1] Standard Errors assume that the covariance matrix of the errors is correctly specified.\n",
       "\"\"\""
      ]
     },
     "execution_count": 10,
     "metadata": {},
     "output_type": "execute_result"
    }
   ],
   "source": [
    "lm2_sm.summary()"
   ]
  },
  {
   "cell_type": "code",
   "execution_count": 11,
   "id": "9b596afd-239e-40c8-8f84-ca1f512e9d48",
   "metadata": {},
   "outputs": [
    {
     "data": {
      "text/plain": [
       "const    2422.134027\n",
       "x1         96.436243\n",
       "dtype: float64"
      ]
     },
     "execution_count": 11,
     "metadata": {},
     "output_type": "execute_result"
    }
   ],
   "source": [
    "lm1_sm.bse"
   ]
  },
  {
   "cell_type": "code",
   "execution_count": 12,
   "id": "66288636-f38f-4fe9-8469-edd6b77156ad",
   "metadata": {},
   "outputs": [
    {
     "data": {
      "text/plain": [
       "const    8.410226e-01\n",
       "x1       5.464066e-20\n",
       "dtype: float64"
      ]
     },
     "execution_count": 12,
     "metadata": {},
     "output_type": "execute_result"
    }
   ],
   "source": [
    "lm1_sm.pvalues"
   ]
  },
  {
   "cell_type": "markdown",
   "id": "7596b2be-905b-4e4c-978e-efc3c35344ed",
   "metadata": {},
   "source": [
    "#### Statsmodel model 2"
   ]
  },
  {
   "cell_type": "code",
   "execution_count": 13,
   "id": "e6d70814-91dd-44e5-830a-cae1e99f73db",
   "metadata": {},
   "outputs": [
    {
     "data": {
      "text/html": [
       "<table class=\"simpletable\">\n",
       "<caption>OLS Regression Results</caption>\n",
       "<tr>\n",
       "  <th>Dep. Variable:</th>           <td>y1</td>        <th>  R-squared:         </th> <td>   0.576</td>\n",
       "</tr>\n",
       "<tr>\n",
       "  <th>Model:</th>                   <td>OLS</td>       <th>  Adj. R-squared:    </th> <td>   0.572</td>\n",
       "</tr>\n",
       "<tr>\n",
       "  <th>Method:</th>             <td>Least Squares</td>  <th>  F-statistic:       </th> <td>   133.4</td>\n",
       "</tr>\n",
       "<tr>\n",
       "  <th>Date:</th>             <td>Sat, 29 Jul 2023</td> <th>  Prob (F-statistic):</th> <td>5.46e-20</td>\n",
       "</tr>\n",
       "<tr>\n",
       "  <th>Time:</th>                 <td>13:34:09</td>     <th>  Log-Likelihood:    </th> <td> -934.04</td>\n",
       "</tr>\n",
       "<tr>\n",
       "  <th>No. Observations:</th>      <td>   100</td>      <th>  AIC:               </th> <td>   1872.</td>\n",
       "</tr>\n",
       "<tr>\n",
       "  <th>Df Residuals:</th>          <td>    98</td>      <th>  BIC:               </th> <td>   1877.</td>\n",
       "</tr>\n",
       "<tr>\n",
       "  <th>Df Model:</th>              <td>     1</td>      <th>                     </th>     <td> </td>   \n",
       "</tr>\n",
       "<tr>\n",
       "  <th>Covariance Type:</th>      <td>nonrobust</td>    <th>                     </th>     <td> </td>   \n",
       "</tr>\n",
       "</table>\n",
       "<table class=\"simpletable\">\n",
       "<tr>\n",
       "      <td></td>         <th>coef</th>     <th>std err</th>      <th>t</th>      <th>P>|t|</th>  <th>[0.025</th>    <th>0.975]</th>  \n",
       "</tr>\n",
       "<tr>\n",
       "  <th>Intercept</th> <td>  487.1365</td> <td> 2422.134</td> <td>    0.201</td> <td> 0.841</td> <td>-4319.510</td> <td> 5293.783</td>\n",
       "</tr>\n",
       "<tr>\n",
       "  <th>x1</th>        <td> 1113.8482</td> <td>   96.436</td> <td>   11.550</td> <td> 0.000</td> <td>  922.474</td> <td> 1305.223</td>\n",
       "</tr>\n",
       "</table>\n",
       "<table class=\"simpletable\">\n",
       "<tr>\n",
       "  <th>Omnibus:</th>       <td> 1.073</td> <th>  Durbin-Watson:     </th> <td>   2.240</td>\n",
       "</tr>\n",
       "<tr>\n",
       "  <th>Prob(Omnibus):</th> <td> 0.585</td> <th>  Jarque-Bera (JB):  </th> <td>   0.871</td>\n",
       "</tr>\n",
       "<tr>\n",
       "  <th>Skew:</th>          <td> 0.229</td> <th>  Prob(JB):          </th> <td>   0.647</td>\n",
       "</tr>\n",
       "<tr>\n",
       "  <th>Kurtosis:</th>      <td> 3.002</td> <th>  Cond. No.          </th> <td>    219.</td>\n",
       "</tr>\n",
       "</table><br/><br/>Notes:<br/>[1] Standard Errors assume that the covariance matrix of the errors is correctly specified."
      ],
      "text/plain": [
       "<class 'statsmodels.iolib.summary.Summary'>\n",
       "\"\"\"\n",
       "                            OLS Regression Results                            \n",
       "==============================================================================\n",
       "Dep. Variable:                     y1   R-squared:                       0.576\n",
       "Model:                            OLS   Adj. R-squared:                  0.572\n",
       "Method:                 Least Squares   F-statistic:                     133.4\n",
       "Date:                Sat, 29 Jul 2023   Prob (F-statistic):           5.46e-20\n",
       "Time:                        13:34:09   Log-Likelihood:                -934.04\n",
       "No. Observations:                 100   AIC:                             1872.\n",
       "Df Residuals:                      98   BIC:                             1877.\n",
       "Df Model:                           1                                         \n",
       "Covariance Type:            nonrobust                                         \n",
       "==============================================================================\n",
       "                 coef    std err          t      P>|t|      [0.025      0.975]\n",
       "------------------------------------------------------------------------------\n",
       "Intercept    487.1365   2422.134      0.201      0.841   -4319.510    5293.783\n",
       "x1          1113.8482     96.436     11.550      0.000     922.474    1305.223\n",
       "==============================================================================\n",
       "Omnibus:                        1.073   Durbin-Watson:                   2.240\n",
       "Prob(Omnibus):                  0.585   Jarque-Bera (JB):                0.871\n",
       "Skew:                           0.229   Prob(JB):                        0.647\n",
       "Kurtosis:                       3.002   Cond. No.                         219.\n",
       "==============================================================================\n",
       "\n",
       "Notes:\n",
       "[1] Standard Errors assume that the covariance matrix of the errors is correctly specified.\n",
       "\"\"\""
      ]
     },
     "execution_count": 13,
     "metadata": {},
     "output_type": "execute_result"
    }
   ],
   "source": [
    "lm1_b = smf.ols(formula=\"y1 ~ x1\", data=df).fit()\n",
    "lm1_b.summary()"
   ]
  },
  {
   "cell_type": "markdown",
   "id": "7bd18a6a-28ab-4248-a9d6-307f4a8a3a92",
   "metadata": {},
   "source": [
    "#### Scipy stats model"
   ]
  },
  {
   "cell_type": "code",
   "execution_count": 14,
   "id": "7914c5d4-844c-480a-aa2a-81317f9f5139",
   "metadata": {},
   "outputs": [
    {
     "name": "stdout",
     "output_type": "stream",
     "text": [
      " y = 1113.848228142763x + 487.13648637394726\n",
      " y = 1204.2230866238183x + 4021.4902500350363\n"
     ]
    }
   ],
   "source": [
    "lm1_sp = stats.linregress(x=x1, y=y1, alternative='two-sided')\n",
    "lm2_sp = stats.linregress(x=x2, y=y2, alternative='two-sided')\n",
    "print(f\" y = {lm1_sp.slope}x + {lm1_sp.intercept}\")\n",
    "print(f\" y = {lm2_sp.slope}x + {lm2_sp.intercept}\")"
   ]
  },
  {
   "cell_type": "markdown",
   "id": "40fa6851-bb94-4d61-81c0-49967d7b7074",
   "metadata": {},
   "source": [
    "### 3D Model"
   ]
  },
  {
   "cell_type": "code",
   "execution_count": null,
   "id": "24cb1d4f-8eee-4006-a101-b657d9878217",
   "metadata": {},
   "outputs": [],
   "source": []
  },
  {
   "cell_type": "markdown",
   "id": "4ab06518-a7d4-4678-a451-4f31f8f7f6b3",
   "metadata": {},
   "source": [
    "# Ancova"
   ]
  },
  {
   "cell_type": "markdown",
   "id": "b84df7b3-3bbf-41da-96ce-f13e720a7192",
   "metadata": {},
   "source": [
    "ANCOVA is a specific type of linear regression descrimination\n",
    "\n",
    "http://www.biostathandbook.com/ancova.html\n",
    "\n",
    "https://web.archive.org/web/20230223045335/http://www.biostathandbook.com/ancova.html\n",
    "\n",
    "https://www.reneshbedre.com/blog/ancova.html\n",
    "\n",
    "https://web.archive.org/web/20230201184317/https://www.reneshbedre.com/blog/ancova.html\n",
    "\n",
    "https://www.statology.org/ancova/\n",
    "\n",
    "https://statisticsbyjim.com/regression/comparing-regression-lines/"
   ]
  },
  {
   "cell_type": "markdown",
   "id": "ddc868ff-dec4-493b-8119-21945f29aea0",
   "metadata": {},
   "source": [
    "## Application and Assumptions"
   ]
  },
  {
   "cell_type": "markdown",
   "id": "e4f57ec0-df01-4649-8d0b-6b37aad5d0f1",
   "metadata": {
    "jp-MarkdownHeadingCollapsed": true,
    "tags": []
   },
   "source": [
    "Used to test for significance between different linear models that include at least one continuous and one categorical independent variable. Test will determine if model is a better fit when including the catagorical term than without.\n",
    "\n",
    ">Null hypotheses:\n",
    ">* Slopes of regression lines are all equal\n",
    ">* Y intercepts of regression lines are all the same/ adjusted means of the group (least squares means) are the same\n",
    "\n",
    "\n",
    ">Assumptions:\n",
    ">* Linear relationship between dependent variable and covariate\n",
    ">* Normally distributed residuals\n",
    ">* Dependent variable and covariate are continuous\n",
    ">* Equal variances (homogeneity) between sample populations\n",
    ">* No interaction between categorical independent variable and covariate (homogeneity within-group regression slopes) i.e. slopes of lineas in different samples should be the same"
   ]
  },
  {
   "cell_type": "markdown",
   "id": "20810ea8-cefd-4793-bf29-0fef3fa496dc",
   "metadata": {},
   "source": [
    "## Prepare Data"
   ]
  },
  {
   "cell_type": "markdown",
   "id": "f333a718-90ea-407c-8d11-e02e3d09354f",
   "metadata": {},
   "source": [
    "Because the different variables have different units and therefore drastically different distances, the data should be normalized so distances are more meaningful to the model. Z-score is a common method for normalizing data assumed to be normally distributed.\n",
    "\n",
    "$$Z = \\frac{x - \\mu}{\\sigma}$$\n",
    "Where:\n",
    "* $Z$ = standard score\n",
    "* $x$ = observed value\n",
    "* $\\mu$ = sample mean\n",
    "* $\\sigma$ = sample standard deviation"
   ]
  },
  {
   "cell_type": "code",
   "execution_count": 15,
   "id": "dcdac6e3-8300-49fd-880d-93a1e568ed50",
   "metadata": {},
   "outputs": [
    {
     "data": {
      "text/html": [
       "<div>\n",
       "<style scoped>\n",
       "    .dataframe tbody tr th:only-of-type {\n",
       "        vertical-align: middle;\n",
       "    }\n",
       "\n",
       "    .dataframe tbody tr th {\n",
       "        vertical-align: top;\n",
       "    }\n",
       "\n",
       "    .dataframe thead th {\n",
       "        text-align: right;\n",
       "    }\n",
       "</style>\n",
       "<table border=\"1\" class=\"dataframe\">\n",
       "  <thead>\n",
       "    <tr style=\"text-align: right;\">\n",
       "      <th></th>\n",
       "      <th>x</th>\n",
       "      <th>y</th>\n",
       "      <th>group</th>\n",
       "    </tr>\n",
       "  </thead>\n",
       "  <tbody>\n",
       "    <tr>\n",
       "      <th>0</th>\n",
       "      <td>0.485190</td>\n",
       "      <td>0.359091</td>\n",
       "      <td>A</td>\n",
       "    </tr>\n",
       "    <tr>\n",
       "      <th>1</th>\n",
       "      <td>0.494798</td>\n",
       "      <td>0.718526</td>\n",
       "      <td>A</td>\n",
       "    </tr>\n",
       "    <tr>\n",
       "      <th>2</th>\n",
       "      <td>0.504406</td>\n",
       "      <td>0.065942</td>\n",
       "      <td>A</td>\n",
       "    </tr>\n",
       "    <tr>\n",
       "      <th>3</th>\n",
       "      <td>0.514013</td>\n",
       "      <td>0.192220</td>\n",
       "      <td>A</td>\n",
       "    </tr>\n",
       "    <tr>\n",
       "      <th>4</th>\n",
       "      <td>0.523621</td>\n",
       "      <td>-0.023010</td>\n",
       "      <td>A</td>\n",
       "    </tr>\n",
       "    <tr>\n",
       "      <th>...</th>\n",
       "      <td>...</td>\n",
       "      <td>...</td>\n",
       "      <td>...</td>\n",
       "    </tr>\n",
       "    <tr>\n",
       "      <th>195</th>\n",
       "      <td>-0.523621</td>\n",
       "      <td>-0.087064</td>\n",
       "      <td>B</td>\n",
       "    </tr>\n",
       "    <tr>\n",
       "      <th>196</th>\n",
       "      <td>-0.514013</td>\n",
       "      <td>-0.872651</td>\n",
       "      <td>B</td>\n",
       "    </tr>\n",
       "    <tr>\n",
       "      <th>197</th>\n",
       "      <td>-0.504406</td>\n",
       "      <td>-0.270843</td>\n",
       "      <td>B</td>\n",
       "    </tr>\n",
       "    <tr>\n",
       "      <th>198</th>\n",
       "      <td>-0.494798</td>\n",
       "      <td>-0.472076</td>\n",
       "      <td>B</td>\n",
       "    </tr>\n",
       "    <tr>\n",
       "      <th>199</th>\n",
       "      <td>-0.485190</td>\n",
       "      <td>-0.211443</td>\n",
       "      <td>B</td>\n",
       "    </tr>\n",
       "  </tbody>\n",
       "</table>\n",
       "<p>200 rows × 3 columns</p>\n",
       "</div>"
      ],
      "text/plain": [
       "            x         y group\n",
       "0    0.485190  0.359091     A\n",
       "1    0.494798  0.718526     A\n",
       "2    0.504406  0.065942     A\n",
       "3    0.514013  0.192220     A\n",
       "4    0.523621 -0.023010     A\n",
       "..        ...       ...   ...\n",
       "195 -0.523621 -0.087064     B\n",
       "196 -0.514013 -0.872651     B\n",
       "197 -0.504406 -0.270843     B\n",
       "198 -0.494798 -0.472076     B\n",
       "199 -0.485190 -0.211443     B\n",
       "\n",
       "[200 rows x 3 columns]"
      ]
     },
     "execution_count": 15,
     "metadata": {},
     "output_type": "execute_result"
    }
   ],
   "source": [
    "## Sample data for ANCOVA, combines x and y values to a single column each and adds a categorical column\n",
    "x_c = np.concatenate((x1, x2))\n",
    "y_c = np.concatenate((y1, y2))\n",
    "\n",
    "x_zscore = stats.zscore(x_c)\n",
    "y_zscore = stats.zscore(y_c)\n",
    "\n",
    "group_list = np.concatenate((np.array((len(x1)*[\"A\"])),np.array((len(x2)*[\"B\"]))))\n",
    "\n",
    "df_c = pd.DataFrame({\"x\": x_zscore, \"y\": y_zscore, \"group\": group_list})\n",
    "\n",
    "df_c"
   ]
  },
  {
   "cell_type": "code",
   "execution_count": null,
   "id": "0b0c7095-c61a-4834-9edc-e36270f523d2",
   "metadata": {},
   "outputs": [],
   "source": []
  },
  {
   "cell_type": "code",
   "execution_count": 16,
   "id": "2a5517f7-e895-4605-8ca1-50dc5ca39452",
   "metadata": {},
   "outputs": [
    {
     "data": {
      "text/html": [
       "<table class=\"simpletable\">\n",
       "<caption>OLS Regression Results</caption>\n",
       "<tr>\n",
       "  <th>Dep. Variable:</th>            <td>y</td>        <th>  R-squared:         </th> <td>   0.912</td> \n",
       "</tr>\n",
       "<tr>\n",
       "  <th>Model:</th>                   <td>OLS</td>       <th>  Adj. R-squared:    </th> <td>   0.911</td> \n",
       "</tr>\n",
       "<tr>\n",
       "  <th>Method:</th>             <td>Least Squares</td>  <th>  F-statistic:       </th> <td>   1019.</td> \n",
       "</tr>\n",
       "<tr>\n",
       "  <th>Date:</th>             <td>Sat, 29 Jul 2023</td> <th>  Prob (F-statistic):</th> <td>1.27e-104</td>\n",
       "</tr>\n",
       "<tr>\n",
       "  <th>Time:</th>                 <td>13:34:10</td>     <th>  Log-Likelihood:    </th> <td> -40.915</td> \n",
       "</tr>\n",
       "<tr>\n",
       "  <th>No. Observations:</th>      <td>   200</td>      <th>  AIC:               </th> <td>   87.83</td> \n",
       "</tr>\n",
       "<tr>\n",
       "  <th>Df Residuals:</th>          <td>   197</td>      <th>  BIC:               </th> <td>   97.72</td> \n",
       "</tr>\n",
       "<tr>\n",
       "  <th>Df Model:</th>              <td>     2</td>      <th>                     </th>     <td> </td>    \n",
       "</tr>\n",
       "<tr>\n",
       "  <th>Covariance Type:</th>      <td>nonrobust</td>    <th>                     </th>     <td> </td>    \n",
       "</tr>\n",
       "</table>\n",
       "<table class=\"simpletable\">\n",
       "<tr>\n",
       "       <td></td>         <th>coef</th>     <th>std err</th>      <th>t</th>      <th>P>|t|</th>  <th>[0.025</th>    <th>0.975]</th>  \n",
       "</tr>\n",
       "<tr>\n",
       "  <th>Intercept</th>  <td>   -0.2395</td> <td>    0.079</td> <td>   -3.026</td> <td> 0.003</td> <td>   -0.396</td> <td>   -0.083</td>\n",
       "</tr>\n",
       "<tr>\n",
       "  <th>group[T.B]</th> <td>    0.4790</td> <td>    0.153</td> <td>    3.140</td> <td> 0.002</td> <td>    0.178</td> <td>    0.780</td>\n",
       "</tr>\n",
       "<tr>\n",
       "  <th>x</th>          <td>    1.1827</td> <td>    0.076</td> <td>   15.506</td> <td> 0.000</td> <td>    1.032</td> <td>    1.333</td>\n",
       "</tr>\n",
       "</table>\n",
       "<table class=\"simpletable\">\n",
       "<tr>\n",
       "  <th>Omnibus:</th>       <td> 4.263</td> <th>  Durbin-Watson:     </th> <td>   1.997</td>\n",
       "</tr>\n",
       "<tr>\n",
       "  <th>Prob(Omnibus):</th> <td> 0.119</td> <th>  Jarque-Bera (JB):  </th> <td>   3.995</td>\n",
       "</tr>\n",
       "<tr>\n",
       "  <th>Skew:</th>          <td> 0.257</td> <th>  Prob(JB):          </th> <td>   0.136</td>\n",
       "</tr>\n",
       "<tr>\n",
       "  <th>Kurtosis:</th>      <td> 3.464</td> <th>  Cond. No.          </th> <td>    10.7</td>\n",
       "</tr>\n",
       "</table><br/><br/>Notes:<br/>[1] Standard Errors assume that the covariance matrix of the errors is correctly specified."
      ],
      "text/plain": [
       "<class 'statsmodels.iolib.summary.Summary'>\n",
       "\"\"\"\n",
       "                            OLS Regression Results                            \n",
       "==============================================================================\n",
       "Dep. Variable:                      y   R-squared:                       0.912\n",
       "Model:                            OLS   Adj. R-squared:                  0.911\n",
       "Method:                 Least Squares   F-statistic:                     1019.\n",
       "Date:                Sat, 29 Jul 2023   Prob (F-statistic):          1.27e-104\n",
       "Time:                        13:34:10   Log-Likelihood:                -40.915\n",
       "No. Observations:                 200   AIC:                             87.83\n",
       "Df Residuals:                     197   BIC:                             97.72\n",
       "Df Model:                           2                                         \n",
       "Covariance Type:            nonrobust                                         \n",
       "==============================================================================\n",
       "                 coef    std err          t      P>|t|      [0.025      0.975]\n",
       "------------------------------------------------------------------------------\n",
       "Intercept     -0.2395      0.079     -3.026      0.003      -0.396      -0.083\n",
       "group[T.B]     0.4790      0.153      3.140      0.002       0.178       0.780\n",
       "x              1.1827      0.076     15.506      0.000       1.032       1.333\n",
       "==============================================================================\n",
       "Omnibus:                        4.263   Durbin-Watson:                   1.997\n",
       "Prob(Omnibus):                  0.119   Jarque-Bera (JB):                3.995\n",
       "Skew:                           0.257   Prob(JB):                        0.136\n",
       "Kurtosis:                       3.464   Cond. No.                         10.7\n",
       "==============================================================================\n",
       "\n",
       "Notes:\n",
       "[1] Standard Errors assume that the covariance matrix of the errors is correctly specified.\n",
       "\"\"\""
      ]
     },
     "execution_count": 16,
     "metadata": {},
     "output_type": "execute_result"
    }
   ],
   "source": [
    "lm_ancova = smf.ols('y ~ group + x', data=df_c).fit()  # Additive moderation model\n",
    "lm_ancova.summary()"
   ]
  },
  {
   "cell_type": "code",
   "execution_count": 17,
   "id": "3faf8b8e-2694-4213-919f-9fea069345bd",
   "metadata": {},
   "outputs": [
    {
     "data": {
      "text/plain": [
       "Intercept     2.812540e-03\n",
       "group[T.B]    1.950807e-03\n",
       "x             5.714986e-36\n",
       "dtype: float64"
      ]
     },
     "execution_count": 17,
     "metadata": {},
     "output_type": "execute_result"
    }
   ],
   "source": [
    "lm_ancova.pvalues"
   ]
  },
  {
   "cell_type": "markdown",
   "id": "d4150c8c-9484-4aa6-948d-80863eab798f",
   "metadata": {},
   "source": [
    "If the p-values are less than an arbitrarily defined (but conventional) 0.05, the null hypothesis is rejected and the linear regressions are likely to be different from each other."
   ]
  },
  {
   "cell_type": "markdown",
   "id": "f99c000c-b7cf-4355-8096-61c05a97a3de",
   "metadata": {},
   "source": [
    "## Test for normal residuals"
   ]
  },
  {
   "cell_type": "code",
   "execution_count": 18,
   "id": "f363bd99-e394-419f-a831-5cadd8576942",
   "metadata": {},
   "outputs": [
    {
     "data": {
      "text/plain": [
       "0      0.024744\n",
       "1      0.372816\n",
       "2     -0.291131\n",
       "3     -0.176215\n",
       "4     -0.402808\n",
       "         ...   \n",
       "195    0.292734\n",
       "196   -0.504216\n",
       "197    0.086230\n",
       "198   -0.126367\n",
       "199    0.122904\n",
       "Length: 200, dtype: float64"
      ]
     },
     "execution_count": 18,
     "metadata": {},
     "output_type": "execute_result"
    }
   ],
   "source": [
    "resid_ancova = lm_ancova.resid\n",
    "resid_ancova"
   ]
  },
  {
   "cell_type": "code",
   "execution_count": 19,
   "id": "a53d5c8c-053c-45c5-9d93-360e28cac252",
   "metadata": {},
   "outputs": [
    {
     "data": {
      "text/plain": [
       "(array([ 4., 10., 16., 40., 55., 39., 17., 12.,  4.,  3.]),\n",
       " array([-0.79847419, -0.62595638, -0.45343858, -0.28092078, -0.10840297,\n",
       "         0.06411483,  0.23663264,  0.40915044,  0.58166824,  0.75418605,\n",
       "         0.92670385]),\n",
       " <BarContainer object of 10 artists>)"
      ]
     },
     "execution_count": 19,
     "metadata": {},
     "output_type": "execute_result"
    },
    {
     "data": {
      "image/png": "[encoded data removed]",
      "text/plain": [
       "<Figure size 432x288 with 1 Axes>"
      ]
     },
     "metadata": {
      "needs_background": "light"
     },
     "output_type": "display_data"
    }
   ],
   "source": [
    "plt.hist(lm_ancova.resid)"
   ]
  },
  {
   "cell_type": "markdown",
   "id": "f69fb9df-1d5e-4717-888a-ce0b63a6ab01",
   "metadata": {},
   "source": [
    "### Jarque-Bera Test"
   ]
  },
  {
   "cell_type": "markdown",
   "id": "5fac4b87-af18-4509-8cc6-2aef4b0510ac",
   "metadata": {},
   "source": [
    "Tests if skewness and kurtosis of data are similar to a normal distrubution. If test statistic is close to zero an the p-value is above some predetermined value (typically 0.05), the data is assumed to be normal."
   ]
  },
  {
   "cell_type": "code",
   "execution_count": 20,
   "id": "3b19f77a-8c98-43c2-95c8-0e1a7d704db9",
   "metadata": {},
   "outputs": [
    {
     "data": {
      "text/plain": [
       "{'Jarque-Bera': 3.9954486701876157,\n",
       " 'JB_p_value': 0.13564361168429737,\n",
       " 'Skew': 0.2570835337670763,\n",
       " 'Kurtosis': 3.4637737240140325}"
      ]
     },
     "execution_count": 20,
     "metadata": {},
     "output_type": "execute_result"
    }
   ],
   "source": [
    "test_result_names = ['Jarque-Bera', 'JB_p_value', 'Skew', 'Kurtosis']\n",
    "jb_test = sm.stats.stattools.jarque_bera(resid_ancova, axis=0)\n",
    "jb_results = dict(zip(test_result_names, jb_test))\n",
    "jb_results"
   ]
  },
  {
   "cell_type": "markdown",
   "id": "4dc73b77-f533-4cf7-ad5d-77e39d576477",
   "metadata": {},
   "source": [
    "### Shapiro-Wilk test for normality"
   ]
  },
  {
   "cell_type": "markdown",
   "id": "41e08926-00eb-4055-876f-17df71612df5",
   "metadata": {},
   "source": [
    "p-value may not be accurate with more than 5000 datapoints"
   ]
  },
  {
   "cell_type": "code",
   "execution_count": 21,
   "id": "cf200e69-b7fa-42ef-9699-c098429cbc40",
   "metadata": {},
   "outputs": [
    {
     "data": {
      "text/plain": [
       "ShapiroResult(statistic=0.9892200231552124, pvalue=0.13715454936027527)"
      ]
     },
     "execution_count": 21,
     "metadata": {},
     "output_type": "execute_result"
    }
   ],
   "source": [
    "stats.shapiro(resid_ancova)"
   ]
  },
  {
   "cell_type": "markdown",
   "id": "e27ee14b-89bb-41bb-809b-3dadc8ba349a",
   "metadata": {},
   "source": [
    "### D'Agostino and Pearson's test for normality"
   ]
  },
  {
   "cell_type": "code",
   "execution_count": 22,
   "id": "d46c5e2a-a001-420e-b7ac-a6811a6aeaaa",
   "metadata": {},
   "outputs": [
    {
     "data": {
      "text/plain": [
       "NormaltestResult(statistic=4.263077582869462, pvalue=0.11865456866653436)"
      ]
     },
     "execution_count": 22,
     "metadata": {},
     "output_type": "execute_result"
    }
   ],
   "source": [
    "stats.normaltest(resid_ancova)"
   ]
  },
  {
   "cell_type": "markdown",
   "id": "8f639200-eaa4-4e3b-977a-a0980310a013",
   "metadata": {},
   "source": [
    "## Test for equal variances between groups"
   ]
  },
  {
   "cell_type": "markdown",
   "id": "9880cfa7-ad2d-44b2-a3e1-7133802dc6ab",
   "metadata": {},
   "source": [
    "### Bartlett's test for equal variances"
   ]
  },
  {
   "cell_type": "code",
   "execution_count": 23,
   "id": "9d12302d-88b4-4a0b-9c43-4f7980a4baad",
   "metadata": {},
   "outputs": [
    {
     "data": {
      "text/plain": [
       "BartlettResult(statistic=1.4159882785696385, pvalue=0.23406484296851504)"
      ]
     },
     "execution_count": 23,
     "metadata": {},
     "output_type": "execute_result"
    }
   ],
   "source": [
    "stats.bartlett(df[\"y1\"], df[\"y2\"])"
   ]
  },
  {
   "cell_type": "markdown",
   "id": "19b2307c-ffd3-4a6b-a181-e64ecf0ac0b3",
   "metadata": {},
   "source": [
    "## Test for interaction of catagorical independent variable and covariate"
   ]
  },
  {
   "cell_type": "code",
   "execution_count": 35,
   "id": "bcb8c640-ef5f-4d2d-830d-8d5dd7242df9",
   "metadata": {},
   "outputs": [
    {
     "data": {
      "text/html": [
       "<div>\n",
       "<style scoped>\n",
       "    .dataframe tbody tr th:only-of-type {\n",
       "        vertical-align: middle;\n",
       "    }\n",
       "\n",
       "    .dataframe tbody tr th {\n",
       "        vertical-align: top;\n",
       "    }\n",
       "\n",
       "    .dataframe thead th {\n",
       "        text-align: right;\n",
       "    }\n",
       "</style>\n",
       "<table border=\"1\" class=\"dataframe\">\n",
       "  <thead>\n",
       "    <tr style=\"text-align: right;\">\n",
       "      <th></th>\n",
       "      <th>df</th>\n",
       "      <th>sum_sq</th>\n",
       "      <th>mean_sq</th>\n",
       "      <th>F</th>\n",
       "      <th>PR(&gt;F)</th>\n",
       "    </tr>\n",
       "  </thead>\n",
       "  <tbody>\n",
       "    <tr>\n",
       "      <th>group</th>\n",
       "      <td>1.0</td>\n",
       "      <td>160.853272</td>\n",
       "      <td>160.853272</td>\n",
       "      <td>1797.424568</td>\n",
       "      <td>5.615502e-101</td>\n",
       "    </tr>\n",
       "    <tr>\n",
       "      <th>x</th>\n",
       "      <td>1.0</td>\n",
       "      <td>21.517007</td>\n",
       "      <td>21.517007</td>\n",
       "      <td>240.437739</td>\n",
       "      <td>5.714986e-36</td>\n",
       "    </tr>\n",
       "    <tr>\n",
       "      <th>Residual</th>\n",
       "      <td>197.0</td>\n",
       "      <td>17.629721</td>\n",
       "      <td>0.089491</td>\n",
       "      <td>NaN</td>\n",
       "      <td>NaN</td>\n",
       "    </tr>\n",
       "  </tbody>\n",
       "</table>\n",
       "</div>"
      ],
      "text/plain": [
       "             df      sum_sq     mean_sq            F         PR(>F)\n",
       "group       1.0  160.853272  160.853272  1797.424568  5.615502e-101\n",
       "x           1.0   21.517007   21.517007   240.437739   5.714986e-36\n",
       "Residual  197.0   17.629721    0.089491          NaN            NaN"
      ]
     },
     "execution_count": 35,
     "metadata": {},
     "output_type": "execute_result"
    }
   ],
   "source": [
    "sm.stats.anova_lm(lm_ancova, typ=1)"
   ]
  },
  {
   "cell_type": "code",
   "execution_count": 36,
   "id": "f55c1955-a686-4481-a093-e9cf8cf70a41",
   "metadata": {},
   "outputs": [
    {
     "data": {
      "text/html": [
       "<div>\n",
       "<style scoped>\n",
       "    .dataframe tbody tr th:only-of-type {\n",
       "        vertical-align: middle;\n",
       "    }\n",
       "\n",
       "    .dataframe tbody tr th {\n",
       "        vertical-align: top;\n",
       "    }\n",
       "\n",
       "    .dataframe thead th {\n",
       "        text-align: right;\n",
       "    }\n",
       "</style>\n",
       "<table border=\"1\" class=\"dataframe\">\n",
       "  <thead>\n",
       "    <tr style=\"text-align: right;\">\n",
       "      <th></th>\n",
       "      <th>sum_sq</th>\n",
       "      <th>df</th>\n",
       "      <th>F</th>\n",
       "      <th>PR(&gt;F)</th>\n",
       "    </tr>\n",
       "  </thead>\n",
       "  <tbody>\n",
       "    <tr>\n",
       "      <th>group</th>\n",
       "      <td>0.882226</td>\n",
       "      <td>1.0</td>\n",
       "      <td>9.858273</td>\n",
       "      <td>1.950807e-03</td>\n",
       "    </tr>\n",
       "    <tr>\n",
       "      <th>x</th>\n",
       "      <td>21.517007</td>\n",
       "      <td>1.0</td>\n",
       "      <td>240.437739</td>\n",
       "      <td>5.714986e-36</td>\n",
       "    </tr>\n",
       "    <tr>\n",
       "      <th>Residual</th>\n",
       "      <td>17.629721</td>\n",
       "      <td>197.0</td>\n",
       "      <td>NaN</td>\n",
       "      <td>NaN</td>\n",
       "    </tr>\n",
       "  </tbody>\n",
       "</table>\n",
       "</div>"
      ],
      "text/plain": [
       "             sum_sq     df           F        PR(>F)\n",
       "group      0.882226    1.0    9.858273  1.950807e-03\n",
       "x         21.517007    1.0  240.437739  5.714986e-36\n",
       "Residual  17.629721  197.0         NaN           NaN"
      ]
     },
     "execution_count": 36,
     "metadata": {},
     "output_type": "execute_result"
    }
   ],
   "source": [
    "#sm.stats.anova_lm(lm_ancova, typ=2)"
   ]
  },
  {
   "cell_type": "code",
   "execution_count": 25,
   "id": "307aea45-5f3f-4525-b020-37a8f6aceec9",
   "metadata": {},
   "outputs": [
    {
     "data": {
      "text/html": [
       "<table class=\"simpletable\">\n",
       "<caption>OLS Regression Results</caption>\n",
       "<tr>\n",
       "  <th>Dep. Variable:</th>            <td>y</td>        <th>  R-squared:         </th> <td>   0.912</td> \n",
       "</tr>\n",
       "<tr>\n",
       "  <th>Model:</th>                   <td>OLS</td>       <th>  Adj. R-squared:    </th> <td>   0.911</td> \n",
       "</tr>\n",
       "<tr>\n",
       "  <th>Method:</th>             <td>Least Squares</td>  <th>  F-statistic:       </th> <td>   677.2</td> \n",
       "</tr>\n",
       "<tr>\n",
       "  <th>Date:</th>             <td>Sat, 29 Jul 2023</td> <th>  Prob (F-statistic):</th> <td>3.82e-103</td>\n",
       "</tr>\n",
       "<tr>\n",
       "  <th>Time:</th>                 <td>13:34:10</td>     <th>  Log-Likelihood:    </th> <td> -40.729</td> \n",
       "</tr>\n",
       "<tr>\n",
       "  <th>No. Observations:</th>      <td>   200</td>      <th>  AIC:               </th> <td>   89.46</td> \n",
       "</tr>\n",
       "<tr>\n",
       "  <th>Df Residuals:</th>          <td>   196</td>      <th>  BIC:               </th> <td>   102.7</td> \n",
       "</tr>\n",
       "<tr>\n",
       "  <th>Df Model:</th>              <td>     3</td>      <th>                     </th>     <td> </td>    \n",
       "</tr>\n",
       "<tr>\n",
       "  <th>Covariance Type:</th>      <td>nonrobust</td>    <th>                     </th>     <td> </td>    \n",
       "</tr>\n",
       "</table>\n",
       "<table class=\"simpletable\">\n",
       "<tr>\n",
       "        <td></td>          <th>coef</th>     <th>std err</th>      <th>t</th>      <th>P>|t|</th>  <th>[0.025</th>    <th>0.975]</th>  \n",
       "</tr>\n",
       "<tr>\n",
       "  <th>Intercept</th>    <td>   -0.1952</td> <td>    0.108</td> <td>   -1.807</td> <td> 0.072</td> <td>   -0.408</td> <td>    0.018</td>\n",
       "</tr>\n",
       "<tr>\n",
       "  <th>group[T.B]</th>   <td>    0.4790</td> <td>    0.153</td> <td>    3.135</td> <td> 0.002</td> <td>    0.178</td> <td>    0.780</td>\n",
       "</tr>\n",
       "<tr>\n",
       "  <th>x</th>            <td>    1.1366</td> <td>    0.108</td> <td>   10.520</td> <td> 0.000</td> <td>    0.924</td> <td>    1.350</td>\n",
       "</tr>\n",
       "<tr>\n",
       "  <th>group[T.B]:x</th> <td>    0.0922</td> <td>    0.153</td> <td>    0.604</td> <td> 0.547</td> <td>   -0.209</td> <td>    0.394</td>\n",
       "</tr>\n",
       "</table>\n",
       "<table class=\"simpletable\">\n",
       "<tr>\n",
       "  <th>Omnibus:</th>       <td> 4.567</td> <th>  Durbin-Watson:     </th> <td>   2.000</td>\n",
       "</tr>\n",
       "<tr>\n",
       "  <th>Prob(Omnibus):</th> <td> 0.102</td> <th>  Jarque-Bera (JB):  </th> <td>   4.334</td>\n",
       "</tr>\n",
       "<tr>\n",
       "  <th>Skew:</th>          <td> 0.268</td> <th>  Prob(JB):          </th> <td>   0.115</td>\n",
       "</tr>\n",
       "<tr>\n",
       "  <th>Kurtosis:</th>      <td> 3.483</td> <th>  Cond. No.          </th> <td>    14.2</td>\n",
       "</tr>\n",
       "</table><br/><br/>Notes:<br/>[1] Standard Errors assume that the covariance matrix of the errors is correctly specified."
      ],
      "text/plain": [
       "<class 'statsmodels.iolib.summary.Summary'>\n",
       "\"\"\"\n",
       "                            OLS Regression Results                            \n",
       "==============================================================================\n",
       "Dep. Variable:                      y   R-squared:                       0.912\n",
       "Model:                            OLS   Adj. R-squared:                  0.911\n",
       "Method:                 Least Squares   F-statistic:                     677.2\n",
       "Date:                Sat, 29 Jul 2023   Prob (F-statistic):          3.82e-103\n",
       "Time:                        13:34:10   Log-Likelihood:                -40.729\n",
       "No. Observations:                 200   AIC:                             89.46\n",
       "Df Residuals:                     196   BIC:                             102.7\n",
       "Df Model:                           3                                         \n",
       "Covariance Type:            nonrobust                                         \n",
       "================================================================================\n",
       "                   coef    std err          t      P>|t|      [0.025      0.975]\n",
       "--------------------------------------------------------------------------------\n",
       "Intercept       -0.1952      0.108     -1.807      0.072      -0.408       0.018\n",
       "group[T.B]       0.4790      0.153      3.135      0.002       0.178       0.780\n",
       "x                1.1366      0.108     10.520      0.000       0.924       1.350\n",
       "group[T.B]:x     0.0922      0.153      0.604      0.547      -0.209       0.394\n",
       "==============================================================================\n",
       "Omnibus:                        4.567   Durbin-Watson:                   2.000\n",
       "Prob(Omnibus):                  0.102   Jarque-Bera (JB):                4.334\n",
       "Skew:                           0.268   Prob(JB):                        0.115\n",
       "Kurtosis:                       3.483   Cond. No.                         14.2\n",
       "==============================================================================\n",
       "\n",
       "Notes:\n",
       "[1] Standard Errors assume that the covariance matrix of the errors is correctly specified.\n",
       "\"\"\""
      ]
     },
     "execution_count": 25,
     "metadata": {},
     "output_type": "execute_result"
    }
   ],
   "source": [
    "lm_inter = smf.ols('y ~ group * x', data=df_c).fit()  # linear interaction model\n",
    "lm_inter.summary()"
   ]
  },
  {
   "cell_type": "markdown",
   "id": "e0fec59a-45cc-4738-ae84-b2b0be8154eb",
   "metadata": {},
   "source": [
    "PR(> F) – This is the p-value associated with the F statistic of a given effect and test statistic"
   ]
  },
  {
   "cell_type": "code",
   "execution_count": 26,
   "id": "8a3d7db0-c0e8-445c-b6f9-25df4f7fe65a",
   "metadata": {},
   "outputs": [
    {
     "data": {
      "text/html": [
       "<div>\n",
       "<style scoped>\n",
       "    .dataframe tbody tr th:only-of-type {\n",
       "        vertical-align: middle;\n",
       "    }\n",
       "\n",
       "    .dataframe tbody tr th {\n",
       "        vertical-align: top;\n",
       "    }\n",
       "\n",
       "    .dataframe thead th {\n",
       "        text-align: right;\n",
       "    }\n",
       "</style>\n",
       "<table border=\"1\" class=\"dataframe\">\n",
       "  <thead>\n",
       "    <tr style=\"text-align: right;\">\n",
       "      <th></th>\n",
       "      <th>sum_sq</th>\n",
       "      <th>df</th>\n",
       "      <th>F</th>\n",
       "      <th>PR(&gt;F)</th>\n",
       "    </tr>\n",
       "  </thead>\n",
       "  <tbody>\n",
       "    <tr>\n",
       "      <th>Intercept</th>\n",
       "      <td>0.293007</td>\n",
       "      <td>1.0</td>\n",
       "      <td>3.263591</td>\n",
       "      <td>7.236772e-02</td>\n",
       "    </tr>\n",
       "    <tr>\n",
       "      <th>group</th>\n",
       "      <td>0.882226</td>\n",
       "      <td>1.0</td>\n",
       "      <td>9.826460</td>\n",
       "      <td>1.984581e-03</td>\n",
       "    </tr>\n",
       "    <tr>\n",
       "      <th>x</th>\n",
       "      <td>9.935971</td>\n",
       "      <td>1.0</td>\n",
       "      <td>110.669349</td>\n",
       "      <td>8.321008e-21</td>\n",
       "    </tr>\n",
       "    <tr>\n",
       "      <th>group:x</th>\n",
       "      <td>0.032706</td>\n",
       "      <td>1.0</td>\n",
       "      <td>0.364284</td>\n",
       "      <td>5.468342e-01</td>\n",
       "    </tr>\n",
       "    <tr>\n",
       "      <th>Residual</th>\n",
       "      <td>17.597016</td>\n",
       "      <td>196.0</td>\n",
       "      <td>NaN</td>\n",
       "      <td>NaN</td>\n",
       "    </tr>\n",
       "  </tbody>\n",
       "</table>\n",
       "</div>"
      ],
      "text/plain": [
       "              sum_sq     df           F        PR(>F)\n",
       "Intercept   0.293007    1.0    3.263591  7.236772e-02\n",
       "group       0.882226    1.0    9.826460  1.984581e-03\n",
       "x           9.935971    1.0  110.669349  8.321008e-21\n",
       "group:x     0.032706    1.0    0.364284  5.468342e-01\n",
       "Residual   17.597016  196.0         NaN           NaN"
      ]
     },
     "execution_count": 26,
     "metadata": {},
     "output_type": "execute_result"
    }
   ],
   "source": [
    "sm.stats.anova_lm(lm_inter, typ=3)"
   ]
  },
  {
   "cell_type": "markdown",
   "id": "02c236f5-64be-445b-8cda-e46622105cc8",
   "metadata": {},
   "source": [
    "Least squares model for y as a function of \"group\", and \"x\", and \"the interaction between x and group\".\n",
    "\n",
    "$$y = x\\beta_1 + group\\beta_2 + x*group\\beta_3 + \\beta_0$$\n",
    "\n",
    "Where \"group\" can be a catagory/indicator (0 or 1) or a continuous variable"
   ]
  },
  {
   "cell_type": "code",
   "execution_count": 27,
   "id": "10d2bfa2-a19c-4b54-ad2f-cbecf80c97e7",
   "metadata": {},
   "outputs": [
    {
     "data": {
      "text/html": [
       "<table class=\"simpletable\">\n",
       "<caption>OLS Regression Results</caption>\n",
       "<tr>\n",
       "  <th>Dep. Variable:</th>            <td>y</td>        <th>  R-squared:         </th> <td>   0.912</td> \n",
       "</tr>\n",
       "<tr>\n",
       "  <th>Model:</th>                   <td>OLS</td>       <th>  Adj. R-squared:    </th> <td>   0.911</td> \n",
       "</tr>\n",
       "<tr>\n",
       "  <th>Method:</th>             <td>Least Squares</td>  <th>  F-statistic:       </th> <td>   677.2</td> \n",
       "</tr>\n",
       "<tr>\n",
       "  <th>Date:</th>             <td>Sat, 29 Jul 2023</td> <th>  Prob (F-statistic):</th> <td>3.82e-103</td>\n",
       "</tr>\n",
       "<tr>\n",
       "  <th>Time:</th>                 <td>13:34:10</td>     <th>  Log-Likelihood:    </th> <td> -40.729</td> \n",
       "</tr>\n",
       "<tr>\n",
       "  <th>No. Observations:</th>      <td>   200</td>      <th>  AIC:               </th> <td>   89.46</td> \n",
       "</tr>\n",
       "<tr>\n",
       "  <th>Df Residuals:</th>          <td>   196</td>      <th>  BIC:               </th> <td>   102.7</td> \n",
       "</tr>\n",
       "<tr>\n",
       "  <th>Df Model:</th>              <td>     3</td>      <th>                     </th>     <td> </td>    \n",
       "</tr>\n",
       "<tr>\n",
       "  <th>Covariance Type:</th>      <td>nonrobust</td>    <th>                     </th>     <td> </td>    \n",
       "</tr>\n",
       "</table>\n",
       "<table class=\"simpletable\">\n",
       "<tr>\n",
       "        <td></td>          <th>coef</th>     <th>std err</th>      <th>t</th>      <th>P>|t|</th>  <th>[0.025</th>    <th>0.975]</th>  \n",
       "</tr>\n",
       "<tr>\n",
       "  <th>Intercept</th>    <td>   -0.1952</td> <td>    0.108</td> <td>   -1.807</td> <td> 0.072</td> <td>   -0.408</td> <td>    0.018</td>\n",
       "</tr>\n",
       "<tr>\n",
       "  <th>group[T.B]</th>   <td>    0.4790</td> <td>    0.153</td> <td>    3.135</td> <td> 0.002</td> <td>    0.178</td> <td>    0.780</td>\n",
       "</tr>\n",
       "<tr>\n",
       "  <th>x</th>            <td>    1.1366</td> <td>    0.108</td> <td>   10.520</td> <td> 0.000</td> <td>    0.924</td> <td>    1.350</td>\n",
       "</tr>\n",
       "<tr>\n",
       "  <th>x:group[T.B]</th> <td>    0.0922</td> <td>    0.153</td> <td>    0.604</td> <td> 0.547</td> <td>   -0.209</td> <td>    0.394</td>\n",
       "</tr>\n",
       "</table>\n",
       "<table class=\"simpletable\">\n",
       "<tr>\n",
       "  <th>Omnibus:</th>       <td> 4.567</td> <th>  Durbin-Watson:     </th> <td>   2.000</td>\n",
       "</tr>\n",
       "<tr>\n",
       "  <th>Prob(Omnibus):</th> <td> 0.102</td> <th>  Jarque-Bera (JB):  </th> <td>   4.334</td>\n",
       "</tr>\n",
       "<tr>\n",
       "  <th>Skew:</th>          <td> 0.268</td> <th>  Prob(JB):          </th> <td>   0.115</td>\n",
       "</tr>\n",
       "<tr>\n",
       "  <th>Kurtosis:</th>      <td> 3.483</td> <th>  Cond. No.          </th> <td>    14.2</td>\n",
       "</tr>\n",
       "</table><br/><br/>Notes:<br/>[1] Standard Errors assume that the covariance matrix of the errors is correctly specified."
      ],
      "text/plain": [
       "<class 'statsmodels.iolib.summary.Summary'>\n",
       "\"\"\"\n",
       "                            OLS Regression Results                            \n",
       "==============================================================================\n",
       "Dep. Variable:                      y   R-squared:                       0.912\n",
       "Model:                            OLS   Adj. R-squared:                  0.911\n",
       "Method:                 Least Squares   F-statistic:                     677.2\n",
       "Date:                Sat, 29 Jul 2023   Prob (F-statistic):          3.82e-103\n",
       "Time:                        13:34:10   Log-Likelihood:                -40.729\n",
       "No. Observations:                 200   AIC:                             89.46\n",
       "Df Residuals:                     196   BIC:                             102.7\n",
       "Df Model:                           3                                         \n",
       "Covariance Type:            nonrobust                                         \n",
       "================================================================================\n",
       "                   coef    std err          t      P>|t|      [0.025      0.975]\n",
       "--------------------------------------------------------------------------------\n",
       "Intercept       -0.1952      0.108     -1.807      0.072      -0.408       0.018\n",
       "group[T.B]       0.4790      0.153      3.135      0.002       0.178       0.780\n",
       "x                1.1366      0.108     10.520      0.000       0.924       1.350\n",
       "x:group[T.B]     0.0922      0.153      0.604      0.547      -0.209       0.394\n",
       "==============================================================================\n",
       "Omnibus:                        4.567   Durbin-Watson:                   2.000\n",
       "Prob(Omnibus):                  0.102   Jarque-Bera (JB):                4.334\n",
       "Skew:                           0.268   Prob(JB):                        0.115\n",
       "Kurtosis:                       3.483   Cond. No.                         14.2\n",
       "==============================================================================\n",
       "\n",
       "Notes:\n",
       "[1] Standard Errors assume that the covariance matrix of the errors is correctly specified.\n",
       "\"\"\""
      ]
     },
     "execution_count": 27,
     "metadata": {},
     "output_type": "execute_result"
    }
   ],
   "source": [
    "lm_inter_mc = smf.ols(\"y ~ group + x + x:group\", data=df_c).fit()  # linear interaction model, alternate notation\n",
    "lm_inter_mc.summary()"
   ]
  },
  {
   "cell_type": "code",
   "execution_count": 28,
   "id": "7118540f-5c08-40c9-a573-597075408802",
   "metadata": {},
   "outputs": [
    {
     "data": {
      "text/html": [
       "<div>\n",
       "<style scoped>\n",
       "    .dataframe tbody tr th:only-of-type {\n",
       "        vertical-align: middle;\n",
       "    }\n",
       "\n",
       "    .dataframe tbody tr th {\n",
       "        vertical-align: top;\n",
       "    }\n",
       "\n",
       "    .dataframe thead th {\n",
       "        text-align: right;\n",
       "    }\n",
       "</style>\n",
       "<table border=\"1\" class=\"dataframe\">\n",
       "  <thead>\n",
       "    <tr style=\"text-align: right;\">\n",
       "      <th></th>\n",
       "      <th>sum_sq</th>\n",
       "      <th>df</th>\n",
       "      <th>F</th>\n",
       "      <th>PR(&gt;F)</th>\n",
       "    </tr>\n",
       "  </thead>\n",
       "  <tbody>\n",
       "    <tr>\n",
       "      <th>Intercept</th>\n",
       "      <td>0.293007</td>\n",
       "      <td>1.0</td>\n",
       "      <td>3.263591</td>\n",
       "      <td>7.236772e-02</td>\n",
       "    </tr>\n",
       "    <tr>\n",
       "      <th>group</th>\n",
       "      <td>0.882226</td>\n",
       "      <td>1.0</td>\n",
       "      <td>9.826460</td>\n",
       "      <td>1.984581e-03</td>\n",
       "    </tr>\n",
       "    <tr>\n",
       "      <th>x</th>\n",
       "      <td>9.935971</td>\n",
       "      <td>1.0</td>\n",
       "      <td>110.669349</td>\n",
       "      <td>8.321008e-21</td>\n",
       "    </tr>\n",
       "    <tr>\n",
       "      <th>x:group</th>\n",
       "      <td>0.032706</td>\n",
       "      <td>1.0</td>\n",
       "      <td>0.364284</td>\n",
       "      <td>5.468342e-01</td>\n",
       "    </tr>\n",
       "    <tr>\n",
       "      <th>Residual</th>\n",
       "      <td>17.597016</td>\n",
       "      <td>196.0</td>\n",
       "      <td>NaN</td>\n",
       "      <td>NaN</td>\n",
       "    </tr>\n",
       "  </tbody>\n",
       "</table>\n",
       "</div>"
      ],
      "text/plain": [
       "              sum_sq     df           F        PR(>F)\n",
       "Intercept   0.293007    1.0    3.263591  7.236772e-02\n",
       "group       0.882226    1.0    9.826460  1.984581e-03\n",
       "x           9.935971    1.0  110.669349  8.321008e-21\n",
       "x:group     0.032706    1.0    0.364284  5.468342e-01\n",
       "Residual   17.597016  196.0         NaN           NaN"
      ]
     },
     "execution_count": 28,
     "metadata": {},
     "output_type": "execute_result"
    }
   ],
   "source": [
    "sm.stats.anova_lm(lm_inter_mc, typ=3)"
   ]
  },
  {
   "cell_type": "code",
   "execution_count": 29,
   "id": "ae474585-c3dc-42ce-8f21-57eda9db5dea",
   "metadata": {},
   "outputs": [
    {
     "data": {
      "text/html": [
       "<div>\n",
       "<style scoped>\n",
       "    .dataframe tbody tr th:only-of-type {\n",
       "        vertical-align: middle;\n",
       "    }\n",
       "\n",
       "    .dataframe tbody tr th {\n",
       "        vertical-align: top;\n",
       "    }\n",
       "\n",
       "    .dataframe thead th {\n",
       "        text-align: right;\n",
       "    }\n",
       "</style>\n",
       "<table border=\"1\" class=\"dataframe\">\n",
       "  <thead>\n",
       "    <tr style=\"text-align: right;\">\n",
       "      <th></th>\n",
       "      <th>df_resid</th>\n",
       "      <th>ssr</th>\n",
       "      <th>df_diff</th>\n",
       "      <th>ss_diff</th>\n",
       "      <th>F</th>\n",
       "      <th>Pr(&gt;F)</th>\n",
       "    </tr>\n",
       "  </thead>\n",
       "  <tbody>\n",
       "    <tr>\n",
       "      <th>0</th>\n",
       "      <td>197.0</td>\n",
       "      <td>17.629721</td>\n",
       "      <td>0.0</td>\n",
       "      <td>NaN</td>\n",
       "      <td>NaN</td>\n",
       "      <td>NaN</td>\n",
       "    </tr>\n",
       "    <tr>\n",
       "      <th>1</th>\n",
       "      <td>196.0</td>\n",
       "      <td>17.597016</td>\n",
       "      <td>1.0</td>\n",
       "      <td>0.032706</td>\n",
       "      <td>0.364284</td>\n",
       "      <td>0.546834</td>\n",
       "    </tr>\n",
       "  </tbody>\n",
       "</table>\n",
       "</div>"
      ],
      "text/plain": [
       "   df_resid        ssr  df_diff   ss_diff         F    Pr(>F)\n",
       "0     197.0  17.629721      0.0       NaN       NaN       NaN\n",
       "1     196.0  17.597016      1.0  0.032706  0.364284  0.546834"
      ]
     },
     "execution_count": 29,
     "metadata": {},
     "output_type": "execute_result"
    }
   ],
   "source": [
    "sm.stats.anova_lm(lm_ancova, lm_inter)"
   ]
  },
  {
   "cell_type": "code",
   "execution_count": 30,
   "id": "3ce43a8b-3274-4586-a363-1e96ec4634c2",
   "metadata": {},
   "outputs": [
    {
     "data": {
      "text/html": [
       "<div>\n",
       "<style scoped>\n",
       "    .dataframe tbody tr th:only-of-type {\n",
       "        vertical-align: middle;\n",
       "    }\n",
       "\n",
       "    .dataframe tbody tr th {\n",
       "        vertical-align: top;\n",
       "    }\n",
       "\n",
       "    .dataframe thead th {\n",
       "        text-align: right;\n",
       "    }\n",
       "</style>\n",
       "<table border=\"1\" class=\"dataframe\">\n",
       "  <thead>\n",
       "    <tr style=\"text-align: right;\">\n",
       "      <th></th>\n",
       "      <th>df_resid</th>\n",
       "      <th>ssr</th>\n",
       "      <th>df_diff</th>\n",
       "      <th>ss_diff</th>\n",
       "      <th>F</th>\n",
       "      <th>Pr(&gt;F)</th>\n",
       "    </tr>\n",
       "  </thead>\n",
       "  <tbody>\n",
       "    <tr>\n",
       "      <th>0</th>\n",
       "      <td>196.0</td>\n",
       "      <td>17.597016</td>\n",
       "      <td>0.0</td>\n",
       "      <td>NaN</td>\n",
       "      <td>NaN</td>\n",
       "      <td>NaN</td>\n",
       "    </tr>\n",
       "    <tr>\n",
       "      <th>1</th>\n",
       "      <td>197.0</td>\n",
       "      <td>17.629721</td>\n",
       "      <td>-1.0</td>\n",
       "      <td>-0.032706</td>\n",
       "      <td>0.365464</td>\n",
       "      <td>NaN</td>\n",
       "    </tr>\n",
       "  </tbody>\n",
       "</table>\n",
       "</div>"
      ],
      "text/plain": [
       "   df_resid        ssr  df_diff   ss_diff         F  Pr(>F)\n",
       "0     196.0  17.597016      0.0       NaN       NaN     NaN\n",
       "1     197.0  17.629721     -1.0 -0.032706  0.365464     NaN"
      ]
     },
     "execution_count": 30,
     "metadata": {},
     "output_type": "execute_result"
    }
   ],
   "source": [
    "sm.stats.anova_lm(lm_inter, lm_ancova)"
   ]
  },
  {
   "cell_type": "code",
   "execution_count": 31,
   "id": "359f95e3-1b0d-43b3-98df-16e91b297fca",
   "metadata": {},
   "outputs": [],
   "source": [
    "\n",
    "# formula = \"S ~ C(E) + C(M) + X\"\n",
    "# lm = ols(formula, salary_table).fit()\n",
    "\n",
    "# table1 = anova_lm(lm, interX_lm)\n",
    "# print(table1)\n",
    "\n",
    "# interM_lm = ols(\"S ~ X + C(E)*C(M)\", data=salary_table).fit()\n",
    "# print(interM_lm.summary())\n",
    "\n",
    "# table2 = anova_lm(lm, interM_lm)\n",
    "# print(table2)"
   ]
  },
  {
   "cell_type": "markdown",
   "id": "2acd2873-470a-45d9-8297-39112883caa1",
   "metadata": {},
   "source": [
    "# Z statistic"
   ]
  },
  {
   "cell_type": "markdown",
   "id": "918e13b4-0dd6-4cd6-af40-a04058f1f572",
   "metadata": {},
   "source": [
    "https://www.jstor.org/stable/2782277\n",
    "\n",
    "https://stats.stackexchange.com/questions/435644/is-there-a-method-to-look-for-significant-difference-between-two-linear-regressi\n",
    "\n",
    "https://stats.stackexchange.com/questions/55501/test-a-significant-difference-between-two-slope-values?noredirect=1&lq=1"
   ]
  },
  {
   "cell_type": "markdown",
   "id": "d3ff7d50-e10d-4e62-b650-29d7506229c8",
   "metadata": {},
   "source": [
    "**Two Sample Z-test**\n",
    ">Null hypothesis: two population means are equal\n",
    ">* \n",
    "    \n",
    ">Inputs: \n",
    ">* dataset\n",
    "\n",
    ">Returns: \n",
    ">* \n",
    "\n",
    ">Assumptions:\n",
    ">* \n",
    "\n",
    "\n",
    "$$z = \\frac{(\\bar{x_1} - \\bar{x_2})}{\\sqrt{\\sigma_1^2/n_1 + \\sigma_2^2/n_2}}$$\n",
    "Standard error of the sample mean\n",
    "\n",
    "$$\\sigma_{\\bar{x}} = \\frac{\\sigma_x}{\\sqrt{n}}$$\n",
    "\n",
    "Z-statistic for model coefficients\n",
    "$$z = \\frac{(\\beta_1 - \\beta_2)}{\\sqrt{SE_1^2 + SE_2^2}}$$\n",
    "\n",
    "* $SE$ = standard error"
   ]
  },
  {
   "cell_type": "code",
   "execution_count": 32,
   "id": "fae0b5be-2aa2-4675-be53-f55d243d24cf",
   "metadata": {},
   "outputs": [],
   "source": [
    "def zstat_coeff(b1, se1, b2, se2):\n",
    "    return ((b1-b2)/np.sqrt(se1**2 + se2**2)) "
   ]
  },
  {
   "cell_type": "code",
   "execution_count": 33,
   "id": "43b8a98b-aaf5-45bd-bfdf-d0cec43d3ad8",
   "metadata": {},
   "outputs": [],
   "source": [
    "b1 = lm1_sm.params[0]\n",
    "se1 = lm1_sm.bse[0]\n",
    "b2 = lm2_sm.params[0]\n",
    "se2 = lm2_sm.bse[0]"
   ]
  },
  {
   "cell_type": "code",
   "execution_count": 34,
   "id": "a4cffc89-a48b-4f5c-9788-5c7443906b7f",
   "metadata": {},
   "outputs": [
    {
     "ename": "NameError",
     "evalue": "name 'sps' is not defined",
     "output_type": "error",
     "traceback": [
      "\u001b[1;31m---------------------------------------------------------------------------\u001b[0m",
      "\u001b[1;31mNameError\u001b[0m                                 Traceback (most recent call last)",
      "\u001b[1;32m~\\AppData\\Local\\Temp/ipykernel_26104/2515458165.py\u001b[0m in \u001b[0;36m<module>\u001b[1;34m\u001b[0m\n\u001b[1;32m----> 1\u001b[1;33m \u001b[0mp_value\u001b[0m \u001b[1;33m=\u001b[0m \u001b[1;36m2\u001b[0m\u001b[1;33m*\u001b[0m\u001b[0msps\u001b[0m\u001b[1;33m.\u001b[0m\u001b[0mnorm\u001b[0m\u001b[1;33m.\u001b[0m\u001b[0mpdf\u001b[0m\u001b[1;33m(\u001b[0m\u001b[1;33m-\u001b[0m\u001b[0mabs\u001b[0m\u001b[1;33m(\u001b[0m\u001b[0mzstat_coeff\u001b[0m\u001b[1;33m(\u001b[0m\u001b[0mb1\u001b[0m\u001b[1;33m,\u001b[0m\u001b[0mse1\u001b[0m\u001b[1;33m,\u001b[0m\u001b[0mb2\u001b[0m\u001b[1;33m,\u001b[0m\u001b[0mse2\u001b[0m\u001b[1;33m)\u001b[0m\u001b[1;33m)\u001b[0m\u001b[1;33m)\u001b[0m\u001b[1;33m\u001b[0m\u001b[1;33m\u001b[0m\u001b[0m\n\u001b[0m\u001b[0;32m      2\u001b[0m \u001b[0mp_value\u001b[0m\u001b[1;33m\u001b[0m\u001b[1;33m\u001b[0m\u001b[0m\n",
      "\u001b[1;31mNameError\u001b[0m: name 'sps' is not defined"
     ]
    }
   ],
   "source": [
    "p_value = 2*sps.norm.pdf(-abs(zstat_coeff(b1,se1,b2,se2)))\n",
    "p_value"
   ]
  },
  {
   "cell_type": "code",
   "execution_count": null,
   "id": "b6e32fa4-fbad-4619-a196-0d644d665f09",
   "metadata": {},
   "outputs": [],
   "source": [
    "p_value_c = 2*sps.norm.cdf(-abs(zstat_coeff(b1,se1,b2,se2)))\n",
    "p_value_c"
   ]
  },
  {
   "cell_type": "code",
   "execution_count": null,
   "id": "dd69dbb9-eb1c-464c-92ec-39f92ce80355",
   "metadata": {},
   "outputs": [],
   "source": [
    "# p_value = 2*pnorm(-abs(compare.coeff(b1,se1,b2,se2)))\n",
    "# p_value"
   ]
  },
  {
   "cell_type": "markdown",
   "id": "cd52c1dc-be8c-4cc8-a299-f84cd5ec0f29",
   "metadata": {
    "tags": []
   },
   "source": [
    "# ANOVA"
   ]
  },
  {
   "cell_type": "markdown",
   "id": "a46c4d87-3481-4c29-b119-6ca43e77fee4",
   "metadata": {},
   "source": [
    "https://stats.stackexchange.com/questions/45528/comparing-two-linear-regression-models\n",
    "\n",
    "https://stats.stackexchange.com/questions/57492/what-test-should-be-used-to-tell-if-two-linear-regression-lines-are-significantl"
   ]
  },
  {
   "cell_type": "markdown",
   "id": "d077a109-8871-453d-9314-a70a936aeb5a",
   "metadata": {},
   "source": [
    "# Wald Test"
   ]
  },
  {
   "cell_type": "markdown",
   "id": "117ab9db-1382-472a-a532-c9e750f71e7c",
   "metadata": {},
   "source": [
    "https://en.wikipedia.org/wiki/Wald_test\n",
    "\n",
    "https://www.statology.org/wald-test-python/\n",
    "\n",
    "https://andrewpwheeler.com/2021/06/18/wald-tests-via-statsmodels-python/\n",
    "\n",
    "https://stats.stackexchange.com/questions/592311/wald-test-failing-to-reject-null-hypothesis-that-a-predictor-is-insignificant-in\n",
    "\n",
    "https://stackoverflow.com/questions/28926922/statsmodels-wald-test-for-significance-of-trend-in-coefficients-in-linear-regr"
   ]
  },
  {
   "cell_type": "code",
   "execution_count": null,
   "id": "3ab0cb11-f682-459c-bbe7-ce2d5013491e",
   "metadata": {},
   "outputs": [],
   "source": [
    "lm_c = smf.ols(\"y1 ~ X1 + X2\", df).fit()\n",
    "results.summary()"
   ]
  },
  {
   "cell_type": "code",
   "execution_count": null,
   "id": "e9398ea1-0d91-42e2-a556-a27fd788569b",
   "metadata": {},
   "outputs": [],
   "source": [
    "results.wald_test_terms()"
   ]
  },
  {
   "cell_type": "code",
   "execution_count": null,
   "id": "56d0adfa-ccd8-4992-946c-cb3bd018204e",
   "metadata": {},
   "outputs": [],
   "source": [
    "# OLSResults.wald_test_terms(skip_single=False, extra_constraints=None, combine_terms=None, scalar=None)\n",
    "\n",
    "# ols = sm.regression.linear_model.OLS(X,y)\n",
    "ols = sm.regression.linear_model.OLS(\"y1 ~ X1 + X2\", df)\n",
    "# ols_res = ols.fit()\n",
    "# ols_res.wald_test_terms()\n",
    "\n",
    "#results = smf.ols('mpg ~ disp + carb + hp + cyl', df).fit()\n",
    "#results.wald_test('(hp = 0, cyl = 0)')\n",
    "\n",
    "# res_ols = ols(\"np.log(Days+1) ~ C(Duration, Sum)*C(Weight, Sum)\", data).fit()\n",
    "#res_ols.wald_test_terms()"
   ]
  },
  {
   "cell_type": "code",
   "execution_count": null,
   "id": "017eb27c-c95e-4fed-b044-807bf836c3b9",
   "metadata": {},
   "outputs": [],
   "source": []
  }
 ],
 "metadata": {
  "kernelspec": {
   "display_name": "Python 3 (ipykernel)",
   "language": "python",
   "name": "python3"
  },
  "language_info": {
   "codemirror_mode": {
    "name": "ipython",
    "version": 3
   },
   "file_extension": ".py",
   "mimetype": "text/x-python",
   "name": "python",
   "nbconvert_exporter": "python",
   "pygments_lexer": "ipython3",
   "version": "3.9.7"
  },
  "toc-autonumbering": true
 },
 "nbformat": 4,
 "nbformat_minor": 5
}
