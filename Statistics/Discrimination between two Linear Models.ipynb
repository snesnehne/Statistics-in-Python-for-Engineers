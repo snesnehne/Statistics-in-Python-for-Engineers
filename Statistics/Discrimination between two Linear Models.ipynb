{
 "cells": [
  {
   "cell_type": "code",
   "execution_count": 1,
   "id": "6f8af873-0aa2-444c-a08d-0c27a93d294a",
   "metadata": {},
   "outputs": [],
   "source": [
    "import statsmodels.api as sm\n",
    "import statsmodels.formula.api as smf\n",
    "from sklearn import linear_model, preprocessing\n",
    "import scipy.stats as sps\n",
    "\n",
    "import numpy as np\n",
    "import matplotlib.pyplot as plt\n",
    "import pandas as pd"
   ]
  },
  {
   "cell_type": "markdown",
   "id": "46c89f5d-41ee-4bea-bfaf-5478940cf7a6",
   "metadata": {},
   "source": [
    "## Methods\n"
   ]
  },
  {
   "cell_type": "markdown",
   "id": "7bbb79d8-5462-4eb2-aeac-cb02ec98a51d",
   "metadata": {},
   "source": [
    "https://stats.oarc.ucla.edu/other/mult-pkg/faq/general/faqhow-are-the-likelihood-ratio-wald-and-lagrange-multiplier-score-tests-different-andor-similar/#:~:text=The%20Wald%20test%20works%20by,are%20simultaneously%20equal%20to%20zero\n",
    "\n",
    "\n"
   ]
  },
  {
   "cell_type": "markdown",
   "id": "ef39c317-8d0b-418d-8625-a02fc0f0b37d",
   "metadata": {},
   "source": [
    "## Data"
   ]
  },
  {
   "cell_type": "code",
   "execution_count": 2,
   "id": "a577d9da-ed15-4aab-a2a5-a8f1a303ec52",
   "metadata": {},
   "outputs": [],
   "source": [
    "g1_count = 100\n",
    "g2_count = 100\n",
    "\n",
    "x1 = np.arange(30, 40, 10/g1_count)\n",
    "y1 = x1 + 3 + np.random.normal(loc=0, scale=1, size=g1_count)\n",
    "\n",
    "x2 = np.arange(0, 10, 10/g2_count)\n",
    "y2 = 1.9*x2 + 3 + np.random.normal(loc=0, scale=1, size=g2_count)\n",
    "\n",
    "df = pd.DataFrame({\"x1\": x1, \"x2\": x2, \"y1\": y1, \"y2\": y2})"
   ]
  },
  {
   "cell_type": "code",
   "execution_count": 3,
   "id": "2a605d30-de9c-4345-9248-9fd109ff8d43",
   "metadata": {},
   "outputs": [
    {
     "data": {
      "text/html": [
       "<div><div id=f594d844-4831-4afb-9802-44bd2cc00dd6 style=\"display:none; background-color:#9D6CFF; color:white; width:200px; height:30px; padding-left:5px; border-radius:4px; flex-direction:row; justify-content:space-around; align-items:center;\" onmouseover=\"this.style.backgroundColor='#BA9BF8'\" onmouseout=\"this.style.backgroundColor='#9D6CFF'\" onclick=\"window.commands?.execute('create-mitosheet-from-dataframe-output');\">See Full Dataframe in Mito</div> <script> if (window.commands?.hasCommand('create-mitosheet-from-dataframe-output')) document.getElementById('f594d844-4831-4afb-9802-44bd2cc00dd6').style.display = 'flex' </script> <table border=\"1\" class=\"dataframe\">\n",
       "  <thead>\n",
       "    <tr style=\"text-align: right;\">\n",
       "      <th></th>\n",
       "      <th>x1</th>\n",
       "      <th>x2</th>\n",
       "      <th>y1</th>\n",
       "      <th>y2</th>\n",
       "    </tr>\n",
       "  </thead>\n",
       "  <tbody>\n",
       "    <tr>\n",
       "      <th>0</th>\n",
       "      <td>30.0</td>\n",
       "      <td>0.0</td>\n",
       "      <td>33.207317</td>\n",
       "      <td>1.123880</td>\n",
       "    </tr>\n",
       "    <tr>\n",
       "      <th>1</th>\n",
       "      <td>30.1</td>\n",
       "      <td>0.1</td>\n",
       "      <td>32.873127</td>\n",
       "      <td>1.097365</td>\n",
       "    </tr>\n",
       "    <tr>\n",
       "      <th>2</th>\n",
       "      <td>30.2</td>\n",
       "      <td>0.2</td>\n",
       "      <td>34.376514</td>\n",
       "      <td>2.691373</td>\n",
       "    </tr>\n",
       "    <tr>\n",
       "      <th>3</th>\n",
       "      <td>30.3</td>\n",
       "      <td>0.3</td>\n",
       "      <td>35.723729</td>\n",
       "      <td>4.243895</td>\n",
       "    </tr>\n",
       "    <tr>\n",
       "      <th>4</th>\n",
       "      <td>30.4</td>\n",
       "      <td>0.4</td>\n",
       "      <td>33.188273</td>\n",
       "      <td>4.346516</td>\n",
       "    </tr>\n",
       "    <tr>\n",
       "      <th>...</th>\n",
       "      <td>...</td>\n",
       "      <td>...</td>\n",
       "      <td>...</td>\n",
       "      <td>...</td>\n",
       "    </tr>\n",
       "    <tr>\n",
       "      <th>95</th>\n",
       "      <td>39.5</td>\n",
       "      <td>9.5</td>\n",
       "      <td>41.650990</td>\n",
       "      <td>21.620298</td>\n",
       "    </tr>\n",
       "    <tr>\n",
       "      <th>96</th>\n",
       "      <td>39.6</td>\n",
       "      <td>9.6</td>\n",
       "      <td>43.372440</td>\n",
       "      <td>20.788269</td>\n",
       "    </tr>\n",
       "    <tr>\n",
       "      <th>97</th>\n",
       "      <td>39.7</td>\n",
       "      <td>9.7</td>\n",
       "      <td>42.214964</td>\n",
       "      <td>20.561244</td>\n",
       "    </tr>\n",
       "    <tr>\n",
       "      <th>98</th>\n",
       "      <td>39.8</td>\n",
       "      <td>9.8</td>\n",
       "      <td>43.661361</td>\n",
       "      <td>21.885978</td>\n",
       "    </tr>\n",
       "    <tr>\n",
       "      <th>99</th>\n",
       "      <td>39.9</td>\n",
       "      <td>9.9</td>\n",
       "      <td>41.935354</td>\n",
       "      <td>21.806024</td>\n",
       "    </tr>\n",
       "  </tbody>\n",
       "</table></div>"
      ],
      "text/plain": [
       "      x1   x2         y1         y2\n",
       "0   30.0  0.0  33.207317   1.123880\n",
       "1   30.1  0.1  32.873127   1.097365\n",
       "2   30.2  0.2  34.376514   2.691373\n",
       "3   30.3  0.3  35.723729   4.243895\n",
       "4   30.4  0.4  33.188273   4.346516\n",
       "..   ...  ...        ...        ...\n",
       "95  39.5  9.5  41.650990  21.620298\n",
       "96  39.6  9.6  43.372440  20.788269\n",
       "97  39.7  9.7  42.214964  20.561244\n",
       "98  39.8  9.8  43.661361  21.885978\n",
       "99  39.9  9.9  41.935354  21.806024\n",
       "\n",
       "[100 rows x 4 columns]"
      ]
     },
     "execution_count": 3,
     "metadata": {},
     "output_type": "execute_result"
    }
   ],
   "source": [
    "df"
   ]
  },
  {
   "cell_type": "code",
   "execution_count": 4,
   "id": "0301154d-8be3-45aa-a637-17dd620b7aa0",
   "metadata": {},
   "outputs": [
    {
     "data": {
      "text/plain": [
       "<matplotlib.collections.PathCollection at 0x1fceaa28ac0>"
      ]
     },
     "execution_count": 4,
     "metadata": {},
     "output_type": "execute_result"
    },
    {
     "data": {
      "image/png": "[encoded data removed]",
      "text/plain": [
       "<Figure size 640x480 with 1 Axes>"
      ]
     },
     "metadata": {},
     "output_type": "display_data"
    }
   ],
   "source": [
    "fig, ax = plt.subplots()\n",
    "\n",
    "ax.scatter(x1,y1)\n",
    "ax.scatter(x2,y2)"
   ]
  },
  {
   "cell_type": "markdown",
   "id": "e4ee6a2d-d505-47b9-8f67-f67c1e11c78c",
   "metadata": {},
   "source": [
    "## Linear models"
   ]
  },
  {
   "cell_type": "markdown",
   "id": "495b9920-d1ba-49d5-bbb0-baeeaad1300f",
   "metadata": {},
   "source": [
    "### Seperate Models"
   ]
  },
  {
   "cell_type": "markdown",
   "id": "00cab8a3-efed-4828-87da-b97d8b01e097",
   "metadata": {},
   "source": [
    "#### Scikit-learn model"
   ]
  },
  {
   "cell_type": "code",
   "execution_count": 5,
   "id": "293629c3-0c32-4c02-901c-2bb60363b35f",
   "metadata": {},
   "outputs": [
    {
     "name": "stdout",
     "output_type": "stream",
     "text": [
      " y = 0.9238073065956339x + 5.675280224008674\n",
      " y = 1.9539965125332124x + 2.785794428593606\n"
     ]
    }
   ],
   "source": [
    "lm1_sk = linear_model.LinearRegression().fit(x1.reshape(-1,1), y1.reshape(-1,1))\n",
    "lm2_sk = linear_model.LinearRegression().fit(x2.reshape(-1,1), y2.reshape(-1,1))\n",
    "print(f\" y = {lm1_sk.coef_[0][0]}x + {lm1_sk.intercept_[0]}\")\n",
    "print(f\" y = {lm2_sk.coef_[0][0]}x + {lm2_sk.intercept_[0]}\")"
   ]
  },
  {
   "cell_type": "markdown",
   "id": "2fc40a7e-05e2-4b63-97ce-dbbf71f90349",
   "metadata": {},
   "source": [
    "#### Statsmodels model"
   ]
  },
  {
   "cell_type": "markdown",
   "id": "be10bcf2-1052-4df4-be3a-1c3fe462bcfb",
   "metadata": {},
   "source": [
    "Endog is the dependent variable while exog is the independent variable"
   ]
  },
  {
   "cell_type": "code",
   "execution_count": 6,
   "id": "c8ae7b5e-6f30-49fe-aae5-240f180555d4",
   "metadata": {},
   "outputs": [],
   "source": [
    "x1s = df[\"x1\"]\n",
    "x2s = df[\"x2\"]\n",
    "\n",
    "x1s = sm.add_constant(x1s) # add column of ones to include intercept term in model\n",
    "x2s = sm.add_constant(x2s) # add column of ones to include intercept term in model\n",
    "\n",
    "lm1_sm = sm.OLS(endog=df[\"y1\"], exog=x1s).fit()\n",
    "lm2_sm = sm.OLS(endog=df[\"y2\"], exog=x2s).fit()\n",
    "# lm1 = sm.OLS(endog=df[\"y1\"], exog=df[[\"x1\"]].assign(intercept=1)).fit()\n",
    "# lm2 = sm.OLS(endog=df[\"y2\"], exog=df[[\"x2\"]].assign(intercept=1)).fit()"
   ]
  },
  {
   "cell_type": "code",
   "execution_count": 7,
   "id": "ee16c553-7c71-4905-a4ca-0ec5bd277827",
   "metadata": {},
   "outputs": [
    {
     "data": {
      "text/plain": [
       "const    5.675280\n",
       "x1       0.923807\n",
       "dtype: float64"
      ]
     },
     "execution_count": 7,
     "metadata": {},
     "output_type": "execute_result"
    }
   ],
   "source": [
    "lm1_sm.params"
   ]
  },
  {
   "cell_type": "code",
   "execution_count": 8,
   "id": "c7504948-5b99-49ca-853c-797e06bbccf9",
   "metadata": {},
   "outputs": [
    {
     "data": {
      "text/html": [
       "<table class=\"simpletable\">\n",
       "<caption>OLS Regression Results</caption>\n",
       "<tr>\n",
       "  <th>Dep. Variable:</th>           <td>y1</td>        <th>  R-squared:         </th> <td>   0.877</td>\n",
       "</tr>\n",
       "<tr>\n",
       "  <th>Model:</th>                   <td>OLS</td>       <th>  Adj. R-squared:    </th> <td>   0.876</td>\n",
       "</tr>\n",
       "<tr>\n",
       "  <th>Method:</th>             <td>Least Squares</td>  <th>  F-statistic:       </th> <td>   700.4</td>\n",
       "</tr>\n",
       "<tr>\n",
       "  <th>Date:</th>             <td>Mon, 22 May 2023</td> <th>  Prob (F-statistic):</th> <td>1.96e-46</td>\n",
       "</tr>\n",
       "<tr>\n",
       "  <th>Time:</th>                 <td>12:45:43</td>     <th>  Log-Likelihood:    </th> <td> -141.64</td>\n",
       "</tr>\n",
       "<tr>\n",
       "  <th>No. Observations:</th>      <td>   100</td>      <th>  AIC:               </th> <td>   287.3</td>\n",
       "</tr>\n",
       "<tr>\n",
       "  <th>Df Residuals:</th>          <td>    98</td>      <th>  BIC:               </th> <td>   292.5</td>\n",
       "</tr>\n",
       "<tr>\n",
       "  <th>Df Model:</th>              <td>     1</td>      <th>                     </th>     <td> </td>   \n",
       "</tr>\n",
       "<tr>\n",
       "  <th>Covariance Type:</th>      <td>nonrobust</td>    <th>                     </th>     <td> </td>   \n",
       "</tr>\n",
       "</table>\n",
       "<table class=\"simpletable\">\n",
       "<tr>\n",
       "    <td></td>       <th>coef</th>     <th>std err</th>      <th>t</th>      <th>P>|t|</th>  <th>[0.025</th>    <th>0.975]</th>  \n",
       "</tr>\n",
       "<tr>\n",
       "  <th>const</th> <td>    5.6753</td> <td>    1.224</td> <td>    4.636</td> <td> 0.000</td> <td>    3.246</td> <td>    8.104</td>\n",
       "</tr>\n",
       "<tr>\n",
       "  <th>x1</th>    <td>    0.9238</td> <td>    0.035</td> <td>   26.466</td> <td> 0.000</td> <td>    0.855</td> <td>    0.993</td>\n",
       "</tr>\n",
       "</table>\n",
       "<table class=\"simpletable\">\n",
       "<tr>\n",
       "  <th>Omnibus:</th>       <td> 2.709</td> <th>  Durbin-Watson:     </th> <td>   2.107</td>\n",
       "</tr>\n",
       "<tr>\n",
       "  <th>Prob(Omnibus):</th> <td> 0.258</td> <th>  Jarque-Bera (JB):  </th> <td>   2.104</td>\n",
       "</tr>\n",
       "<tr>\n",
       "  <th>Skew:</th>          <td>-0.250</td> <th>  Prob(JB):          </th> <td>   0.349</td>\n",
       "</tr>\n",
       "<tr>\n",
       "  <th>Kurtosis:</th>      <td> 3.505</td> <th>  Cond. No.          </th> <td>    426.</td>\n",
       "</tr>\n",
       "</table><br/><br/>Notes:<br/>[1] Standard Errors assume that the covariance matrix of the errors is correctly specified."
      ],
      "text/plain": [
       "<class 'statsmodels.iolib.summary.Summary'>\n",
       "\"\"\"\n",
       "                            OLS Regression Results                            \n",
       "==============================================================================\n",
       "Dep. Variable:                     y1   R-squared:                       0.877\n",
       "Model:                            OLS   Adj. R-squared:                  0.876\n",
       "Method:                 Least Squares   F-statistic:                     700.4\n",
       "Date:                Mon, 22 May 2023   Prob (F-statistic):           1.96e-46\n",
       "Time:                        12:45:43   Log-Likelihood:                -141.64\n",
       "No. Observations:                 100   AIC:                             287.3\n",
       "Df Residuals:                      98   BIC:                             292.5\n",
       "Df Model:                           1                                         \n",
       "Covariance Type:            nonrobust                                         \n",
       "==============================================================================\n",
       "                 coef    std err          t      P>|t|      [0.025      0.975]\n",
       "------------------------------------------------------------------------------\n",
       "const          5.6753      1.224      4.636      0.000       3.246       8.104\n",
       "x1             0.9238      0.035     26.466      0.000       0.855       0.993\n",
       "==============================================================================\n",
       "Omnibus:                        2.709   Durbin-Watson:                   2.107\n",
       "Prob(Omnibus):                  0.258   Jarque-Bera (JB):                2.104\n",
       "Skew:                          -0.250   Prob(JB):                        0.349\n",
       "Kurtosis:                       3.505   Cond. No.                         426.\n",
       "==============================================================================\n",
       "\n",
       "Notes:\n",
       "[1] Standard Errors assume that the covariance matrix of the errors is correctly specified.\n",
       "\"\"\""
      ]
     },
     "execution_count": 8,
     "metadata": {},
     "output_type": "execute_result"
    }
   ],
   "source": [
    "lm1_sm.summary()"
   ]
  },
  {
   "cell_type": "code",
   "execution_count": 9,
   "id": "8bbd15cd-da2e-4176-bf6e-f94ca7b62d0a",
   "metadata": {},
   "outputs": [
    {
     "data": {
      "text/html": [
       "<table class=\"simpletable\">\n",
       "<caption>OLS Regression Results</caption>\n",
       "<tr>\n",
       "  <th>Dep. Variable:</th>           <td>y2</td>        <th>  R-squared:         </th> <td>   0.970</td>\n",
       "</tr>\n",
       "<tr>\n",
       "  <th>Model:</th>                   <td>OLS</td>       <th>  Adj. R-squared:    </th> <td>   0.969</td>\n",
       "</tr>\n",
       "<tr>\n",
       "  <th>Method:</th>             <td>Least Squares</td>  <th>  F-statistic:       </th> <td>   3130.</td>\n",
       "</tr>\n",
       "<tr>\n",
       "  <th>Date:</th>             <td>Mon, 22 May 2023</td> <th>  Prob (F-statistic):</th> <td>3.49e-76</td>\n",
       "</tr>\n",
       "<tr>\n",
       "  <th>Time:</th>                 <td>12:45:43</td>     <th>  Log-Likelihood:    </th> <td> -141.70</td>\n",
       "</tr>\n",
       "<tr>\n",
       "  <th>No. Observations:</th>      <td>   100</td>      <th>  AIC:               </th> <td>   287.4</td>\n",
       "</tr>\n",
       "<tr>\n",
       "  <th>Df Residuals:</th>          <td>    98</td>      <th>  BIC:               </th> <td>   292.6</td>\n",
       "</tr>\n",
       "<tr>\n",
       "  <th>Df Model:</th>              <td>     1</td>      <th>                     </th>     <td> </td>   \n",
       "</tr>\n",
       "<tr>\n",
       "  <th>Covariance Type:</th>      <td>nonrobust</td>    <th>                     </th>     <td> </td>   \n",
       "</tr>\n",
       "</table>\n",
       "<table class=\"simpletable\">\n",
       "<tr>\n",
       "    <td></td>       <th>coef</th>     <th>std err</th>      <th>t</th>      <th>P>|t|</th>  <th>[0.025</th>    <th>0.975]</th>  \n",
       "</tr>\n",
       "<tr>\n",
       "  <th>const</th> <td>    2.7858</td> <td>    0.200</td> <td>   13.920</td> <td> 0.000</td> <td>    2.389</td> <td>    3.183</td>\n",
       "</tr>\n",
       "<tr>\n",
       "  <th>x2</th>    <td>    1.9540</td> <td>    0.035</td> <td>   55.948</td> <td> 0.000</td> <td>    1.885</td> <td>    2.023</td>\n",
       "</tr>\n",
       "</table>\n",
       "<table class=\"simpletable\">\n",
       "<tr>\n",
       "  <th>Omnibus:</th>       <td> 1.862</td> <th>  Durbin-Watson:     </th> <td>   1.491</td>\n",
       "</tr>\n",
       "<tr>\n",
       "  <th>Prob(Omnibus):</th> <td> 0.394</td> <th>  Jarque-Bera (JB):  </th> <td>   1.423</td>\n",
       "</tr>\n",
       "<tr>\n",
       "  <th>Skew:</th>          <td>-0.077</td> <th>  Prob(JB):          </th> <td>   0.491</td>\n",
       "</tr>\n",
       "<tr>\n",
       "  <th>Kurtosis:</th>      <td> 2.437</td> <th>  Cond. No.          </th> <td>    11.6</td>\n",
       "</tr>\n",
       "</table><br/><br/>Notes:<br/>[1] Standard Errors assume that the covariance matrix of the errors is correctly specified."
      ],
      "text/plain": [
       "<class 'statsmodels.iolib.summary.Summary'>\n",
       "\"\"\"\n",
       "                            OLS Regression Results                            \n",
       "==============================================================================\n",
       "Dep. Variable:                     y2   R-squared:                       0.970\n",
       "Model:                            OLS   Adj. R-squared:                  0.969\n",
       "Method:                 Least Squares   F-statistic:                     3130.\n",
       "Date:                Mon, 22 May 2023   Prob (F-statistic):           3.49e-76\n",
       "Time:                        12:45:43   Log-Likelihood:                -141.70\n",
       "No. Observations:                 100   AIC:                             287.4\n",
       "Df Residuals:                      98   BIC:                             292.6\n",
       "Df Model:                           1                                         \n",
       "Covariance Type:            nonrobust                                         \n",
       "==============================================================================\n",
       "                 coef    std err          t      P>|t|      [0.025      0.975]\n",
       "------------------------------------------------------------------------------\n",
       "const          2.7858      0.200     13.920      0.000       2.389       3.183\n",
       "x2             1.9540      0.035     55.948      0.000       1.885       2.023\n",
       "==============================================================================\n",
       "Omnibus:                        1.862   Durbin-Watson:                   1.491\n",
       "Prob(Omnibus):                  0.394   Jarque-Bera (JB):                1.423\n",
       "Skew:                          -0.077   Prob(JB):                        0.491\n",
       "Kurtosis:                       2.437   Cond. No.                         11.6\n",
       "==============================================================================\n",
       "\n",
       "Notes:\n",
       "[1] Standard Errors assume that the covariance matrix of the errors is correctly specified.\n",
       "\"\"\""
      ]
     },
     "execution_count": 9,
     "metadata": {},
     "output_type": "execute_result"
    }
   ],
   "source": [
    "lm2_sm.summary()"
   ]
  },
  {
   "cell_type": "code",
   "execution_count": 10,
   "id": "9b596afd-239e-40c8-8f84-ca1f512e9d48",
   "metadata": {},
   "outputs": [
    {
     "data": {
      "text/plain": [
       "const    1.224110\n",
       "x1       0.034906\n",
       "dtype: float64"
      ]
     },
     "execution_count": 10,
     "metadata": {},
     "output_type": "execute_result"
    }
   ],
   "source": [
    "lm1_sm.bse"
   ]
  },
  {
   "cell_type": "code",
   "execution_count": 11,
   "id": "66288636-f38f-4fe9-8469-edd6b77156ad",
   "metadata": {},
   "outputs": [
    {
     "data": {
      "text/plain": [
       "const    1.095806e-05\n",
       "x1       1.964909e-46\n",
       "dtype: float64"
      ]
     },
     "execution_count": 11,
     "metadata": {},
     "output_type": "execute_result"
    }
   ],
   "source": [
    "lm1_sm.pvalues"
   ]
  },
  {
   "cell_type": "markdown",
   "id": "7596b2be-905b-4e4c-978e-efc3c35344ed",
   "metadata": {},
   "source": [
    "#### Statsmodel model 2"
   ]
  },
  {
   "cell_type": "code",
   "execution_count": 12,
   "id": "e6d70814-91dd-44e5-830a-cae1e99f73db",
   "metadata": {},
   "outputs": [
    {
     "data": {
      "text/html": [
       "<table class=\"simpletable\">\n",
       "<caption>OLS Regression Results</caption>\n",
       "<tr>\n",
       "  <th>Dep. Variable:</th>           <td>y1</td>        <th>  R-squared:         </th> <td>   0.877</td>\n",
       "</tr>\n",
       "<tr>\n",
       "  <th>Model:</th>                   <td>OLS</td>       <th>  Adj. R-squared:    </th> <td>   0.876</td>\n",
       "</tr>\n",
       "<tr>\n",
       "  <th>Method:</th>             <td>Least Squares</td>  <th>  F-statistic:       </th> <td>   700.4</td>\n",
       "</tr>\n",
       "<tr>\n",
       "  <th>Date:</th>             <td>Mon, 22 May 2023</td> <th>  Prob (F-statistic):</th> <td>1.96e-46</td>\n",
       "</tr>\n",
       "<tr>\n",
       "  <th>Time:</th>                 <td>12:45:43</td>     <th>  Log-Likelihood:    </th> <td> -141.64</td>\n",
       "</tr>\n",
       "<tr>\n",
       "  <th>No. Observations:</th>      <td>   100</td>      <th>  AIC:               </th> <td>   287.3</td>\n",
       "</tr>\n",
       "<tr>\n",
       "  <th>Df Residuals:</th>          <td>    98</td>      <th>  BIC:               </th> <td>   292.5</td>\n",
       "</tr>\n",
       "<tr>\n",
       "  <th>Df Model:</th>              <td>     1</td>      <th>                     </th>     <td> </td>   \n",
       "</tr>\n",
       "<tr>\n",
       "  <th>Covariance Type:</th>      <td>nonrobust</td>    <th>                     </th>     <td> </td>   \n",
       "</tr>\n",
       "</table>\n",
       "<table class=\"simpletable\">\n",
       "<tr>\n",
       "      <td></td>         <th>coef</th>     <th>std err</th>      <th>t</th>      <th>P>|t|</th>  <th>[0.025</th>    <th>0.975]</th>  \n",
       "</tr>\n",
       "<tr>\n",
       "  <th>Intercept</th> <td>    5.6753</td> <td>    1.224</td> <td>    4.636</td> <td> 0.000</td> <td>    3.246</td> <td>    8.104</td>\n",
       "</tr>\n",
       "<tr>\n",
       "  <th>x1</th>        <td>    0.9238</td> <td>    0.035</td> <td>   26.466</td> <td> 0.000</td> <td>    0.855</td> <td>    0.993</td>\n",
       "</tr>\n",
       "</table>\n",
       "<table class=\"simpletable\">\n",
       "<tr>\n",
       "  <th>Omnibus:</th>       <td> 2.709</td> <th>  Durbin-Watson:     </th> <td>   2.107</td>\n",
       "</tr>\n",
       "<tr>\n",
       "  <th>Prob(Omnibus):</th> <td> 0.258</td> <th>  Jarque-Bera (JB):  </th> <td>   2.104</td>\n",
       "</tr>\n",
       "<tr>\n",
       "  <th>Skew:</th>          <td>-0.250</td> <th>  Prob(JB):          </th> <td>   0.349</td>\n",
       "</tr>\n",
       "<tr>\n",
       "  <th>Kurtosis:</th>      <td> 3.505</td> <th>  Cond. No.          </th> <td>    426.</td>\n",
       "</tr>\n",
       "</table><br/><br/>Notes:<br/>[1] Standard Errors assume that the covariance matrix of the errors is correctly specified."
      ],
      "text/plain": [
       "<class 'statsmodels.iolib.summary.Summary'>\n",
       "\"\"\"\n",
       "                            OLS Regression Results                            \n",
       "==============================================================================\n",
       "Dep. Variable:                     y1   R-squared:                       0.877\n",
       "Model:                            OLS   Adj. R-squared:                  0.876\n",
       "Method:                 Least Squares   F-statistic:                     700.4\n",
       "Date:                Mon, 22 May 2023   Prob (F-statistic):           1.96e-46\n",
       "Time:                        12:45:43   Log-Likelihood:                -141.64\n",
       "No. Observations:                 100   AIC:                             287.3\n",
       "Df Residuals:                      98   BIC:                             292.5\n",
       "Df Model:                           1                                         \n",
       "Covariance Type:            nonrobust                                         \n",
       "==============================================================================\n",
       "                 coef    std err          t      P>|t|      [0.025      0.975]\n",
       "------------------------------------------------------------------------------\n",
       "Intercept      5.6753      1.224      4.636      0.000       3.246       8.104\n",
       "x1             0.9238      0.035     26.466      0.000       0.855       0.993\n",
       "==============================================================================\n",
       "Omnibus:                        2.709   Durbin-Watson:                   2.107\n",
       "Prob(Omnibus):                  0.258   Jarque-Bera (JB):                2.104\n",
       "Skew:                          -0.250   Prob(JB):                        0.349\n",
       "Kurtosis:                       3.505   Cond. No.                         426.\n",
       "==============================================================================\n",
       "\n",
       "Notes:\n",
       "[1] Standard Errors assume that the covariance matrix of the errors is correctly specified.\n",
       "\"\"\""
      ]
     },
     "execution_count": 12,
     "metadata": {},
     "output_type": "execute_result"
    }
   ],
   "source": [
    "lm1_b = smf.ols(formula=\"y1 ~ x1\", data=df).fit()\n",
    "lm1_b.summary()"
   ]
  },
  {
   "cell_type": "markdown",
   "id": "7bd18a6a-28ab-4248-a9d6-307f4a8a3a92",
   "metadata": {},
   "source": [
    "#### Scipy stats model"
   ]
  },
  {
   "cell_type": "code",
   "execution_count": 13,
   "id": "7914c5d4-844c-480a-aa2a-81317f9f5139",
   "metadata": {},
   "outputs": [
    {
     "name": "stdout",
     "output_type": "stream",
     "text": [
      " y = 0.9238073065956346x + 5.675280224008645\n",
      " y = 1.953996512533214x + 2.785794428593597\n"
     ]
    }
   ],
   "source": [
    "lm1_sp = sps.linregress(x=x1, y=y1, alternative='two-sided')\n",
    "lm2_sp = sps.linregress(x=x2, y=y2, alternative='two-sided')\n",
    "print(f\" y = {lm1_sp.slope}x + {lm1_sp.intercept}\")\n",
    "print(f\" y = {lm2_sp.slope}x + {lm2_sp.intercept}\")"
   ]
  },
  {
   "cell_type": "markdown",
   "id": "40fa6851-bb94-4d61-81c0-49967d7b7074",
   "metadata": {},
   "source": [
    "### Combined models"
   ]
  },
  {
   "cell_type": "markdown",
   "id": "4ab06518-a7d4-4678-a451-4f31f8f7f6b3",
   "metadata": {},
   "source": [
    "# Ancova"
   ]
  },
  {
   "cell_type": "markdown",
   "id": "b84df7b3-3bbf-41da-96ce-f13e720a7192",
   "metadata": {},
   "source": [
    "http://www.biostathandbook.com/ancova.html\n",
    "\n",
    "https://web.archive.org/web/20230223045335/http://www.biostathandbook.com/ancova.html\n",
    "\n",
    "https://www.reneshbedre.com/blog/ancova.html\n",
    "\n",
    "https://web.archive.org/web/20230201184317/https://www.reneshbedre.com/blog/ancova.html\n",
    "\n",
    "https://www.statology.org/ancova/\n"
   ]
  },
  {
   "cell_type": "markdown",
   "id": "0195a298-53c5-4c33-accf-f10a5fab2f8e",
   "metadata": {},
   "source": [
    "Maybe ANCOVA Method?\n",
    "\n",
    "https://statisticsbyjim.com/regression/comparing-regression-lines/"
   ]
  },
  {
   "cell_type": "markdown",
   "id": "ddc868ff-dec4-493b-8119-21945f29aea0",
   "metadata": {},
   "source": [
    "## Application and Assumptions"
   ]
  },
  {
   "cell_type": "markdown",
   "id": "e4f57ec0-df01-4649-8d0b-6b37aad5d0f1",
   "metadata": {
    "jp-MarkdownHeadingCollapsed": true,
    "tags": []
   },
   "source": [
    "Used to test for significance between different linear models that include at least one continuous and one categorical independent variable\n",
    "\n",
    ">Null hypotheses:\n",
    ">* Slopes of regression lines are all equal\n",
    ">* Y intercepts of regression lines are all the same/ adjusted means of the group (least squares means) are the same\n",
    "\n",
    "\n",
    ">Assumptions:\n",
    ">* Linear relationship between dependent variable and covariate\n",
    ">* Normally distributed residuals\n",
    ">* Dependent variable and covariate are continuous\n",
    ">* Equal variances (homogeneity) between sample populations\n",
    ">* No interaction between categorical independent variable and covariate (homogeneity within-group regression slopes) i.e. slopes of lineas in different samples should be the same"
   ]
  },
  {
   "cell_type": "code",
   "execution_count": 14,
   "id": "dcdac6e3-8300-49fd-880d-93a1e568ed50",
   "metadata": {},
   "outputs": [
    {
     "data": {
      "text/html": [
       "<div><div id=eaeebfbe-a877-4fff-91e1-b280616aca6b style=\"display:none; background-color:#9D6CFF; color:white; width:200px; height:30px; padding-left:5px; border-radius:4px; flex-direction:row; justify-content:space-around; align-items:center;\" onmouseover=\"this.style.backgroundColor='#BA9BF8'\" onmouseout=\"this.style.backgroundColor='#9D6CFF'\" onclick=\"window.commands?.execute('create-mitosheet-from-dataframe-output');\">See Full Dataframe in Mito</div> <script> if (window.commands?.hasCommand('create-mitosheet-from-dataframe-output')) document.getElementById('eaeebfbe-a877-4fff-91e1-b280616aca6b').style.display = 'flex' </script> <table border=\"1\" class=\"dataframe\">\n",
       "  <thead>\n",
       "    <tr style=\"text-align: right;\">\n",
       "      <th></th>\n",
       "      <th>x</th>\n",
       "      <th>y</th>\n",
       "      <th>group</th>\n",
       "    </tr>\n",
       "  </thead>\n",
       "  <tbody>\n",
       "    <tr>\n",
       "      <th>0</th>\n",
       "      <td>30.0</td>\n",
       "      <td>33.207317</td>\n",
       "      <td>A</td>\n",
       "    </tr>\n",
       "    <tr>\n",
       "      <th>1</th>\n",
       "      <td>30.1</td>\n",
       "      <td>32.873127</td>\n",
       "      <td>A</td>\n",
       "    </tr>\n",
       "    <tr>\n",
       "      <th>2</th>\n",
       "      <td>30.2</td>\n",
       "      <td>34.376514</td>\n",
       "      <td>A</td>\n",
       "    </tr>\n",
       "    <tr>\n",
       "      <th>3</th>\n",
       "      <td>30.3</td>\n",
       "      <td>35.723729</td>\n",
       "      <td>A</td>\n",
       "    </tr>\n",
       "    <tr>\n",
       "      <th>4</th>\n",
       "      <td>30.4</td>\n",
       "      <td>33.188273</td>\n",
       "      <td>A</td>\n",
       "    </tr>\n",
       "    <tr>\n",
       "      <th>...</th>\n",
       "      <td>...</td>\n",
       "      <td>...</td>\n",
       "      <td>...</td>\n",
       "    </tr>\n",
       "    <tr>\n",
       "      <th>195</th>\n",
       "      <td>9.5</td>\n",
       "      <td>21.620298</td>\n",
       "      <td>B</td>\n",
       "    </tr>\n",
       "    <tr>\n",
       "      <th>196</th>\n",
       "      <td>9.6</td>\n",
       "      <td>20.788269</td>\n",
       "      <td>B</td>\n",
       "    </tr>\n",
       "    <tr>\n",
       "      <th>197</th>\n",
       "      <td>9.7</td>\n",
       "      <td>20.561244</td>\n",
       "      <td>B</td>\n",
       "    </tr>\n",
       "    <tr>\n",
       "      <th>198</th>\n",
       "      <td>9.8</td>\n",
       "      <td>21.885978</td>\n",
       "      <td>B</td>\n",
       "    </tr>\n",
       "    <tr>\n",
       "      <th>199</th>\n",
       "      <td>9.9</td>\n",
       "      <td>21.806024</td>\n",
       "      <td>B</td>\n",
       "    </tr>\n",
       "  </tbody>\n",
       "</table></div>"
      ],
      "text/plain": [
       "        x          y group\n",
       "0    30.0  33.207317     A\n",
       "1    30.1  32.873127     A\n",
       "2    30.2  34.376514     A\n",
       "3    30.3  35.723729     A\n",
       "4    30.4  33.188273     A\n",
       "..    ...        ...   ...\n",
       "195   9.5  21.620298     B\n",
       "196   9.6  20.788269     B\n",
       "197   9.7  20.561244     B\n",
       "198   9.8  21.885978     B\n",
       "199   9.9  21.806024     B\n",
       "\n",
       "[200 rows x 3 columns]"
      ]
     },
     "execution_count": 14,
     "metadata": {},
     "output_type": "execute_result"
    }
   ],
   "source": [
    "x_c = np.concatenate((x1, x2))\n",
    "y_c = np.concatenate((y1, y2))\n",
    "group_list = np.concatenate((np.array((len(x1)*[\"A\"])),np.array((len(x2)*[\"B\"]))))\n",
    "\n",
    "df_c = pd.DataFrame({\"x\": x_c, \"y\": y_c, \"group\": group_list})\n",
    "\n",
    "df_c"
   ]
  },
  {
   "cell_type": "code",
   "execution_count": 15,
   "id": "2a5517f7-e895-4605-8ca1-50dc5ca39452",
   "metadata": {},
   "outputs": [],
   "source": [
    "lm_ancova = smf.ols('y ~ group + x', data=df_c).fit()  # Additive moderation model"
   ]
  },
  {
   "cell_type": "code",
   "execution_count": 16,
   "id": "10d2bfa2-a19c-4b54-ad2f-cbecf80c97e7",
   "metadata": {},
   "outputs": [
    {
     "data": {
      "text/html": [
       "<table class=\"simpletable\">\n",
       "<caption>OLS Regression Results</caption>\n",
       "<tr>\n",
       "  <th>Dep. Variable:</th>            <td>y</td>        <th>  R-squared:         </th> <td>   0.982</td> \n",
       "</tr>\n",
       "<tr>\n",
       "  <th>Model:</th>                   <td>OLS</td>       <th>  Adj. R-squared:    </th> <td>   0.982</td> \n",
       "</tr>\n",
       "<tr>\n",
       "  <th>Method:</th>             <td>Least Squares</td>  <th>  F-statistic:       </th> <td>   5526.</td> \n",
       "</tr>\n",
       "<tr>\n",
       "  <th>Date:</th>             <td>Mon, 22 May 2023</td> <th>  Prob (F-statistic):</th> <td>9.38e-174</td>\n",
       "</tr>\n",
       "<tr>\n",
       "  <th>Time:</th>                 <td>12:45:43</td>     <th>  Log-Likelihood:    </th> <td> -400.30</td> \n",
       "</tr>\n",
       "<tr>\n",
       "  <th>No. Observations:</th>      <td>   200</td>      <th>  AIC:               </th> <td>   806.6</td> \n",
       "</tr>\n",
       "<tr>\n",
       "  <th>Df Residuals:</th>          <td>   197</td>      <th>  BIC:               </th> <td>   816.5</td> \n",
       "</tr>\n",
       "<tr>\n",
       "  <th>Df Model:</th>              <td>     2</td>      <th>                     </th>     <td> </td>    \n",
       "</tr>\n",
       "<tr>\n",
       "  <th>Covariance Type:</th>      <td>nonrobust</td>    <th>                     </th>     <td> </td>    \n",
       "</tr>\n",
       "</table>\n",
       "<table class=\"simpletable\">\n",
       "<tr>\n",
       "       <td></td>         <th>coef</th>     <th>std err</th>      <th>t</th>      <th>P>|t|</th>  <th>[0.025</th>    <th>0.975]</th>  \n",
       "</tr>\n",
       "<tr>\n",
       "  <th>Intercept</th>  <td>  -12.3273</td> <td>    1.555</td> <td>   -7.927</td> <td> 0.000</td> <td>  -15.394</td> <td>   -9.260</td>\n",
       "</tr>\n",
       "<tr>\n",
       "  <th>group[T.B]</th> <td>   17.6628</td> <td>    1.350</td> <td>   13.082</td> <td> 0.000</td> <td>   15.000</td> <td>   20.325</td>\n",
       "</tr>\n",
       "<tr>\n",
       "  <th>x</th>          <td>    1.4389</td> <td>    0.044</td> <td>   32.557</td> <td> 0.000</td> <td>    1.352</td> <td>    1.526</td>\n",
       "</tr>\n",
       "</table>\n",
       "<table class=\"simpletable\">\n",
       "<tr>\n",
       "  <th>Omnibus:</th>       <td> 0.689</td> <th>  Durbin-Watson:     </th> <td>   0.561</td>\n",
       "</tr>\n",
       "<tr>\n",
       "  <th>Prob(Omnibus):</th> <td> 0.709</td> <th>  Jarque-Bera (JB):  </th> <td>   0.774</td>\n",
       "</tr>\n",
       "<tr>\n",
       "  <th>Skew:</th>          <td>-0.134</td> <th>  Prob(JB):          </th> <td>   0.679</td>\n",
       "</tr>\n",
       "<tr>\n",
       "  <th>Kurtosis:</th>      <td> 2.856</td> <th>  Cond. No.          </th> <td>    405.</td>\n",
       "</tr>\n",
       "</table><br/><br/>Notes:<br/>[1] Standard Errors assume that the covariance matrix of the errors is correctly specified."
      ],
      "text/plain": [
       "<class 'statsmodels.iolib.summary.Summary'>\n",
       "\"\"\"\n",
       "                            OLS Regression Results                            \n",
       "==============================================================================\n",
       "Dep. Variable:                      y   R-squared:                       0.982\n",
       "Model:                            OLS   Adj. R-squared:                  0.982\n",
       "Method:                 Least Squares   F-statistic:                     5526.\n",
       "Date:                Mon, 22 May 2023   Prob (F-statistic):          9.38e-174\n",
       "Time:                        12:45:43   Log-Likelihood:                -400.30\n",
       "No. Observations:                 200   AIC:                             806.6\n",
       "Df Residuals:                     197   BIC:                             816.5\n",
       "Df Model:                           2                                         \n",
       "Covariance Type:            nonrobust                                         \n",
       "==============================================================================\n",
       "                 coef    std err          t      P>|t|      [0.025      0.975]\n",
       "------------------------------------------------------------------------------\n",
       "Intercept    -12.3273      1.555     -7.927      0.000     -15.394      -9.260\n",
       "group[T.B]    17.6628      1.350     13.082      0.000      15.000      20.325\n",
       "x              1.4389      0.044     32.557      0.000       1.352       1.526\n",
       "==============================================================================\n",
       "Omnibus:                        0.689   Durbin-Watson:                   0.561\n",
       "Prob(Omnibus):                  0.709   Jarque-Bera (JB):                0.774\n",
       "Skew:                          -0.134   Prob(JB):                        0.679\n",
       "Kurtosis:                       2.856   Cond. No.                         405.\n",
       "==============================================================================\n",
       "\n",
       "Notes:\n",
       "[1] Standard Errors assume that the covariance matrix of the errors is correctly specified.\n",
       "\"\"\""
      ]
     },
     "execution_count": 16,
     "metadata": {},
     "output_type": "execute_result"
    }
   ],
   "source": [
    "lm_ancova.summary()"
   ]
  },
  {
   "cell_type": "code",
   "execution_count": 17,
   "id": "3faf8b8e-2694-4213-919f-9fea069345bd",
   "metadata": {},
   "outputs": [
    {
     "data": {
      "text/plain": [
       "Intercept     1.633895e-13\n",
       "group[T.B]    1.486065e-28\n",
       "x             3.247976e-81\n",
       "dtype: float64"
      ]
     },
     "execution_count": 17,
     "metadata": {},
     "output_type": "execute_result"
    }
   ],
   "source": [
    "lm_ancova.pvalues"
   ]
  },
  {
   "cell_type": "markdown",
   "id": "f99c000c-b7cf-4355-8096-61c05a97a3de",
   "metadata": {},
   "source": [
    "## Test for normal residuals"
   ]
  },
  {
   "cell_type": "code",
   "execution_count": 18,
   "id": "f363bd99-e394-419f-a831-5cadd8576942",
   "metadata": {},
   "outputs": [
    {
     "data": {
      "text/plain": [
       "0      2.367536\n",
       "1      1.889455\n",
       "2      3.248952\n",
       "3      4.452277\n",
       "4      1.772931\n",
       "         ...   \n",
       "195    2.615217\n",
       "196    1.639298\n",
       "197    1.268383\n",
       "198    2.449226\n",
       "199    2.225383\n",
       "Length: 200, dtype: float64"
      ]
     },
     "execution_count": 18,
     "metadata": {},
     "output_type": "execute_result"
    }
   ],
   "source": [
    "resid_ancova = lm_ancova.resid\n",
    "resid_ancova"
   ]
  },
  {
   "cell_type": "code",
   "execution_count": 19,
   "id": "a53d5c8c-053c-45c5-9d93-360e28cac252",
   "metadata": {},
   "outputs": [
    {
     "data": {
      "text/plain": [
       "(array([ 1.,  3., 10., 15., 43., 48., 34., 27., 16.,  3.]),\n",
       " array([-5.79964439, -4.77445223, -3.74926008, -2.72406792, -1.69887576,\n",
       "        -0.6736836 ,  0.35150855,  1.37670071,  2.40189287,  3.42708503,\n",
       "         4.45227719]),\n",
       " <BarContainer object of 10 artists>)"
      ]
     },
     "execution_count": 19,
     "metadata": {},
     "output_type": "execute_result"
    },
    {
     "data": {
      "image/png": "[encoded data removed]",
      "text/plain": [
       "<Figure size 640x480 with 1 Axes>"
      ]
     },
     "metadata": {},
     "output_type": "display_data"
    }
   ],
   "source": [
    "plt.hist(lm_ancova.resid)"
   ]
  },
  {
   "cell_type": "code",
   "execution_count": 20,
   "id": "3b19f77a-8c98-43c2-95c8-0e1a7d704db9",
   "metadata": {},
   "outputs": [
    {
     "data": {
      "text/plain": [
       "{'Jarque-Bera': 0.7741963342966028,\n",
       " 'JB_p_value': 0.6790244337624327,\n",
       " 'Skew': -0.13437944345948102,\n",
       " 'Kurtosis': 2.85622162604316}"
      ]
     },
     "execution_count": 20,
     "metadata": {},
     "output_type": "execute_result"
    }
   ],
   "source": [
    "test_result_names = ['Jarque-Bera', 'JB_p_value', 'Skew', 'Kurtosis']\n",
    "jb_test = sm.stats.stattools.jarque_bera(resid_ancova, axis=0)\n",
    "jb_results = dict(zip(test_result_names, jb_test))\n",
    "jb_results"
   ]
  },
  {
   "cell_type": "code",
   "execution_count": 21,
   "id": "cf200e69-b7fa-42ef-9699-c098429cbc40",
   "metadata": {},
   "outputs": [
    {
     "data": {
      "text/plain": [
       "ShapiroResult(statistic=0.9943627715110779, pvalue=0.6548441648483276)"
      ]
     },
     "execution_count": 21,
     "metadata": {},
     "output_type": "execute_result"
    }
   ],
   "source": [
    "sps.shapiro(resid_ancova)"
   ]
  },
  {
   "cell_type": "code",
   "execution_count": 22,
   "id": "d46c5e2a-a001-420e-b7ac-a6811a6aeaaa",
   "metadata": {},
   "outputs": [
    {
     "data": {
      "text/plain": [
       "NormaltestResult(statistic=0.689154911565433, pvalue=0.7085196711157375)"
      ]
     },
     "execution_count": 22,
     "metadata": {},
     "output_type": "execute_result"
    }
   ],
   "source": [
    "sps.normaltest(resid_ancova)"
   ]
  },
  {
   "cell_type": "markdown",
   "id": "8f639200-eaa4-4e3b-977a-a0980310a013",
   "metadata": {},
   "source": [
    "## Test for equal variances between groups"
   ]
  },
  {
   "cell_type": "code",
   "execution_count": 23,
   "id": "9d12302d-88b4-4a0b-9c43-4f7980a4baad",
   "metadata": {},
   "outputs": [
    {
     "data": {
      "text/plain": [
       "BartlettResult(statistic=44.66232400906977, pvalue=2.341193034087987e-11)"
      ]
     },
     "execution_count": 23,
     "metadata": {},
     "output_type": "execute_result"
    }
   ],
   "source": [
    "#sps.bartlett(df_c[\"y\"], df_c[\"group\"])\n",
    "\n",
    "sps.bartlett(df[\"y1\"], df[\"y2\"])"
   ]
  },
  {
   "cell_type": "markdown",
   "id": "19b2307c-ffd3-4a6b-a181-e64ecf0ac0b3",
   "metadata": {},
   "source": [
    "## Test for interaction of catagorical independent variable and covariate"
   ]
  },
  {
   "cell_type": "code",
   "execution_count": 24,
   "id": "f55c1955-a686-4481-a093-e9cf8cf70a41",
   "metadata": {},
   "outputs": [
    {
     "data": {
      "text/html": [
       "<div><div id=0a6ea70a-f8f2-49cb-90cd-8f99a001fffc style=\"display:none; background-color:#9D6CFF; color:white; width:200px; height:30px; padding-left:5px; border-radius:4px; flex-direction:row; justify-content:space-around; align-items:center;\" onmouseover=\"this.style.backgroundColor='#BA9BF8'\" onmouseout=\"this.style.backgroundColor='#9D6CFF'\" onclick=\"window.commands?.execute('create-mitosheet-from-dataframe-output');\">See Full Dataframe in Mito</div> <script> if (window.commands?.hasCommand('create-mitosheet-from-dataframe-output')) document.getElementById('0a6ea70a-f8f2-49cb-90cd-8f99a001fffc').style.display = 'flex' </script> <table border=\"1\" class=\"dataframe\">\n",
       "  <thead>\n",
       "    <tr style=\"text-align: right;\">\n",
       "      <th></th>\n",
       "      <th>sum_sq</th>\n",
       "      <th>df</th>\n",
       "      <th>F</th>\n",
       "      <th>PR(&gt;F)</th>\n",
       "    </tr>\n",
       "  </thead>\n",
       "  <tbody>\n",
       "    <tr>\n",
       "      <th>group</th>\n",
       "      <td>557.042906</td>\n",
       "      <td>1.0</td>\n",
       "      <td>171.128137</td>\n",
       "      <td>1.486065e-28</td>\n",
       "    </tr>\n",
       "    <tr>\n",
       "      <th>x</th>\n",
       "      <td>3450.386102</td>\n",
       "      <td>1.0</td>\n",
       "      <td>1059.986835</td>\n",
       "      <td>3.247976e-81</td>\n",
       "    </tr>\n",
       "    <tr>\n",
       "      <th>Residual</th>\n",
       "      <td>641.258967</td>\n",
       "      <td>197.0</td>\n",
       "      <td>NaN</td>\n",
       "      <td>NaN</td>\n",
       "    </tr>\n",
       "  </tbody>\n",
       "</table></div>"
      ],
      "text/plain": [
       "               sum_sq     df            F        PR(>F)\n",
       "group      557.042906    1.0   171.128137  1.486065e-28\n",
       "x         3450.386102    1.0  1059.986835  3.247976e-81\n",
       "Residual   641.258967  197.0          NaN           NaN"
      ]
     },
     "execution_count": 24,
     "metadata": {},
     "output_type": "execute_result"
    }
   ],
   "source": [
    "sm.stats.anova_lm(lm_ancova, typ=2)"
   ]
  },
  {
   "cell_type": "code",
   "execution_count": 25,
   "id": "307aea45-5f3f-4525-b020-37a8f6aceec9",
   "metadata": {},
   "outputs": [
    {
     "data": {
      "text/html": [
       "<table class=\"simpletable\">\n",
       "<caption>OLS Regression Results</caption>\n",
       "<tr>\n",
       "  <th>Dep. Variable:</th>            <td>y</td>        <th>  R-squared:         </th> <td>   0.995</td> \n",
       "</tr>\n",
       "<tr>\n",
       "  <th>Model:</th>                   <td>OLS</td>       <th>  Adj. R-squared:    </th> <td>   0.994</td> \n",
       "</tr>\n",
       "<tr>\n",
       "  <th>Method:</th>             <td>Least Squares</td>  <th>  F-statistic:       </th> <td>1.195e+04</td>\n",
       "</tr>\n",
       "<tr>\n",
       "  <th>Date:</th>             <td>Mon, 22 May 2023</td> <th>  Prob (F-statistic):</th> <td>1.31e-221</td>\n",
       "</tr>\n",
       "<tr>\n",
       "  <th>Time:</th>                 <td>12:45:43</td>     <th>  Log-Likelihood:    </th> <td> -283.34</td> \n",
       "</tr>\n",
       "<tr>\n",
       "  <th>No. Observations:</th>      <td>   200</td>      <th>  AIC:               </th> <td>   574.7</td> \n",
       "</tr>\n",
       "<tr>\n",
       "  <th>Df Residuals:</th>          <td>   196</td>      <th>  BIC:               </th> <td>   587.9</td> \n",
       "</tr>\n",
       "<tr>\n",
       "  <th>Df Model:</th>              <td>     3</td>      <th>                     </th>     <td> </td>    \n",
       "</tr>\n",
       "<tr>\n",
       "  <th>Covariance Type:</th>      <td>nonrobust</td>    <th>                     </th>     <td> </td>    \n",
       "</tr>\n",
       "</table>\n",
       "<table class=\"simpletable\">\n",
       "<tr>\n",
       "        <td></td>          <th>coef</th>     <th>std err</th>      <th>t</th>      <th>P>|t|</th>  <th>[0.025</th>    <th>0.975]</th>  \n",
       "</tr>\n",
       "<tr>\n",
       "  <th>Intercept</th>    <td>    5.6753</td> <td>    1.224</td> <td>    4.635</td> <td> 0.000</td> <td>    3.260</td> <td>    8.090</td>\n",
       "</tr>\n",
       "<tr>\n",
       "  <th>group[T.B]</th>   <td>   -2.8895</td> <td>    1.241</td> <td>   -2.329</td> <td> 0.021</td> <td>   -5.336</td> <td>   -0.443</td>\n",
       "</tr>\n",
       "<tr>\n",
       "  <th>x</th>            <td>    0.9238</td> <td>    0.035</td> <td>   26.458</td> <td> 0.000</td> <td>    0.855</td> <td>    0.993</td>\n",
       "</tr>\n",
       "<tr>\n",
       "  <th>group[T.B]:x</th> <td>    1.0302</td> <td>    0.049</td> <td>   20.863</td> <td> 0.000</td> <td>    0.933</td> <td>    1.128</td>\n",
       "</tr>\n",
       "</table>\n",
       "<table class=\"simpletable\">\n",
       "<tr>\n",
       "  <th>Omnibus:</th>       <td> 0.966</td> <th>  Durbin-Watson:     </th> <td>   1.804</td>\n",
       "</tr>\n",
       "<tr>\n",
       "  <th>Prob(Omnibus):</th> <td> 0.617</td> <th>  Jarque-Bera (JB):  </th> <td>   0.899</td>\n",
       "</tr>\n",
       "<tr>\n",
       "  <th>Skew:</th>          <td>-0.164</td> <th>  Prob(JB):          </th> <td>   0.638</td>\n",
       "</tr>\n",
       "<tr>\n",
       "  <th>Kurtosis:</th>      <td> 2.970</td> <th>  Cond. No.          </th> <td>    613.</td>\n",
       "</tr>\n",
       "</table><br/><br/>Notes:<br/>[1] Standard Errors assume that the covariance matrix of the errors is correctly specified."
      ],
      "text/plain": [
       "<class 'statsmodels.iolib.summary.Summary'>\n",
       "\"\"\"\n",
       "                            OLS Regression Results                            \n",
       "==============================================================================\n",
       "Dep. Variable:                      y   R-squared:                       0.995\n",
       "Model:                            OLS   Adj. R-squared:                  0.994\n",
       "Method:                 Least Squares   F-statistic:                 1.195e+04\n",
       "Date:                Mon, 22 May 2023   Prob (F-statistic):          1.31e-221\n",
       "Time:                        12:45:43   Log-Likelihood:                -283.34\n",
       "No. Observations:                 200   AIC:                             574.7\n",
       "Df Residuals:                     196   BIC:                             587.9\n",
       "Df Model:                           3                                         \n",
       "Covariance Type:            nonrobust                                         \n",
       "================================================================================\n",
       "                   coef    std err          t      P>|t|      [0.025      0.975]\n",
       "--------------------------------------------------------------------------------\n",
       "Intercept        5.6753      1.224      4.635      0.000       3.260       8.090\n",
       "group[T.B]      -2.8895      1.241     -2.329      0.021      -5.336      -0.443\n",
       "x                0.9238      0.035     26.458      0.000       0.855       0.993\n",
       "group[T.B]:x     1.0302      0.049     20.863      0.000       0.933       1.128\n",
       "==============================================================================\n",
       "Omnibus:                        0.966   Durbin-Watson:                   1.804\n",
       "Prob(Omnibus):                  0.617   Jarque-Bera (JB):                0.899\n",
       "Skew:                          -0.164   Prob(JB):                        0.638\n",
       "Kurtosis:                       2.970   Cond. No.                         613.\n",
       "==============================================================================\n",
       "\n",
       "Notes:\n",
       "[1] Standard Errors assume that the covariance matrix of the errors is correctly specified.\n",
       "\"\"\""
      ]
     },
     "execution_count": 25,
     "metadata": {},
     "output_type": "execute_result"
    }
   ],
   "source": [
    "lm_inter = smf.ols('y ~ group * x', data=df_c).fit()  # Additive moderation model\n",
    "lm_inter.summary()"
   ]
  },
  {
   "cell_type": "markdown",
   "id": "e0fec59a-45cc-4738-ae84-b2b0be8154eb",
   "metadata": {},
   "source": [
    "PR(> F) – This is the p-value associated with the F statistic of a given effect and test statistic"
   ]
  },
  {
   "cell_type": "code",
   "execution_count": 26,
   "id": "8a3d7db0-c0e8-445c-b6f9-25df4f7fe65a",
   "metadata": {},
   "outputs": [
    {
     "data": {
      "text/html": [
       "<div><div id=ea4d8f01-60e1-47fa-b5b6-7fe8ca8ddede style=\"display:none; background-color:#9D6CFF; color:white; width:200px; height:30px; padding-left:5px; border-radius:4px; flex-direction:row; justify-content:space-around; align-items:center;\" onmouseover=\"this.style.backgroundColor='#BA9BF8'\" onmouseout=\"this.style.backgroundColor='#9D6CFF'\" onclick=\"window.commands?.execute('create-mitosheet-from-dataframe-output');\">See Full Dataframe in Mito</div> <script> if (window.commands?.hasCommand('create-mitosheet-from-dataframe-output')) document.getElementById('ea4d8f01-60e1-47fa-b5b6-7fe8ca8ddede').style.display = 'flex' </script> <table border=\"1\" class=\"dataframe\">\n",
       "  <thead>\n",
       "    <tr style=\"text-align: right;\">\n",
       "      <th></th>\n",
       "      <th>sum_sq</th>\n",
       "      <th>df</th>\n",
       "      <th>F</th>\n",
       "      <th>PR(&gt;F)</th>\n",
       "    </tr>\n",
       "  </thead>\n",
       "  <tbody>\n",
       "    <tr>\n",
       "      <th>Intercept</th>\n",
       "      <td>21.822429</td>\n",
       "      <td>1.0</td>\n",
       "      <td>21.482749</td>\n",
       "      <td>6.505263e-06</td>\n",
       "    </tr>\n",
       "    <tr>\n",
       "      <th>group</th>\n",
       "      <td>5.509683</td>\n",
       "      <td>1.0</td>\n",
       "      <td>5.423921</td>\n",
       "      <td>2.088181e-02</td>\n",
       "    </tr>\n",
       "    <tr>\n",
       "      <th>x</th>\n",
       "      <td>711.112165</td>\n",
       "      <td>1.0</td>\n",
       "      <td>700.043253</td>\n",
       "      <td>1.321611e-66</td>\n",
       "    </tr>\n",
       "    <tr>\n",
       "      <th>group:x</th>\n",
       "      <td>442.159863</td>\n",
       "      <td>1.0</td>\n",
       "      <td>435.277365</td>\n",
       "      <td>1.133748e-51</td>\n",
       "    </tr>\n",
       "    <tr>\n",
       "      <th>Residual</th>\n",
       "      <td>199.099104</td>\n",
       "      <td>196.0</td>\n",
       "      <td>NaN</td>\n",
       "      <td>NaN</td>\n",
       "    </tr>\n",
       "  </tbody>\n",
       "</table></div>"
      ],
      "text/plain": [
       "               sum_sq     df           F        PR(>F)\n",
       "Intercept   21.822429    1.0   21.482749  6.505263e-06\n",
       "group        5.509683    1.0    5.423921  2.088181e-02\n",
       "x          711.112165    1.0  700.043253  1.321611e-66\n",
       "group:x    442.159863    1.0  435.277365  1.133748e-51\n",
       "Residual   199.099104  196.0         NaN           NaN"
      ]
     },
     "execution_count": 26,
     "metadata": {},
     "output_type": "execute_result"
    }
   ],
   "source": [
    "sm.stats.anova_lm(lm_inter, typ=3)"
   ]
  },
  {
   "cell_type": "code",
   "execution_count": 28,
   "id": "ae474585-c3dc-42ce-8f21-57eda9db5dea",
   "metadata": {},
   "outputs": [
    {
     "data": {
      "text/html": [
       "<div><div id=8603d6be-4225-438c-b774-231c1ec7b06b style=\"display:none; background-color:#9D6CFF; color:white; width:200px; height:30px; padding-left:5px; border-radius:4px; flex-direction:row; justify-content:space-around; align-items:center;\" onmouseover=\"this.style.backgroundColor='#BA9BF8'\" onmouseout=\"this.style.backgroundColor='#9D6CFF'\" onclick=\"window.commands?.execute('create-mitosheet-from-dataframe-output');\">See Full Dataframe in Mito</div> <script> if (window.commands?.hasCommand('create-mitosheet-from-dataframe-output')) document.getElementById('8603d6be-4225-438c-b774-231c1ec7b06b').style.display = 'flex' </script> <table border=\"1\" class=\"dataframe\">\n",
       "  <thead>\n",
       "    <tr style=\"text-align: right;\">\n",
       "      <th></th>\n",
       "      <th>df_resid</th>\n",
       "      <th>ssr</th>\n",
       "      <th>df_diff</th>\n",
       "      <th>ss_diff</th>\n",
       "      <th>F</th>\n",
       "      <th>Pr(&gt;F)</th>\n",
       "    </tr>\n",
       "  </thead>\n",
       "  <tbody>\n",
       "    <tr>\n",
       "      <th>0</th>\n",
       "      <td>197.0</td>\n",
       "      <td>641.258967</td>\n",
       "      <td>0.0</td>\n",
       "      <td>NaN</td>\n",
       "      <td>NaN</td>\n",
       "      <td>NaN</td>\n",
       "    </tr>\n",
       "    <tr>\n",
       "      <th>1</th>\n",
       "      <td>196.0</td>\n",
       "      <td>199.099104</td>\n",
       "      <td>1.0</td>\n",
       "      <td>442.159863</td>\n",
       "      <td>435.277365</td>\n",
       "      <td>1.133748e-51</td>\n",
       "    </tr>\n",
       "  </tbody>\n",
       "</table></div>"
      ],
      "text/plain": [
       "   df_resid         ssr  df_diff     ss_diff           F        Pr(>F)\n",
       "0     197.0  641.258967      0.0         NaN         NaN           NaN\n",
       "1     196.0  199.099104      1.0  442.159863  435.277365  1.133748e-51"
      ]
     },
     "execution_count": 28,
     "metadata": {},
     "output_type": "execute_result"
    }
   ],
   "source": [
    "sm.stats.anova_lm(lm_ancova, lm_inter)"
   ]
  },
  {
   "cell_type": "code",
   "execution_count": 29,
   "id": "3ce43a8b-3274-4586-a363-1e96ec4634c2",
   "metadata": {},
   "outputs": [
    {
     "data": {
      "text/html": [
       "<div><div id=820047e6-2025-4a04-b238-67f18c07bbd5 style=\"display:none; background-color:#9D6CFF; color:white; width:200px; height:30px; padding-left:5px; border-radius:4px; flex-direction:row; justify-content:space-around; align-items:center;\" onmouseover=\"this.style.backgroundColor='#BA9BF8'\" onmouseout=\"this.style.backgroundColor='#9D6CFF'\" onclick=\"window.commands?.execute('create-mitosheet-from-dataframe-output');\">See Full Dataframe in Mito</div> <script> if (window.commands?.hasCommand('create-mitosheet-from-dataframe-output')) document.getElementById('820047e6-2025-4a04-b238-67f18c07bbd5').style.display = 'flex' </script> <table border=\"1\" class=\"dataframe\">\n",
       "  <thead>\n",
       "    <tr style=\"text-align: right;\">\n",
       "      <th></th>\n",
       "      <th>df_resid</th>\n",
       "      <th>ssr</th>\n",
       "      <th>df_diff</th>\n",
       "      <th>ss_diff</th>\n",
       "      <th>F</th>\n",
       "      <th>Pr(&gt;F)</th>\n",
       "    </tr>\n",
       "  </thead>\n",
       "  <tbody>\n",
       "    <tr>\n",
       "      <th>0</th>\n",
       "      <td>196.0</td>\n",
       "      <td>199.099104</td>\n",
       "      <td>0.0</td>\n",
       "      <td>NaN</td>\n",
       "      <td>NaN</td>\n",
       "      <td>NaN</td>\n",
       "    </tr>\n",
       "    <tr>\n",
       "      <th>1</th>\n",
       "      <td>197.0</td>\n",
       "      <td>641.258967</td>\n",
       "      <td>-1.0</td>\n",
       "      <td>-442.159863</td>\n",
       "      <td>135.835127</td>\n",
       "      <td>NaN</td>\n",
       "    </tr>\n",
       "  </tbody>\n",
       "</table></div>"
      ],
      "text/plain": [
       "   df_resid         ssr  df_diff     ss_diff           F  Pr(>F)\n",
       "0     196.0  199.099104      0.0         NaN         NaN     NaN\n",
       "1     197.0  641.258967     -1.0 -442.159863  135.835127     NaN"
      ]
     },
     "execution_count": 29,
     "metadata": {},
     "output_type": "execute_result"
    }
   ],
   "source": [
    "sm.stats.anova_lm(lm_inter, lm_ancova)"
   ]
  },
  {
   "cell_type": "code",
   "execution_count": null,
   "id": "359f95e3-1b0d-43b3-98df-16e91b297fca",
   "metadata": {},
   "outputs": [],
   "source": [
    "\n",
    "# formula = \"S ~ C(E) + C(M) + X\"\n",
    "# lm = ols(formula, salary_table).fit()\n",
    "\n",
    "# table1 = anova_lm(lm, interX_lm)\n",
    "# print(table1)\n",
    "\n",
    "# interM_lm = ols(\"S ~ X + C(E)*C(M)\", data=salary_table).fit()\n",
    "# print(interM_lm.summary())\n",
    "\n",
    "# table2 = anova_lm(lm, interM_lm)\n",
    "# print(table2)"
   ]
  },
  {
   "cell_type": "markdown",
   "id": "2acd2873-470a-45d9-8297-39112883caa1",
   "metadata": {},
   "source": [
    "# Z statistic"
   ]
  },
  {
   "cell_type": "markdown",
   "id": "918e13b4-0dd6-4cd6-af40-a04058f1f572",
   "metadata": {},
   "source": [
    "https://www.jstor.org/stable/2782277\n",
    "\n",
    "https://stats.stackexchange.com/questions/435644/is-there-a-method-to-look-for-significant-difference-between-two-linear-regressi\n",
    "\n",
    "https://stats.stackexchange.com/questions/55501/test-a-significant-difference-between-two-slope-values?noredirect=1&lq=1"
   ]
  },
  {
   "cell_type": "markdown",
   "id": "d3ff7d50-e10d-4e62-b650-29d7506229c8",
   "metadata": {},
   "source": [
    "**Two Sample Z-test**\n",
    ">Null hypothesis: two population means are equal\n",
    ">* \n",
    "    \n",
    ">Inputs: \n",
    ">* dataset\n",
    "\n",
    ">Returns: \n",
    ">* \n",
    "\n",
    ">Assumptions:\n",
    ">* \n",
    "\n",
    "\n",
    "$$z = \\frac{(\\bar{x_1} - \\bar{x_2})}{\\sqrt{\\sigma_1^2/n_1 + \\sigma_2^2/n_2}}$$\n",
    "Standard error of the sample mean\n",
    "\n",
    "$$\\sigma_{\\bar{x}} = \\frac{\\sigma_x}{\\sqrt{n}}$$\n",
    "\n",
    "Z-statistic for model coefficients\n",
    "$$z = \\frac{(\\beta_1 - \\beta_2)}{\\sqrt{SE_1^2 + SE_2^2}}$$\n",
    "\n",
    "* $SE$ = standard error"
   ]
  },
  {
   "cell_type": "code",
   "execution_count": null,
   "id": "fae0b5be-2aa2-4675-be53-f55d243d24cf",
   "metadata": {},
   "outputs": [],
   "source": [
    "def zstat_coeff(b1, se1, b2, se2):\n",
    "    return ((b1-b2)/np.sqrt(se1**2 + se2**2)) "
   ]
  },
  {
   "cell_type": "code",
   "execution_count": null,
   "id": "43b8a98b-aaf5-45bd-bfdf-d0cec43d3ad8",
   "metadata": {},
   "outputs": [],
   "source": [
    "b1 = lm1_sm.params[0]\n",
    "se1 = lm1_sm.bse[0]\n",
    "b2 = lm2_sm.params[0]\n",
    "se2 = lm2_sm.bse[0]"
   ]
  },
  {
   "cell_type": "code",
   "execution_count": null,
   "id": "a4cffc89-a48b-4f5c-9788-5c7443906b7f",
   "metadata": {},
   "outputs": [],
   "source": [
    "p_value = 2*sps.norm.pdf(-abs(zstat_coeff(b1,se1,b2,se2)))\n",
    "p_value"
   ]
  },
  {
   "cell_type": "code",
   "execution_count": null,
   "id": "b6e32fa4-fbad-4619-a196-0d644d665f09",
   "metadata": {},
   "outputs": [],
   "source": [
    "p_value_c = 2*sps.norm.cdf(-abs(zstat_coeff(b1,se1,b2,se2)))\n",
    "p_value_c"
   ]
  },
  {
   "cell_type": "code",
   "execution_count": null,
   "id": "dd69dbb9-eb1c-464c-92ec-39f92ce80355",
   "metadata": {},
   "outputs": [],
   "source": [
    "# p_value = 2*pnorm(-abs(compare.coeff(b1,se1,b2,se2)))\n",
    "# p_value"
   ]
  },
  {
   "cell_type": "markdown",
   "id": "cd52c1dc-be8c-4cc8-a299-f84cd5ec0f29",
   "metadata": {
    "tags": []
   },
   "source": [
    "# ANOVA"
   ]
  },
  {
   "cell_type": "markdown",
   "id": "a46c4d87-3481-4c29-b119-6ca43e77fee4",
   "metadata": {},
   "source": [
    "https://stats.stackexchange.com/questions/45528/comparing-two-linear-regression-models\n",
    "\n",
    "https://stats.stackexchange.com/questions/57492/what-test-should-be-used-to-tell-if-two-linear-regression-lines-are-significantl"
   ]
  },
  {
   "cell_type": "markdown",
   "id": "d077a109-8871-453d-9314-a70a936aeb5a",
   "metadata": {},
   "source": [
    "# Wald Test"
   ]
  },
  {
   "cell_type": "markdown",
   "id": "117ab9db-1382-472a-a532-c9e750f71e7c",
   "metadata": {},
   "source": [
    "https://en.wikipedia.org/wiki/Wald_test\n",
    "\n",
    "https://www.statology.org/wald-test-python/\n",
    "\n",
    "https://andrewpwheeler.com/2021/06/18/wald-tests-via-statsmodels-python/\n",
    "\n",
    "https://stats.stackexchange.com/questions/592311/wald-test-failing-to-reject-null-hypothesis-that-a-predictor-is-insignificant-in\n",
    "\n",
    "https://stackoverflow.com/questions/28926922/statsmodels-wald-test-for-significance-of-trend-in-coefficients-in-linear-regr"
   ]
  },
  {
   "cell_type": "code",
   "execution_count": null,
   "id": "3ab0cb11-f682-459c-bbe7-ce2d5013491e",
   "metadata": {},
   "outputs": [],
   "source": [
    "lm_c = smf.ols(\"y1 ~ X1 + X2\", df).fit()\n",
    "results.summary()"
   ]
  },
  {
   "cell_type": "code",
   "execution_count": null,
   "id": "e9398ea1-0d91-42e2-a556-a27fd788569b",
   "metadata": {},
   "outputs": [],
   "source": [
    "results.wald_test_terms()"
   ]
  },
  {
   "cell_type": "code",
   "execution_count": null,
   "id": "56d0adfa-ccd8-4992-946c-cb3bd018204e",
   "metadata": {},
   "outputs": [],
   "source": [
    "# OLSResults.wald_test_terms(skip_single=False, extra_constraints=None, combine_terms=None, scalar=None)\n",
    "\n",
    "# ols = sm.regression.linear_model.OLS(X,y)\n",
    "ols = sm.regression.linear_model.OLS(\"y1 ~ X1 + X2\", df)\n",
    "# ols_res = ols.fit()\n",
    "# ols_res.wald_test_terms()\n",
    "\n",
    "#results = smf.ols('mpg ~ disp + carb + hp + cyl', df).fit()\n",
    "#results.wald_test('(hp = 0, cyl = 0)')\n",
    "\n",
    "# res_ols = ols(\"np.log(Days+1) ~ C(Duration, Sum)*C(Weight, Sum)\", data).fit()\n",
    "#res_ols.wald_test_terms()"
   ]
  },
  {
   "cell_type": "markdown",
   "id": "35210631-fcd9-480f-bad6-56d46a8dc328",
   "metadata": {},
   "source": [
    "# F-Test"
   ]
  },
  {
   "cell_type": "markdown",
   "id": "2f6402f8-442f-4b42-950c-4393673bbd3e",
   "metadata": {},
   "source": [
    "# T-Test"
   ]
  },
  {
   "cell_type": "markdown",
   "id": "c8187792-be08-417f-a84c-56f2d5ba10f1",
   "metadata": {},
   "source": [
    "# Unclear"
   ]
  },
  {
   "cell_type": "markdown",
   "id": "8dba6a5d-339f-4b1f-8850-4c2362e84775",
   "metadata": {},
   "source": [
    "https://stats.stackexchange.com/questions/151916/are-two-linear-regression-models-significantly-different\n",
    "\n",
    "https://stats.stackexchange.com/questions/93524/testing-whether-two-regression-coefficients-are-significantly-different-in-r-id?rq=1"
   ]
  }
 ],
 "metadata": {
  "kernelspec": {
   "display_name": "Python 3 (ipykernel)",
   "language": "python",
   "name": "python3"
  },
  "language_info": {
   "codemirror_mode": {
    "name": "ipython",
    "version": 3
   },
   "file_extension": ".py",
   "mimetype": "text/x-python",
   "name": "python",
   "nbconvert_exporter": "python",
   "pygments_lexer": "ipython3",
   "version": "3.9.13"
  },
  "toc-autonumbering": true
 },
 "nbformat": 4,
 "nbformat_minor": 5
}
