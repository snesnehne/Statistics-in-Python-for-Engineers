{
 "cells": [
  {
   "cell_type": "code",
   "execution_count": 1,
   "id": "6f8af873-0aa2-444c-a08d-0c27a93d294a",
   "metadata": {},
   "outputs": [],
   "source": [
    "import statsmodels.api as sm\n",
    "import statsmodels.formula.api as smf\n",
    "from sklearn import linear_model, preprocessing\n",
    "import scipy.stats as sps\n",
    "\n",
    "import numpy as np\n",
    "import matplotlib.pyplot as plt\n",
    "import pandas as pd"
   ]
  },
  {
   "cell_type": "markdown",
   "id": "46c89f5d-41ee-4bea-bfaf-5478940cf7a6",
   "metadata": {},
   "source": [
    "## Methods\n"
   ]
  },
  {
   "cell_type": "markdown",
   "id": "7bbb79d8-5462-4eb2-aeac-cb02ec98a51d",
   "metadata": {},
   "source": [
    "https://stats.oarc.ucla.edu/other/mult-pkg/faq/general/faqhow-are-the-likelihood-ratio-wald-and-lagrange-multiplier-score-tests-different-andor-similar/#:~:text=The%20Wald%20test%20works%20by,are%20simultaneously%20equal%20to%20zero\n",
    "\n",
    "\n"
   ]
  },
  {
   "cell_type": "markdown",
   "id": "ef39c317-8d0b-418d-8625-a02fc0f0b37d",
   "metadata": {},
   "source": [
    "## Data"
   ]
  },
  {
   "cell_type": "code",
   "execution_count": 5,
   "id": "a577d9da-ed15-4aab-a2a5-a8f1a303ec52",
   "metadata": {},
   "outputs": [],
   "source": [
    "g1_count = 100\n",
    "g2_count = 100\n",
    "\n",
    "x1 = np.arange(5, 15, 10/g1_count)\n",
    "y1 = x1 + 3 + np.random.normal(2, 1, g1_count)\n",
    "\n",
    "x2 = np.arange(0, 10, 10/g2_count)\n",
    "y2 = 1.1*x2 + 3 + np.random.normal(2, 1, g2_count)\n",
    "\n",
    "df = pd.DataFrame({\"x1\": x1, \"x2\": x2, \"y1\": y1, \"y2\": y2})"
   ]
  },
  {
   "cell_type": "code",
   "execution_count": 7,
   "id": "2a605d30-de9c-4345-9248-9fd109ff8d43",
   "metadata": {},
   "outputs": [
    {
     "data": {
      "text/html": [
       "<div><div id=ad6dc7b1-5e46-4599-8091-e96c47a2f325 style=\"display:none; background-color:#9D6CFF; color:white; width:200px; height:30px; padding-left:5px; border-radius:4px; flex-direction:row; justify-content:space-around; align-items:center;\" onmouseover=\"this.style.backgroundColor='#BA9BF8'\" onmouseout=\"this.style.backgroundColor='#9D6CFF'\" onclick=\"window.commands?.execute('create-mitosheet-from-dataframe-output');\">See Full Dataframe in Mito</div> <script> if (window.commands?.hasCommand('create-mitosheet-from-dataframe-output')) document.getElementById('ad6dc7b1-5e46-4599-8091-e96c47a2f325').style.display = 'flex' </script> <table border=\"1\" class=\"dataframe\">\n",
       "  <thead>\n",
       "    <tr style=\"text-align: right;\">\n",
       "      <th></th>\n",
       "      <th>x1</th>\n",
       "      <th>x2</th>\n",
       "      <th>y1</th>\n",
       "      <th>y2</th>\n",
       "    </tr>\n",
       "  </thead>\n",
       "  <tbody>\n",
       "    <tr>\n",
       "      <th>0</th>\n",
       "      <td>5.0</td>\n",
       "      <td>0.0</td>\n",
       "      <td>11.625367</td>\n",
       "      <td>4.702109</td>\n",
       "    </tr>\n",
       "    <tr>\n",
       "      <th>1</th>\n",
       "      <td>5.1</td>\n",
       "      <td>0.1</td>\n",
       "      <td>9.739272</td>\n",
       "      <td>7.235928</td>\n",
       "    </tr>\n",
       "    <tr>\n",
       "      <th>2</th>\n",
       "      <td>5.2</td>\n",
       "      <td>0.2</td>\n",
       "      <td>9.449912</td>\n",
       "      <td>7.032900</td>\n",
       "    </tr>\n",
       "    <tr>\n",
       "      <th>3</th>\n",
       "      <td>5.3</td>\n",
       "      <td>0.3</td>\n",
       "      <td>10.750875</td>\n",
       "      <td>6.090785</td>\n",
       "    </tr>\n",
       "    <tr>\n",
       "      <th>4</th>\n",
       "      <td>5.4</td>\n",
       "      <td>0.4</td>\n",
       "      <td>10.983776</td>\n",
       "      <td>6.399480</td>\n",
       "    </tr>\n",
       "    <tr>\n",
       "      <th>...</th>\n",
       "      <td>...</td>\n",
       "      <td>...</td>\n",
       "      <td>...</td>\n",
       "      <td>...</td>\n",
       "    </tr>\n",
       "    <tr>\n",
       "      <th>95</th>\n",
       "      <td>14.5</td>\n",
       "      <td>9.5</td>\n",
       "      <td>20.469723</td>\n",
       "      <td>14.590676</td>\n",
       "    </tr>\n",
       "    <tr>\n",
       "      <th>96</th>\n",
       "      <td>14.6</td>\n",
       "      <td>9.6</td>\n",
       "      <td>21.116671</td>\n",
       "      <td>14.003531</td>\n",
       "    </tr>\n",
       "    <tr>\n",
       "      <th>97</th>\n",
       "      <td>14.7</td>\n",
       "      <td>9.7</td>\n",
       "      <td>20.123385</td>\n",
       "      <td>16.101572</td>\n",
       "    </tr>\n",
       "    <tr>\n",
       "      <th>98</th>\n",
       "      <td>14.8</td>\n",
       "      <td>9.8</td>\n",
       "      <td>19.182113</td>\n",
       "      <td>15.468977</td>\n",
       "    </tr>\n",
       "    <tr>\n",
       "      <th>99</th>\n",
       "      <td>14.9</td>\n",
       "      <td>9.9</td>\n",
       "      <td>21.468688</td>\n",
       "      <td>17.508482</td>\n",
       "    </tr>\n",
       "  </tbody>\n",
       "</table></div>"
      ],
      "text/plain": [
       "      x1   x2         y1         y2\n",
       "0    5.0  0.0  11.625367   4.702109\n",
       "1    5.1  0.1   9.739272   7.235928\n",
       "2    5.2  0.2   9.449912   7.032900\n",
       "3    5.3  0.3  10.750875   6.090785\n",
       "4    5.4  0.4  10.983776   6.399480\n",
       "..   ...  ...        ...        ...\n",
       "95  14.5  9.5  20.469723  14.590676\n",
       "96  14.6  9.6  21.116671  14.003531\n",
       "97  14.7  9.7  20.123385  16.101572\n",
       "98  14.8  9.8  19.182113  15.468977\n",
       "99  14.9  9.9  21.468688  17.508482\n",
       "\n",
       "[100 rows x 4 columns]"
      ]
     },
     "execution_count": 7,
     "metadata": {},
     "output_type": "execute_result"
    }
   ],
   "source": [
    "df"
   ]
  },
  {
   "cell_type": "code",
   "execution_count": 8,
   "id": "0301154d-8be3-45aa-a637-17dd620b7aa0",
   "metadata": {},
   "outputs": [
    {
     "data": {
      "text/plain": [
       "<matplotlib.collections.PathCollection at 0x2c08ef4b220>"
      ]
     },
     "execution_count": 8,
     "metadata": {},
     "output_type": "execute_result"
    },
    {
     "data": {
      "image/png": "[encoded data removed]",
      "text/plain": [
       "<Figure size 640x480 with 1 Axes>"
      ]
     },
     "metadata": {},
     "output_type": "display_data"
    }
   ],
   "source": [
    "fig, ax = plt.subplots()\n",
    "\n",
    "ax.scatter(x1,y1)\n",
    "ax.scatter(x2,y2)"
   ]
  },
  {
   "cell_type": "markdown",
   "id": "e4ee6a2d-d505-47b9-8f67-f67c1e11c78c",
   "metadata": {},
   "source": [
    "## Linear models"
   ]
  },
  {
   "cell_type": "markdown",
   "id": "495b9920-d1ba-49d5-bbb0-baeeaad1300f",
   "metadata": {},
   "source": [
    "### Seperate Models"
   ]
  },
  {
   "cell_type": "markdown",
   "id": "00cab8a3-efed-4828-87da-b97d8b01e097",
   "metadata": {},
   "source": [
    "#### Scikit-learn model"
   ]
  },
  {
   "cell_type": "code",
   "execution_count": 9,
   "id": "293629c3-0c32-4c02-901c-2bb60363b35f",
   "metadata": {},
   "outputs": [
    {
     "name": "stdout",
     "output_type": "stream",
     "text": [
      " y = 0.9981713854604463x + 5.021643120868708\n",
      " y = 1.0335232677075439x + 5.429586417235129\n"
     ]
    }
   ],
   "source": [
    "lm1_sk = linear_model.LinearRegression().fit(x1.reshape(-1,1), y1.reshape(-1,1))\n",
    "lm2_sk = linear_model.LinearRegression().fit(x2.reshape(-1,1), y2.reshape(-1,1))\n",
    "print(f\" y = {lm1_sk.coef_[0][0]}x + {lm1_sk.intercept_[0]}\")\n",
    "print(f\" y = {lm2_sk.coef_[0][0]}x + {lm2_sk.intercept_[0]}\")"
   ]
  },
  {
   "cell_type": "markdown",
   "id": "2fc40a7e-05e2-4b63-97ce-dbbf71f90349",
   "metadata": {},
   "source": [
    "#### Statsmodels model"
   ]
  },
  {
   "cell_type": "markdown",
   "id": "be10bcf2-1052-4df4-be3a-1c3fe462bcfb",
   "metadata": {},
   "source": [
    "Endog is the dependent variable while exog is the independent variable"
   ]
  },
  {
   "cell_type": "code",
   "execution_count": 10,
   "id": "c8ae7b5e-6f30-49fe-aae5-240f180555d4",
   "metadata": {},
   "outputs": [],
   "source": [
    "x1s = df[\"x1\"]\n",
    "x2s = df[\"x2\"]\n",
    "\n",
    "x1s = sm.add_constant(x1s) # add column of ones to include intercept term in model\n",
    "x2s = sm.add_constant(x2s) # add column of ones to include intercept term in model\n",
    "\n",
    "lm1_sm = sm.OLS(endog=df[\"y1\"], exog=x1s).fit()\n",
    "lm2_sm = sm.OLS(endog=df[\"y2\"], exog=x2s).fit()\n",
    "# lm1 = sm.OLS(endog=df[\"y1\"], exog=df[[\"x1\"]].assign(intercept=1)).fit()\n",
    "# lm2 = sm.OLS(endog=df[\"y2\"], exog=df[[\"x2\"]].assign(intercept=1)).fit()"
   ]
  },
  {
   "cell_type": "code",
   "execution_count": 11,
   "id": "ee16c553-7c71-4905-a4ca-0ec5bd277827",
   "metadata": {},
   "outputs": [
    {
     "data": {
      "text/plain": [
       "const    5.021643\n",
       "x1       0.998171\n",
       "dtype: float64"
      ]
     },
     "execution_count": 11,
     "metadata": {},
     "output_type": "execute_result"
    }
   ],
   "source": [
    "lm1_sm.params"
   ]
  },
  {
   "cell_type": "code",
   "execution_count": 12,
   "id": "c7504948-5b99-49ca-853c-797e06bbccf9",
   "metadata": {},
   "outputs": [
    {
     "data": {
      "text/html": [
       "<table class=\"simpletable\">\n",
       "<caption>OLS Regression Results</caption>\n",
       "<tr>\n",
       "  <th>Dep. Variable:</th>           <td>y1</td>        <th>  R-squared:         </th> <td>   0.891</td>\n",
       "</tr>\n",
       "<tr>\n",
       "  <th>Model:</th>                   <td>OLS</td>       <th>  Adj. R-squared:    </th> <td>   0.890</td>\n",
       "</tr>\n",
       "<tr>\n",
       "  <th>Method:</th>             <td>Least Squares</td>  <th>  F-statistic:       </th> <td>   799.3</td>\n",
       "</tr>\n",
       "<tr>\n",
       "  <th>Date:</th>             <td>Tue, 16 May 2023</td> <th>  Prob (F-statistic):</th> <td>6.40e-49</td>\n",
       "</tr>\n",
       "<tr>\n",
       "  <th>Time:</th>                 <td>11:47:18</td>     <th>  Log-Likelihood:    </th> <td> -142.78</td>\n",
       "</tr>\n",
       "<tr>\n",
       "  <th>No. Observations:</th>      <td>   100</td>      <th>  AIC:               </th> <td>   289.6</td>\n",
       "</tr>\n",
       "<tr>\n",
       "  <th>Df Residuals:</th>          <td>    98</td>      <th>  BIC:               </th> <td>   294.8</td>\n",
       "</tr>\n",
       "<tr>\n",
       "  <th>Df Model:</th>              <td>     1</td>      <th>                     </th>     <td> </td>   \n",
       "</tr>\n",
       "<tr>\n",
       "  <th>Covariance Type:</th>      <td>nonrobust</td>    <th>                     </th>     <td> </td>   \n",
       "</tr>\n",
       "</table>\n",
       "<table class=\"simpletable\">\n",
       "<tr>\n",
       "    <td></td>       <th>coef</th>     <th>std err</th>      <th>t</th>      <th>P>|t|</th>  <th>[0.025</th>    <th>0.975]</th>  \n",
       "</tr>\n",
       "<tr>\n",
       "  <th>const</th> <td>    5.0216</td> <td>    0.366</td> <td>   13.728</td> <td> 0.000</td> <td>    4.296</td> <td>    5.748</td>\n",
       "</tr>\n",
       "<tr>\n",
       "  <th>x1</th>    <td>    0.9982</td> <td>    0.035</td> <td>   28.271</td> <td> 0.000</td> <td>    0.928</td> <td>    1.068</td>\n",
       "</tr>\n",
       "</table>\n",
       "<table class=\"simpletable\">\n",
       "<tr>\n",
       "  <th>Omnibus:</th>       <td> 1.090</td> <th>  Durbin-Watson:     </th> <td>   2.267</td>\n",
       "</tr>\n",
       "<tr>\n",
       "  <th>Prob(Omnibus):</th> <td> 0.580</td> <th>  Jarque-Bera (JB):  </th> <td>   0.898</td>\n",
       "</tr>\n",
       "<tr>\n",
       "  <th>Skew:</th>          <td> 0.232</td> <th>  Prob(JB):          </th> <td>   0.638</td>\n",
       "</tr>\n",
       "<tr>\n",
       "  <th>Kurtosis:</th>      <td> 2.993</td> <th>  Cond. No.          </th> <td>    37.5</td>\n",
       "</tr>\n",
       "</table><br/><br/>Notes:<br/>[1] Standard Errors assume that the covariance matrix of the errors is correctly specified."
      ],
      "text/plain": [
       "<class 'statsmodels.iolib.summary.Summary'>\n",
       "\"\"\"\n",
       "                            OLS Regression Results                            \n",
       "==============================================================================\n",
       "Dep. Variable:                     y1   R-squared:                       0.891\n",
       "Model:                            OLS   Adj. R-squared:                  0.890\n",
       "Method:                 Least Squares   F-statistic:                     799.3\n",
       "Date:                Tue, 16 May 2023   Prob (F-statistic):           6.40e-49\n",
       "Time:                        11:47:18   Log-Likelihood:                -142.78\n",
       "No. Observations:                 100   AIC:                             289.6\n",
       "Df Residuals:                      98   BIC:                             294.8\n",
       "Df Model:                           1                                         \n",
       "Covariance Type:            nonrobust                                         \n",
       "==============================================================================\n",
       "                 coef    std err          t      P>|t|      [0.025      0.975]\n",
       "------------------------------------------------------------------------------\n",
       "const          5.0216      0.366     13.728      0.000       4.296       5.748\n",
       "x1             0.9982      0.035     28.271      0.000       0.928       1.068\n",
       "==============================================================================\n",
       "Omnibus:                        1.090   Durbin-Watson:                   2.267\n",
       "Prob(Omnibus):                  0.580   Jarque-Bera (JB):                0.898\n",
       "Skew:                           0.232   Prob(JB):                        0.638\n",
       "Kurtosis:                       2.993   Cond. No.                         37.5\n",
       "==============================================================================\n",
       "\n",
       "Notes:\n",
       "[1] Standard Errors assume that the covariance matrix of the errors is correctly specified.\n",
       "\"\"\""
      ]
     },
     "execution_count": 12,
     "metadata": {},
     "output_type": "execute_result"
    }
   ],
   "source": [
    "lm1_sm.summary()"
   ]
  },
  {
   "cell_type": "code",
   "execution_count": 13,
   "id": "8bbd15cd-da2e-4176-bf6e-f94ca7b62d0a",
   "metadata": {},
   "outputs": [
    {
     "data": {
      "text/html": [
       "<table class=\"simpletable\">\n",
       "<caption>OLS Regression Results</caption>\n",
       "<tr>\n",
       "  <th>Dep. Variable:</th>           <td>y2</td>        <th>  R-squared:         </th> <td>   0.911</td>\n",
       "</tr>\n",
       "<tr>\n",
       "  <th>Model:</th>                   <td>OLS</td>       <th>  Adj. R-squared:    </th> <td>   0.910</td>\n",
       "</tr>\n",
       "<tr>\n",
       "  <th>Method:</th>             <td>Least Squares</td>  <th>  F-statistic:       </th> <td>   998.5</td>\n",
       "</tr>\n",
       "<tr>\n",
       "  <th>Date:</th>             <td>Tue, 16 May 2023</td> <th>  Prob (F-statistic):</th> <td>3.42e-53</td>\n",
       "</tr>\n",
       "<tr>\n",
       "  <th>Time:</th>                 <td>11:47:18</td>     <th>  Log-Likelihood:    </th> <td> -135.13</td>\n",
       "</tr>\n",
       "<tr>\n",
       "  <th>No. Observations:</th>      <td>   100</td>      <th>  AIC:               </th> <td>   274.3</td>\n",
       "</tr>\n",
       "<tr>\n",
       "  <th>Df Residuals:</th>          <td>    98</td>      <th>  BIC:               </th> <td>   279.5</td>\n",
       "</tr>\n",
       "<tr>\n",
       "  <th>Df Model:</th>              <td>     1</td>      <th>                     </th>     <td> </td>   \n",
       "</tr>\n",
       "<tr>\n",
       "  <th>Covariance Type:</th>      <td>nonrobust</td>    <th>                     </th>     <td> </td>   \n",
       "</tr>\n",
       "</table>\n",
       "<table class=\"simpletable\">\n",
       "<tr>\n",
       "    <td></td>       <th>coef</th>     <th>std err</th>      <th>t</th>      <th>P>|t|</th>  <th>[0.025</th>    <th>0.975]</th>  \n",
       "</tr>\n",
       "<tr>\n",
       "  <th>const</th> <td>    5.4296</td> <td>    0.187</td> <td>   28.971</td> <td> 0.000</td> <td>    5.058</td> <td>    5.802</td>\n",
       "</tr>\n",
       "<tr>\n",
       "  <th>x2</th>    <td>    1.0335</td> <td>    0.033</td> <td>   31.600</td> <td> 0.000</td> <td>    0.969</td> <td>    1.098</td>\n",
       "</tr>\n",
       "</table>\n",
       "<table class=\"simpletable\">\n",
       "<tr>\n",
       "  <th>Omnibus:</th>       <td> 4.241</td> <th>  Durbin-Watson:     </th> <td>   2.104</td>\n",
       "</tr>\n",
       "<tr>\n",
       "  <th>Prob(Omnibus):</th> <td> 0.120</td> <th>  Jarque-Bera (JB):  </th> <td>   3.790</td>\n",
       "</tr>\n",
       "<tr>\n",
       "  <th>Skew:</th>          <td> 0.472</td> <th>  Prob(JB):          </th> <td>   0.150</td>\n",
       "</tr>\n",
       "<tr>\n",
       "  <th>Kurtosis:</th>      <td> 3.137</td> <th>  Cond. No.          </th> <td>    11.6</td>\n",
       "</tr>\n",
       "</table><br/><br/>Notes:<br/>[1] Standard Errors assume that the covariance matrix of the errors is correctly specified."
      ],
      "text/plain": [
       "<class 'statsmodels.iolib.summary.Summary'>\n",
       "\"\"\"\n",
       "                            OLS Regression Results                            \n",
       "==============================================================================\n",
       "Dep. Variable:                     y2   R-squared:                       0.911\n",
       "Model:                            OLS   Adj. R-squared:                  0.910\n",
       "Method:                 Least Squares   F-statistic:                     998.5\n",
       "Date:                Tue, 16 May 2023   Prob (F-statistic):           3.42e-53\n",
       "Time:                        11:47:18   Log-Likelihood:                -135.13\n",
       "No. Observations:                 100   AIC:                             274.3\n",
       "Df Residuals:                      98   BIC:                             279.5\n",
       "Df Model:                           1                                         \n",
       "Covariance Type:            nonrobust                                         \n",
       "==============================================================================\n",
       "                 coef    std err          t      P>|t|      [0.025      0.975]\n",
       "------------------------------------------------------------------------------\n",
       "const          5.4296      0.187     28.971      0.000       5.058       5.802\n",
       "x2             1.0335      0.033     31.600      0.000       0.969       1.098\n",
       "==============================================================================\n",
       "Omnibus:                        4.241   Durbin-Watson:                   2.104\n",
       "Prob(Omnibus):                  0.120   Jarque-Bera (JB):                3.790\n",
       "Skew:                           0.472   Prob(JB):                        0.150\n",
       "Kurtosis:                       3.137   Cond. No.                         11.6\n",
       "==============================================================================\n",
       "\n",
       "Notes:\n",
       "[1] Standard Errors assume that the covariance matrix of the errors is correctly specified.\n",
       "\"\"\""
      ]
     },
     "execution_count": 13,
     "metadata": {},
     "output_type": "execute_result"
    }
   ],
   "source": [
    "lm2_sm.summary()"
   ]
  },
  {
   "cell_type": "code",
   "execution_count": 14,
   "id": "9b596afd-239e-40c8-8f84-ca1f512e9d48",
   "metadata": {},
   "outputs": [
    {
     "data": {
      "text/plain": [
       "const    0.365786\n",
       "x1       0.035307\n",
       "dtype: float64"
      ]
     },
     "execution_count": 14,
     "metadata": {},
     "output_type": "execute_result"
    }
   ],
   "source": [
    "lm1_sm.bse"
   ]
  },
  {
   "cell_type": "code",
   "execution_count": 15,
   "id": "66288636-f38f-4fe9-8469-edd6b77156ad",
   "metadata": {},
   "outputs": [
    {
     "data": {
      "text/plain": [
       "const    1.469909e-24\n",
       "x1       6.404973e-49\n",
       "dtype: float64"
      ]
     },
     "execution_count": 15,
     "metadata": {},
     "output_type": "execute_result"
    }
   ],
   "source": [
    "lm1_sm.pvalues"
   ]
  },
  {
   "cell_type": "markdown",
   "id": "7596b2be-905b-4e4c-978e-efc3c35344ed",
   "metadata": {},
   "source": [
    "#### Statsmodel model 2"
   ]
  },
  {
   "cell_type": "code",
   "execution_count": 16,
   "id": "e6d70814-91dd-44e5-830a-cae1e99f73db",
   "metadata": {},
   "outputs": [
    {
     "data": {
      "text/html": [
       "<table class=\"simpletable\">\n",
       "<caption>OLS Regression Results</caption>\n",
       "<tr>\n",
       "  <th>Dep. Variable:</th>           <td>y1</td>        <th>  R-squared:         </th> <td>   0.891</td>\n",
       "</tr>\n",
       "<tr>\n",
       "  <th>Model:</th>                   <td>OLS</td>       <th>  Adj. R-squared:    </th> <td>   0.890</td>\n",
       "</tr>\n",
       "<tr>\n",
       "  <th>Method:</th>             <td>Least Squares</td>  <th>  F-statistic:       </th> <td>   799.3</td>\n",
       "</tr>\n",
       "<tr>\n",
       "  <th>Date:</th>             <td>Tue, 16 May 2023</td> <th>  Prob (F-statistic):</th> <td>6.40e-49</td>\n",
       "</tr>\n",
       "<tr>\n",
       "  <th>Time:</th>                 <td>11:47:19</td>     <th>  Log-Likelihood:    </th> <td> -142.78</td>\n",
       "</tr>\n",
       "<tr>\n",
       "  <th>No. Observations:</th>      <td>   100</td>      <th>  AIC:               </th> <td>   289.6</td>\n",
       "</tr>\n",
       "<tr>\n",
       "  <th>Df Residuals:</th>          <td>    98</td>      <th>  BIC:               </th> <td>   294.8</td>\n",
       "</tr>\n",
       "<tr>\n",
       "  <th>Df Model:</th>              <td>     1</td>      <th>                     </th>     <td> </td>   \n",
       "</tr>\n",
       "<tr>\n",
       "  <th>Covariance Type:</th>      <td>nonrobust</td>    <th>                     </th>     <td> </td>   \n",
       "</tr>\n",
       "</table>\n",
       "<table class=\"simpletable\">\n",
       "<tr>\n",
       "      <td></td>         <th>coef</th>     <th>std err</th>      <th>t</th>      <th>P>|t|</th>  <th>[0.025</th>    <th>0.975]</th>  \n",
       "</tr>\n",
       "<tr>\n",
       "  <th>Intercept</th> <td>    5.0216</td> <td>    0.366</td> <td>   13.728</td> <td> 0.000</td> <td>    4.296</td> <td>    5.748</td>\n",
       "</tr>\n",
       "<tr>\n",
       "  <th>x1</th>        <td>    0.9982</td> <td>    0.035</td> <td>   28.271</td> <td> 0.000</td> <td>    0.928</td> <td>    1.068</td>\n",
       "</tr>\n",
       "</table>\n",
       "<table class=\"simpletable\">\n",
       "<tr>\n",
       "  <th>Omnibus:</th>       <td> 1.090</td> <th>  Durbin-Watson:     </th> <td>   2.267</td>\n",
       "</tr>\n",
       "<tr>\n",
       "  <th>Prob(Omnibus):</th> <td> 0.580</td> <th>  Jarque-Bera (JB):  </th> <td>   0.898</td>\n",
       "</tr>\n",
       "<tr>\n",
       "  <th>Skew:</th>          <td> 0.232</td> <th>  Prob(JB):          </th> <td>   0.638</td>\n",
       "</tr>\n",
       "<tr>\n",
       "  <th>Kurtosis:</th>      <td> 2.993</td> <th>  Cond. No.          </th> <td>    37.5</td>\n",
       "</tr>\n",
       "</table><br/><br/>Notes:<br/>[1] Standard Errors assume that the covariance matrix of the errors is correctly specified."
      ],
      "text/plain": [
       "<class 'statsmodels.iolib.summary.Summary'>\n",
       "\"\"\"\n",
       "                            OLS Regression Results                            \n",
       "==============================================================================\n",
       "Dep. Variable:                     y1   R-squared:                       0.891\n",
       "Model:                            OLS   Adj. R-squared:                  0.890\n",
       "Method:                 Least Squares   F-statistic:                     799.3\n",
       "Date:                Tue, 16 May 2023   Prob (F-statistic):           6.40e-49\n",
       "Time:                        11:47:19   Log-Likelihood:                -142.78\n",
       "No. Observations:                 100   AIC:                             289.6\n",
       "Df Residuals:                      98   BIC:                             294.8\n",
       "Df Model:                           1                                         \n",
       "Covariance Type:            nonrobust                                         \n",
       "==============================================================================\n",
       "                 coef    std err          t      P>|t|      [0.025      0.975]\n",
       "------------------------------------------------------------------------------\n",
       "Intercept      5.0216      0.366     13.728      0.000       4.296       5.748\n",
       "x1             0.9982      0.035     28.271      0.000       0.928       1.068\n",
       "==============================================================================\n",
       "Omnibus:                        1.090   Durbin-Watson:                   2.267\n",
       "Prob(Omnibus):                  0.580   Jarque-Bera (JB):                0.898\n",
       "Skew:                           0.232   Prob(JB):                        0.638\n",
       "Kurtosis:                       2.993   Cond. No.                         37.5\n",
       "==============================================================================\n",
       "\n",
       "Notes:\n",
       "[1] Standard Errors assume that the covariance matrix of the errors is correctly specified.\n",
       "\"\"\""
      ]
     },
     "execution_count": 16,
     "metadata": {},
     "output_type": "execute_result"
    }
   ],
   "source": [
    "lm1_b = smf.ols(formula=\"y1 ~ x1\", data=df).fit()\n",
    "lm1_b.summary()"
   ]
  },
  {
   "cell_type": "markdown",
   "id": "7bd18a6a-28ab-4248-a9d6-307f4a8a3a92",
   "metadata": {},
   "source": [
    "#### Scipy stats model"
   ]
  },
  {
   "cell_type": "code",
   "execution_count": 17,
   "id": "7914c5d4-844c-480a-aa2a-81317f9f5139",
   "metadata": {},
   "outputs": [
    {
     "name": "stdout",
     "output_type": "stream",
     "text": [
      " y = 0.9981713854604464x + 5.021643120868706\n",
      " y = 1.0335232677075445x + 5.429586417235125\n"
     ]
    }
   ],
   "source": [
    "lm1_sp = sps.linregress(x=x1, y=y1, alternative='two-sided')\n",
    "lm2_sp = sps.linregress(x=x2, y=y2, alternative='two-sided')\n",
    "print(f\" y = {lm1_sp.slope}x + {lm1_sp.intercept}\")\n",
    "print(f\" y = {lm2_sp.slope}x + {lm2_sp.intercept}\")"
   ]
  },
  {
   "cell_type": "markdown",
   "id": "40fa6851-bb94-4d61-81c0-49967d7b7074",
   "metadata": {},
   "source": [
    "### Combined models"
   ]
  },
  {
   "cell_type": "markdown",
   "id": "4ab06518-a7d4-4678-a451-4f31f8f7f6b3",
   "metadata": {},
   "source": [
    "# Ancova"
   ]
  },
  {
   "cell_type": "markdown",
   "id": "b84df7b3-3bbf-41da-96ce-f13e720a7192",
   "metadata": {},
   "source": [
    "http://www.biostathandbook.com/ancova.html\n",
    "\n",
    "https://web.archive.org/web/20230223045335/http://www.biostathandbook.com/ancova.html\n",
    "\n",
    "https://www.reneshbedre.com/blog/ancova.html\n",
    "\n",
    "https://web.archive.org/web/20230201184317/https://www.reneshbedre.com/blog/ancova.html\n",
    "\n",
    "https://www.statology.org/ancova/\n",
    "\n"
   ]
  },
  {
   "cell_type": "markdown",
   "id": "ddc868ff-dec4-493b-8119-21945f29aea0",
   "metadata": {},
   "source": [
    "## Application and Assumptions"
   ]
  },
  {
   "cell_type": "markdown",
   "id": "e4f57ec0-df01-4649-8d0b-6b37aad5d0f1",
   "metadata": {
    "jp-MarkdownHeadingCollapsed": true,
    "tags": []
   },
   "source": [
    "Used to test for significance between different linear models that include at least one continuous and one categorical independent variable\n",
    "\n",
    ">Null hypotheses:\n",
    ">* Slopes of regression lines are all equal\n",
    ">* Y intercepts of regression lines are all the same/ adjusted means of the group (least squares means) are the same\n",
    "\n",
    "\n",
    ">Assumptions:\n",
    ">* Linear relationship between dependent variable and covariate\n",
    ">* Normally distributed residuals\n",
    ">* Dependent variable and covariate are continuous\n",
    ">* No interaction between categorical independent variable and covariate (homogeneity within-group regression slopes)"
   ]
  },
  {
   "cell_type": "code",
   "execution_count": 18,
   "id": "dcdac6e3-8300-49fd-880d-93a1e568ed50",
   "metadata": {},
   "outputs": [
    {
     "data": {
      "text/html": [
       "<div><div id=75ea5620-4fa9-4f6f-8e90-0250f2c30dc7 style=\"display:none; background-color:#9D6CFF; color:white; width:200px; height:30px; padding-left:5px; border-radius:4px; flex-direction:row; justify-content:space-around; align-items:center;\" onmouseover=\"this.style.backgroundColor='#BA9BF8'\" onmouseout=\"this.style.backgroundColor='#9D6CFF'\" onclick=\"window.commands?.execute('create-mitosheet-from-dataframe-output');\">See Full Dataframe in Mito</div> <script> if (window.commands?.hasCommand('create-mitosheet-from-dataframe-output')) document.getElementById('75ea5620-4fa9-4f6f-8e90-0250f2c30dc7').style.display = 'flex' </script> <table border=\"1\" class=\"dataframe\">\n",
       "  <thead>\n",
       "    <tr style=\"text-align: right;\">\n",
       "      <th></th>\n",
       "      <th>x</th>\n",
       "      <th>y</th>\n",
       "      <th>group</th>\n",
       "    </tr>\n",
       "  </thead>\n",
       "  <tbody>\n",
       "    <tr>\n",
       "      <th>0</th>\n",
       "      <td>5.0</td>\n",
       "      <td>11.625367</td>\n",
       "      <td>A</td>\n",
       "    </tr>\n",
       "    <tr>\n",
       "      <th>1</th>\n",
       "      <td>5.1</td>\n",
       "      <td>9.739272</td>\n",
       "      <td>A</td>\n",
       "    </tr>\n",
       "    <tr>\n",
       "      <th>2</th>\n",
       "      <td>5.2</td>\n",
       "      <td>9.449912</td>\n",
       "      <td>A</td>\n",
       "    </tr>\n",
       "    <tr>\n",
       "      <th>3</th>\n",
       "      <td>5.3</td>\n",
       "      <td>10.750875</td>\n",
       "      <td>A</td>\n",
       "    </tr>\n",
       "    <tr>\n",
       "      <th>4</th>\n",
       "      <td>5.4</td>\n",
       "      <td>10.983776</td>\n",
       "      <td>A</td>\n",
       "    </tr>\n",
       "    <tr>\n",
       "      <th>...</th>\n",
       "      <td>...</td>\n",
       "      <td>...</td>\n",
       "      <td>...</td>\n",
       "    </tr>\n",
       "    <tr>\n",
       "      <th>195</th>\n",
       "      <td>9.5</td>\n",
       "      <td>14.590676</td>\n",
       "      <td>B</td>\n",
       "    </tr>\n",
       "    <tr>\n",
       "      <th>196</th>\n",
       "      <td>9.6</td>\n",
       "      <td>14.003531</td>\n",
       "      <td>B</td>\n",
       "    </tr>\n",
       "    <tr>\n",
       "      <th>197</th>\n",
       "      <td>9.7</td>\n",
       "      <td>16.101572</td>\n",
       "      <td>B</td>\n",
       "    </tr>\n",
       "    <tr>\n",
       "      <th>198</th>\n",
       "      <td>9.8</td>\n",
       "      <td>15.468977</td>\n",
       "      <td>B</td>\n",
       "    </tr>\n",
       "    <tr>\n",
       "      <th>199</th>\n",
       "      <td>9.9</td>\n",
       "      <td>17.508482</td>\n",
       "      <td>B</td>\n",
       "    </tr>\n",
       "  </tbody>\n",
       "</table></div>"
      ],
      "text/plain": [
       "       x          y group\n",
       "0    5.0  11.625367     A\n",
       "1    5.1   9.739272     A\n",
       "2    5.2   9.449912     A\n",
       "3    5.3  10.750875     A\n",
       "4    5.4  10.983776     A\n",
       "..   ...        ...   ...\n",
       "195  9.5  14.590676     B\n",
       "196  9.6  14.003531     B\n",
       "197  9.7  16.101572     B\n",
       "198  9.8  15.468977     B\n",
       "199  9.9  17.508482     B\n",
       "\n",
       "[200 rows x 3 columns]"
      ]
     },
     "execution_count": 18,
     "metadata": {},
     "output_type": "execute_result"
    }
   ],
   "source": [
    "x_c = np.concatenate((x1, x2))\n",
    "y_c = np.concatenate((y1, y2))\n",
    "group_list = np.concatenate((np.array((len(x1)*[\"A\"])),np.array((len(x2)*[\"B\"]))))\n",
    "\n",
    "df_c = pd.DataFrame({\"x\": x_c, \"y\": y_c, \"group\": group_list})\n",
    "\n",
    "df_c"
   ]
  },
  {
   "cell_type": "code",
   "execution_count": 19,
   "id": "2a5517f7-e895-4605-8ca1-50dc5ca39452",
   "metadata": {},
   "outputs": [],
   "source": [
    "ancova = smf.ols('y ~ group + x', data=df_c).fit()"
   ]
  },
  {
   "cell_type": "code",
   "execution_count": 20,
   "id": "10d2bfa2-a19c-4b54-ad2f-cbecf80c97e7",
   "metadata": {},
   "outputs": [
    {
     "data": {
      "text/html": [
       "<table class=\"simpletable\">\n",
       "<caption>OLS Regression Results</caption>\n",
       "<tr>\n",
       "  <th>Dep. Variable:</th>            <td>y</td>        <th>  R-squared:         </th> <td>   0.934</td> \n",
       "</tr>\n",
       "<tr>\n",
       "  <th>Model:</th>                   <td>OLS</td>       <th>  Adj. R-squared:    </th> <td>   0.933</td> \n",
       "</tr>\n",
       "<tr>\n",
       "  <th>Method:</th>             <td>Least Squares</td>  <th>  F-statistic:       </th> <td>   1398.</td> \n",
       "</tr>\n",
       "<tr>\n",
       "  <th>Date:</th>             <td>Tue, 16 May 2023</td> <th>  Prob (F-statistic):</th> <td>4.15e-117</td>\n",
       "</tr>\n",
       "<tr>\n",
       "  <th>Time:</th>                 <td>11:47:22</td>     <th>  Log-Likelihood:    </th> <td> -278.48</td> \n",
       "</tr>\n",
       "<tr>\n",
       "  <th>No. Observations:</th>      <td>   200</td>      <th>  AIC:               </th> <td>   563.0</td> \n",
       "</tr>\n",
       "<tr>\n",
       "  <th>Df Residuals:</th>          <td>   197</td>      <th>  BIC:               </th> <td>   572.9</td> \n",
       "</tr>\n",
       "<tr>\n",
       "  <th>Df Model:</th>              <td>     2</td>      <th>                     </th>     <td> </td>    \n",
       "</tr>\n",
       "<tr>\n",
       "  <th>Covariance Type:</th>      <td>nonrobust</td>    <th>                     </th>     <td> </td>    \n",
       "</tr>\n",
       "</table>\n",
       "<table class=\"simpletable\">\n",
       "<tr>\n",
       "       <td></td>         <th>coef</th>     <th>std err</th>      <th>t</th>      <th>P>|t|</th>  <th>[0.025</th>    <th>0.975]</th>  \n",
       "</tr>\n",
       "<tr>\n",
       "  <th>Intercept</th>  <td>    4.8458</td> <td>    0.259</td> <td>   18.746</td> <td> 0.000</td> <td>    4.336</td> <td>    5.356</td>\n",
       "</tr>\n",
       "<tr>\n",
       "  <th>group[T.B]</th> <td>    0.6713</td> <td>    0.184</td> <td>    3.657</td> <td> 0.000</td> <td>    0.309</td> <td>    1.033</td>\n",
       "</tr>\n",
       "<tr>\n",
       "  <th>x</th>          <td>    1.0158</td> <td>    0.024</td> <td>   42.264</td> <td> 0.000</td> <td>    0.968</td> <td>    1.063</td>\n",
       "</tr>\n",
       "</table>\n",
       "<table class=\"simpletable\">\n",
       "<tr>\n",
       "  <th>Omnibus:</th>       <td> 3.850</td> <th>  Durbin-Watson:     </th> <td>   2.214</td>\n",
       "</tr>\n",
       "<tr>\n",
       "  <th>Prob(Omnibus):</th> <td> 0.146</td> <th>  Jarque-Bera (JB):  </th> <td>   3.674</td>\n",
       "</tr>\n",
       "<tr>\n",
       "  <th>Skew:</th>          <td> 0.332</td> <th>  Prob(JB):          </th> <td>   0.159</td>\n",
       "</tr>\n",
       "<tr>\n",
       "  <th>Kurtosis:</th>      <td> 3.028</td> <th>  Cond. No.          </th> <td>    36.9</td>\n",
       "</tr>\n",
       "</table><br/><br/>Notes:<br/>[1] Standard Errors assume that the covariance matrix of the errors is correctly specified."
      ],
      "text/plain": [
       "<class 'statsmodels.iolib.summary.Summary'>\n",
       "\"\"\"\n",
       "                            OLS Regression Results                            \n",
       "==============================================================================\n",
       "Dep. Variable:                      y   R-squared:                       0.934\n",
       "Model:                            OLS   Adj. R-squared:                  0.933\n",
       "Method:                 Least Squares   F-statistic:                     1398.\n",
       "Date:                Tue, 16 May 2023   Prob (F-statistic):          4.15e-117\n",
       "Time:                        11:47:22   Log-Likelihood:                -278.48\n",
       "No. Observations:                 200   AIC:                             563.0\n",
       "Df Residuals:                     197   BIC:                             572.9\n",
       "Df Model:                           2                                         \n",
       "Covariance Type:            nonrobust                                         \n",
       "==============================================================================\n",
       "                 coef    std err          t      P>|t|      [0.025      0.975]\n",
       "------------------------------------------------------------------------------\n",
       "Intercept      4.8458      0.259     18.746      0.000       4.336       5.356\n",
       "group[T.B]     0.6713      0.184      3.657      0.000       0.309       1.033\n",
       "x              1.0158      0.024     42.264      0.000       0.968       1.063\n",
       "==============================================================================\n",
       "Omnibus:                        3.850   Durbin-Watson:                   2.214\n",
       "Prob(Omnibus):                  0.146   Jarque-Bera (JB):                3.674\n",
       "Skew:                           0.332   Prob(JB):                        0.159\n",
       "Kurtosis:                       3.028   Cond. No.                         36.9\n",
       "==============================================================================\n",
       "\n",
       "Notes:\n",
       "[1] Standard Errors assume that the covariance matrix of the errors is correctly specified.\n",
       "\"\"\""
      ]
     },
     "execution_count": 20,
     "metadata": {},
     "output_type": "execute_result"
    }
   ],
   "source": [
    "ancova.summary()"
   ]
  },
  {
   "cell_type": "code",
   "execution_count": 21,
   "id": "3faf8b8e-2694-4213-919f-9fea069345bd",
   "metadata": {},
   "outputs": [
    {
     "data": {
      "text/plain": [
       "Intercept      1.131547e-45\n",
       "group[T.B]     3.274471e-04\n",
       "x             9.772567e-101\n",
       "dtype: float64"
      ]
     },
     "execution_count": 21,
     "metadata": {},
     "output_type": "execute_result"
    }
   ],
   "source": [
    "ancova.pvalues"
   ]
  },
  {
   "cell_type": "markdown",
   "id": "f99c000c-b7cf-4355-8096-61c05a97a3de",
   "metadata": {},
   "source": [
    "## Test for normal residuals"
   ]
  },
  {
   "cell_type": "code",
   "execution_count": 32,
   "id": "f363bd99-e394-419f-a831-5cadd8576942",
   "metadata": {},
   "outputs": [
    {
     "data": {
      "text/plain": [
       "0      1.700363\n",
       "1     -0.287317\n",
       "2     -0.678262\n",
       "3      0.521117\n",
       "4      0.652433\n",
       "         ...   \n",
       "195   -0.576956\n",
       "196   -1.265686\n",
       "197    0.730771\n",
       "198   -0.003409\n",
       "199    1.934511\n",
       "Length: 200, dtype: float64"
      ]
     },
     "execution_count": 32,
     "metadata": {},
     "output_type": "execute_result"
    }
   ],
   "source": [
    "resid_ancova = ancova.resid\n",
    "resid_ancova"
   ]
  },
  {
   "cell_type": "code",
   "execution_count": 30,
   "id": "a53d5c8c-053c-45c5-9d93-360e28cac252",
   "metadata": {},
   "outputs": [
    {
     "data": {
      "text/plain": [
       "(array([ 5., 12., 26., 45., 44., 31., 18., 12.,  4.,  3.]),\n",
       " array([-2.33179965, -1.80030077, -1.26880189, -0.73730301, -0.20580413,\n",
       "         0.32569475,  0.85719363,  1.38869251,  1.92019138,  2.45169026,\n",
       "         2.98318914]),\n",
       " <BarContainer object of 10 artists>)"
      ]
     },
     "execution_count": 30,
     "metadata": {},
     "output_type": "execute_result"
    },
    {
     "data": {
      "image/png": "[encoded data removed]",
      "text/plain": [
       "<Figure size 640x480 with 1 Axes>"
      ]
     },
     "metadata": {},
     "output_type": "display_data"
    }
   ],
   "source": [
    "plt.hist(ancova.resid)"
   ]
  },
  {
   "cell_type": "code",
   "execution_count": 36,
   "id": "3b19f77a-8c98-43c2-95c8-0e1a7d704db9",
   "metadata": {},
   "outputs": [
    {
     "data": {
      "text/plain": [
       "{'Jarque-Bera': 3.6742026015486595,\n",
       " 'JB_p_value': 0.1592784579304781,\n",
       " 'Skew': 0.3317100974911852,\n",
       " 'Kurtosis': 3.027891881890485}"
      ]
     },
     "execution_count": 36,
     "metadata": {},
     "output_type": "execute_result"
    }
   ],
   "source": [
    "test_result_names = ['Jarque-Bera', 'JB_p_value', 'Skew', 'Kurtosis']\n",
    "jb_test = sm.stats.stattools.jarque_bera(resid_ancova, axis=0)\n",
    "jb_results = dict(zip(test_result_names, jb_test))\n",
    "jb_results"
   ]
  },
  {
   "cell_type": "code",
   "execution_count": 33,
   "id": "cf200e69-b7fa-42ef-9699-c098429cbc40",
   "metadata": {},
   "outputs": [
    {
     "data": {
      "text/plain": [
       "ShapiroResult(statistic=0.9915061593055725, pvalue=0.2929510474205017)"
      ]
     },
     "execution_count": 33,
     "metadata": {},
     "output_type": "execute_result"
    }
   ],
   "source": [
    "sps.shapiro(resid_ancova)"
   ]
  },
  {
   "cell_type": "code",
   "execution_count": 35,
   "id": "d46c5e2a-a001-420e-b7ac-a6811a6aeaaa",
   "metadata": {},
   "outputs": [
    {
     "data": {
      "text/plain": [
       "NormaltestResult(statistic=3.850098994875369, pvalue=0.1458685365587373)"
      ]
     },
     "execution_count": 35,
     "metadata": {},
     "output_type": "execute_result"
    }
   ],
   "source": [
    "sps.normaltest(resid_ancova)"
   ]
  },
  {
   "cell_type": "markdown",
   "id": "8f639200-eaa4-4e3b-977a-a0980310a013",
   "metadata": {},
   "source": [
    "## Test for equal variances between groups"
   ]
  },
  {
   "cell_type": "code",
   "execution_count": 39,
   "id": "9d12302d-88b4-4a0b-9c43-4f7980a4baad",
   "metadata": {},
   "outputs": [
    {
     "data": {
      "text/plain": [
       "BartlettResult(statistic=0.05572210850387801, pvalue=0.8133897529039456)"
      ]
     },
     "execution_count": 39,
     "metadata": {},
     "output_type": "execute_result"
    }
   ],
   "source": [
    "#sps.bartlett(df_c[\"y\"], df_c[\"group\"])\n",
    "\n",
    "sps.bartlett(df[\"y1\"], df[\"y2\"])"
   ]
  },
  {
   "cell_type": "markdown",
   "id": "2acd2873-470a-45d9-8297-39112883caa1",
   "metadata": {},
   "source": [
    "# Z statistic"
   ]
  },
  {
   "cell_type": "markdown",
   "id": "918e13b4-0dd6-4cd6-af40-a04058f1f572",
   "metadata": {},
   "source": [
    "https://www.jstor.org/stable/2782277\n",
    "\n",
    "https://stats.stackexchange.com/questions/435644/is-there-a-method-to-look-for-significant-difference-between-two-linear-regressi"
   ]
  },
  {
   "cell_type": "markdown",
   "id": "d3ff7d50-e10d-4e62-b650-29d7506229c8",
   "metadata": {},
   "source": [
    "**Two Sample Z-test**\n",
    ">Null hypothesis: two population means are equal\n",
    ">* \n",
    "    \n",
    ">Inputs: \n",
    ">* dataset\n",
    "\n",
    ">Returns: \n",
    ">* \n",
    "\n",
    ">Assumptions:\n",
    ">* \n",
    "\n",
    "\n",
    "$$z = \\frac{(\\bar{x_1} - \\bar{x_2})}{\\sqrt{\\sigma_1^2/n_1 + \\sigma_2^2/n_2}}$$\n",
    "Standard error of the sample mean\n",
    "\n",
    "$$\\sigma_{\\bar{x}} = \\frac{\\sigma_x}{\\sqrt{n}}$$\n",
    "\n",
    "Z-statistic for model coefficients\n",
    "$$z = \\frac{(\\beta_1 - \\beta_2)}{\\sqrt{SE_1^2 + SE_2^2}}$$\n",
    "\n",
    "* $SE$ = standard error"
   ]
  },
  {
   "cell_type": "code",
   "execution_count": null,
   "id": "fae0b5be-2aa2-4675-be53-f55d243d24cf",
   "metadata": {},
   "outputs": [],
   "source": [
    "def zstat_coeff(b1, se1, b2, se2):\n",
    "    return ((b1-b2)/np.sqrt(se1**2 + se2**2)) "
   ]
  },
  {
   "cell_type": "code",
   "execution_count": null,
   "id": "43b8a98b-aaf5-45bd-bfdf-d0cec43d3ad8",
   "metadata": {},
   "outputs": [],
   "source": [
    "b1 = lm1_sm.params[0]\n",
    "se1 = lm1_sm.bse[0]\n",
    "b2 = lm2_sm.params[0]\n",
    "se2 = lm2_sm.bse[0]"
   ]
  },
  {
   "cell_type": "code",
   "execution_count": null,
   "id": "a4cffc89-a48b-4f5c-9788-5c7443906b7f",
   "metadata": {},
   "outputs": [],
   "source": [
    "p_value = 2*sps.norm.pdf(-abs(zstat_coeff(b1,se1,b2,se2)))\n",
    "p_value"
   ]
  },
  {
   "cell_type": "code",
   "execution_count": null,
   "id": "b6e32fa4-fbad-4619-a196-0d644d665f09",
   "metadata": {},
   "outputs": [],
   "source": [
    "p_value_c = 2*sps.norm.cdf(-abs(zstat_coeff(b1,se1,b2,se2)))\n",
    "p_value_c"
   ]
  },
  {
   "cell_type": "code",
   "execution_count": null,
   "id": "dd69dbb9-eb1c-464c-92ec-39f92ce80355",
   "metadata": {},
   "outputs": [],
   "source": [
    "# p_value = 2*pnorm(-abs(compare.coeff(b1,se1,b2,se2)))\n",
    "# p_value"
   ]
  },
  {
   "cell_type": "code",
   "execution_count": null,
   "id": "6f1c0fea-f457-44ef-a578-ff6fe3d03a48",
   "metadata": {},
   "outputs": [],
   "source": []
  },
  {
   "cell_type": "markdown",
   "id": "d077a109-8871-453d-9314-a70a936aeb5a",
   "metadata": {},
   "source": [
    "# Wald Test"
   ]
  },
  {
   "cell_type": "markdown",
   "id": "117ab9db-1382-472a-a532-c9e750f71e7c",
   "metadata": {},
   "source": [
    "https://en.wikipedia.org/wiki/Wald_test\n",
    "\n",
    "https://www.statology.org/wald-test-python/"
   ]
  },
  {
   "cell_type": "code",
   "execution_count": null,
   "id": "3ab0cb11-f682-459c-bbe7-ce2d5013491e",
   "metadata": {},
   "outputs": [],
   "source": [
    "lm_c = smf.ols(\"y1 ~ X1 + X2\", df).fit()\n",
    "results.summary()"
   ]
  },
  {
   "cell_type": "code",
   "execution_count": null,
   "id": "e9398ea1-0d91-42e2-a556-a27fd788569b",
   "metadata": {},
   "outputs": [],
   "source": [
    "results.wald_test_terms()"
   ]
  },
  {
   "cell_type": "code",
   "execution_count": null,
   "id": "56d0adfa-ccd8-4992-946c-cb3bd018204e",
   "metadata": {},
   "outputs": [],
   "source": [
    "# OLSResults.wald_test_terms(skip_single=False, extra_constraints=None, combine_terms=None, scalar=None)\n",
    "\n",
    "# ols = sm.regression.linear_model.OLS(X,y)\n",
    "ols = sm.regression.linear_model.OLS(\"y1 ~ X1 + X2\", df)\n",
    "# ols_res = ols.fit()\n",
    "# ols_res.wald_test_terms()\n",
    "\n",
    "#results = smf.ols('mpg ~ disp + carb + hp + cyl', df).fit()\n",
    "#results.wald_test('(hp = 0, cyl = 0)')\n",
    "\n",
    "# res_ols = ols(\"np.log(Days+1) ~ C(Duration, Sum)*C(Weight, Sum)\", data).fit()\n",
    "#res_ols.wald_test_terms()"
   ]
  },
  {
   "cell_type": "markdown",
   "id": "35210631-fcd9-480f-bad6-56d46a8dc328",
   "metadata": {},
   "source": [
    "# F-Test"
   ]
  },
  {
   "cell_type": "markdown",
   "id": "2f6402f8-442f-4b42-950c-4393673bbd3e",
   "metadata": {},
   "source": [
    "# T-Test"
   ]
  },
  {
   "cell_type": "code",
   "execution_count": null,
   "id": "50e26777-d425-4253-bf88-01a619d430e2",
   "metadata": {},
   "outputs": [],
   "source": []
  }
 ],
 "metadata": {
  "kernelspec": {
   "display_name": "Python 3 (ipykernel)",
   "language": "python",
   "name": "python3"
  },
  "language_info": {
   "codemirror_mode": {
    "name": "ipython",
    "version": 3
   },
   "file_extension": ".py",
   "mimetype": "text/x-python",
   "name": "python",
   "nbconvert_exporter": "python",
   "pygments_lexer": "ipython3",
   "version": "3.9.13"
  },
  "toc-autonumbering": true
 },
 "nbformat": 4,
 "nbformat_minor": 5
}
